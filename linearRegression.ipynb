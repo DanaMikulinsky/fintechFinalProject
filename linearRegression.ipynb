{
 "cells": [
  {
   "metadata": {
    "ExecuteTime": {
     "end_time": "2024-09-07T17:31:09.636627Z",
     "start_time": "2024-09-07T17:31:09.631010Z"
    }
   },
   "cell_type": "code",
   "source": [
    "import pandas as pd\n",
    "from sklearn.linear_model import LinearRegression\n",
    "from sklearn.model_selection import train_test_split\n",
    "import numpy as np\n",
    "from statsmodels.tsa.arima.model import ARIMA\n",
    "import matplotlib.pyplot as plt\n",
    "from sklearn.metrics import mean_squared_error, mean_absolute_error, r2_score\n",
    "import pickle as pkl"
   ],
   "id": "be24be743d0431c3",
   "outputs": [],
   "execution_count": 6
  },
  {
   "cell_type": "code",
   "id": "initial_id",
   "metadata": {
    "collapsed": true,
    "ExecuteTime": {
     "end_time": "2024-09-07T17:31:09.662826Z",
     "start_time": "2024-09-07T17:31:09.636627Z"
    }
   },
   "source": [
    "# Load your dataset (adjust the path if needed)\n",
    "df = pd.read_csv('all_data.csv')\n",
    "# Set the Date column as the index\n",
    "df['Date'] = pd.to_datetime(df['Date'])\n",
    "df.set_index('Date', inplace=True)"
   ],
   "outputs": [],
   "execution_count": 7
  },
  {
   "metadata": {
    "ExecuteTime": {
     "end_time": "2024-09-07T17:31:09.690347Z",
     "start_time": "2024-09-07T17:31:09.662826Z"
    }
   },
   "cell_type": "code",
   "source": [
    "X = df.drop(columns=['gold_price_to_predict'])\n",
    "\n",
    "# Extract y\n",
    "y = df['gold_price_to_predict']\n",
    "\n",
    "# Perform the train-test split\n",
    "X_train, X_test, y_train, y_test = train_test_split(X, y, test_size=0.2, shuffle=False)\n",
    "X_train_dropped = X_train.dropna()\n",
    "y_train_dropped = y_train[X_train_dropped.index]\n",
    "\n",
    "# Drop rows with NaN in X_test and y_test\n",
    "X_test_dropped = X_test.dropna()\n",
    "y_test_dropped = y_test.loc[X_test_dropped.index]  # Drop NaNs based on indices in X_test_dropped\n",
    "\n",
    "# Ensure that y_test_dropped does not contain NaN values\n",
    "X_test_dropped = X_test_dropped.dropna()\n",
    "y_test_dropped = y_test_dropped.dropna()\n",
    "\n",
    "# Check if indices still match after dropping NaNs\n",
    "common_index = X_test_dropped.index.intersection(y_test_dropped.index)\n",
    "X_test_dropped = X_test_dropped.loc[common_index]\n",
    "y_test_dropped = y_test_dropped.loc[common_index]\n",
    "# Initialize and train the model\n",
    "model = LinearRegression()\n",
    "model.fit(X_train_dropped, y_train_dropped)"
   ],
   "id": "edc4dcff82ee6d9e",
   "outputs": [
    {
     "data": {
      "text/plain": [
       "LinearRegression()"
      ],
      "text/html": [
       "<style>#sk-container-id-2 {color: black;}#sk-container-id-2 pre{padding: 0;}#sk-container-id-2 div.sk-toggleable {background-color: white;}#sk-container-id-2 label.sk-toggleable__label {cursor: pointer;display: block;width: 100%;margin-bottom: 0;padding: 0.3em;box-sizing: border-box;text-align: center;}#sk-container-id-2 label.sk-toggleable__label-arrow:before {content: \"▸\";float: left;margin-right: 0.25em;color: #696969;}#sk-container-id-2 label.sk-toggleable__label-arrow:hover:before {color: black;}#sk-container-id-2 div.sk-estimator:hover label.sk-toggleable__label-arrow:before {color: black;}#sk-container-id-2 div.sk-toggleable__content {max-height: 0;max-width: 0;overflow: hidden;text-align: left;background-color: #f0f8ff;}#sk-container-id-2 div.sk-toggleable__content pre {margin: 0.2em;color: black;border-radius: 0.25em;background-color: #f0f8ff;}#sk-container-id-2 input.sk-toggleable__control:checked~div.sk-toggleable__content {max-height: 200px;max-width: 100%;overflow: auto;}#sk-container-id-2 input.sk-toggleable__control:checked~label.sk-toggleable__label-arrow:before {content: \"▾\";}#sk-container-id-2 div.sk-estimator input.sk-toggleable__control:checked~label.sk-toggleable__label {background-color: #d4ebff;}#sk-container-id-2 div.sk-label input.sk-toggleable__control:checked~label.sk-toggleable__label {background-color: #d4ebff;}#sk-container-id-2 input.sk-hidden--visually {border: 0;clip: rect(1px 1px 1px 1px);clip: rect(1px, 1px, 1px, 1px);height: 1px;margin: -1px;overflow: hidden;padding: 0;position: absolute;width: 1px;}#sk-container-id-2 div.sk-estimator {font-family: monospace;background-color: #f0f8ff;border: 1px dotted black;border-radius: 0.25em;box-sizing: border-box;margin-bottom: 0.5em;}#sk-container-id-2 div.sk-estimator:hover {background-color: #d4ebff;}#sk-container-id-2 div.sk-parallel-item::after {content: \"\";width: 100%;border-bottom: 1px solid gray;flex-grow: 1;}#sk-container-id-2 div.sk-label:hover label.sk-toggleable__label {background-color: #d4ebff;}#sk-container-id-2 div.sk-serial::before {content: \"\";position: absolute;border-left: 1px solid gray;box-sizing: border-box;top: 0;bottom: 0;left: 50%;z-index: 0;}#sk-container-id-2 div.sk-serial {display: flex;flex-direction: column;align-items: center;background-color: white;padding-right: 0.2em;padding-left: 0.2em;position: relative;}#sk-container-id-2 div.sk-item {position: relative;z-index: 1;}#sk-container-id-2 div.sk-parallel {display: flex;align-items: stretch;justify-content: center;background-color: white;position: relative;}#sk-container-id-2 div.sk-item::before, #sk-container-id-2 div.sk-parallel-item::before {content: \"\";position: absolute;border-left: 1px solid gray;box-sizing: border-box;top: 0;bottom: 0;left: 50%;z-index: -1;}#sk-container-id-2 div.sk-parallel-item {display: flex;flex-direction: column;z-index: 1;position: relative;background-color: white;}#sk-container-id-2 div.sk-parallel-item:first-child::after {align-self: flex-end;width: 50%;}#sk-container-id-2 div.sk-parallel-item:last-child::after {align-self: flex-start;width: 50%;}#sk-container-id-2 div.sk-parallel-item:only-child::after {width: 0;}#sk-container-id-2 div.sk-dashed-wrapped {border: 1px dashed gray;margin: 0 0.4em 0.5em 0.4em;box-sizing: border-box;padding-bottom: 0.4em;background-color: white;}#sk-container-id-2 div.sk-label label {font-family: monospace;font-weight: bold;display: inline-block;line-height: 1.2em;}#sk-container-id-2 div.sk-label-container {text-align: center;}#sk-container-id-2 div.sk-container {/* jupyter's `normalize.less` sets `[hidden] { display: none; }` but bootstrap.min.css set `[hidden] { display: none !important; }` so we also need the `!important` here to be able to override the default hidden behavior on the sphinx rendered scikit-learn.org. See: https://github.com/scikit-learn/scikit-learn/issues/21755 */display: inline-block !important;position: relative;}#sk-container-id-2 div.sk-text-repr-fallback {display: none;}</style><div id=\"sk-container-id-2\" class=\"sk-top-container\"><div class=\"sk-text-repr-fallback\"><pre>LinearRegression()</pre><b>In a Jupyter environment, please rerun this cell to show the HTML representation or trust the notebook. <br />On GitHub, the HTML representation is unable to render, please try loading this page with nbviewer.org.</b></div><div class=\"sk-container\" hidden><div class=\"sk-item\"><div class=\"sk-estimator sk-toggleable\"><input class=\"sk-toggleable__control sk-hidden--visually\" id=\"sk-estimator-id-2\" type=\"checkbox\" checked><label for=\"sk-estimator-id-2\" class=\"sk-toggleable__label sk-toggleable__label-arrow\">LinearRegression</label><div class=\"sk-toggleable__content\"><pre>LinearRegression()</pre></div></div></div></div></div>"
      ]
     },
     "execution_count": 8,
     "metadata": {},
     "output_type": "execute_result"
    }
   ],
   "execution_count": 8
  },
  {
   "metadata": {
    "ExecuteTime": {
     "end_time": "2024-09-07T17:31:09.726464Z",
     "start_time": "2024-09-07T17:31:09.693039Z"
    }
   },
   "cell_type": "code",
   "source": [
    "X_train_dropped = X_train.dropna()\n",
    "y_train_dropped = y_train[X_train_dropped.index]\n",
    "\n",
    "# Drop rows with NaN in X_test and y_test\n",
    "X_test_dropped = X_test.dropna()\n",
    "y_test_dropped = y_test.loc[X_test_dropped.index]  # Drop NaNs based on indices in X_test_dropped\n",
    "\n",
    "# Ensure that y_test_dropped does not contain NaN values\n",
    "X_test_dropped = X_test_dropped.dropna()\n",
    "y_test_dropped = y_test_dropped.dropna()\n",
    "\n",
    "# Check if indices still match after dropping NaNs\n",
    "common_index = X_test_dropped.index.intersection(y_test_dropped.index)\n",
    "X_test_dropped = X_test_dropped.loc[common_index]\n",
    "y_test_dropped = y_test_dropped.loc[common_index]\n",
    "# Initialize and train the model\n",
    "model = LinearRegression()\n",
    "model.fit(X_train_dropped, y_train_dropped)\n",
    "\n",
    "# Predict on test data\n",
    "y_pred = model.predict(X_test_dropped)\n",
    "pred_index = X_test_dropped.index\n",
    "\n",
    "# Create a DataFrame for predictions\n",
    "linear_reg_predictions_df = pd.DataFrame(y_pred, index=pred_index, columns=['Predictions'])\n",
    "# Assuming test_data is the DataFrame with actual values and it has the same index as X_test_dropped\n",
    "# Combine predictions and actual test data\n",
    "test_data = y_test_dropped.to_frame()  # Ensure test_data is a DataFrame\n",
    "linear_reg_predictions_df = test_data.join(linear_reg_predictions_df)\n",
    "linear_reg_predictions_df.index = linear_reg_predictions_df.index + pd.DateOffset(days=1)\n",
    "\n",
    "# Evaluate the model\n",
    "mse = mean_squared_error(y_test_dropped, y_pred)\n",
    "rmse = np.sqrt(mse)\n",
    "r2 = r2_score(y_test_dropped, y_pred)\n",
    "mae = mean_absolute_error(y_test_dropped, y_pred)\n",
    "\n",
    "print(\"Linear Regression Model Summary\")\n",
    "print(f\"Intercept: {model.intercept_}\")\n",
    "print(f\"Coefficients: {model.coef_}\")\n",
    "print(f\"Mean Squared Error (MSE): {mse}\")\n",
    "print(f\"Mean Absolute Error (MAE): {mae}\")\n",
    "print(f\"Root Mean Squared Error (RMSE): {rmse}\")\n",
    "print(f\"R-squared (R2): {r2}\")"
   ],
   "id": "dcacdf878bf2cf36",
   "outputs": [
    {
     "name": "stdout",
     "output_type": "stream",
     "text": [
      "Linear Regression Model Summary\n",
      "Intercept: 0.8942773132619095\n",
      "Coefficients: [-1.27783821e-01 -9.97125887e-02  1.64038437e-01  6.44011822e-02\n",
      " -2.11175129e-07  1.20108213e-02  1.77980622e-02 -1.33847945e-01\n",
      "  9.26416496e-02  5.20095931e-01  5.20095931e-01  7.48899973e-09\n",
      "  1.23358993e-03 -1.85111747e-04 -1.62195633e-03  7.58639416e-04\n",
      " -5.72889832e-03 -1.61241491e-01  1.52980023e-01  2.70671242e-01\n",
      " -3.10323340e-01 -3.37250993e-06  2.13729826e-02  1.40609082e-01\n",
      " -2.80037533e-01  3.76724489e-02  8.53044698e-02 -1.46524877e-01\n",
      "  1.65354358e-02 -1.28223964e-02  0.00000000e+00 -4.28119139e-02\n",
      "  2.68295478e-02 -3.45463634e-03]\n",
      "Mean Squared Error (MSE): 2.674395522565233\n",
      "Mean Absolute Error (MAE): 1.200884343136175\n",
      "Root Mean Squared Error (RMSE): 1.635357918794914\n",
      "R-squared (R2): 0.9934277765317894\n"
     ]
    }
   ],
   "execution_count": 9
  },
  {
   "metadata": {
    "ExecuteTime": {
     "end_time": "2024-09-07T17:31:09.734083Z",
     "start_time": "2024-09-07T17:31:09.727470Z"
    }
   },
   "cell_type": "code",
   "source": [
    "with open('modelResults/linear_reg_predictions_df', 'wb') as file:\n",
    "    # Serialize the object and write it to the file\n",
    "    pkl.dump(linear_reg_predictions_df, file)"
   ],
   "id": "3c94190109f49a7c",
   "outputs": [],
   "execution_count": 10
  },
  {
   "metadata": {},
   "cell_type": "code",
   "outputs": [],
   "execution_count": null,
   "source": "",
   "id": "671fad331dc3ddfb"
  }
 ],
 "metadata": {
  "kernelspec": {
   "display_name": "Python 3",
   "language": "python",
   "name": "python3"
  },
  "language_info": {
   "codemirror_mode": {
    "name": "ipython",
    "version": 2
   },
   "file_extension": ".py",
   "mimetype": "text/x-python",
   "name": "python",
   "nbconvert_exporter": "python",
   "pygments_lexer": "ipython2",
   "version": "2.7.6"
  }
 },
 "nbformat": 4,
 "nbformat_minor": 5
}
