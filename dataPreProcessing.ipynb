{
 "cells": [
  {
   "cell_type": "code",
   "id": "initial_id",
   "metadata": {
    "collapsed": true,
    "ExecuteTime": {
     "end_time": "2024-11-08T20:02:18.670132Z",
     "start_time": "2024-11-08T20:02:18.662710Z"
    }
   },
   "source": [
    "import pandas as pd"
   ],
   "outputs": [],
   "execution_count": 191
  },
  {
   "metadata": {},
   "cell_type": "markdown",
   "source": [
    "# Preprocessing the raw data"
   ],
   "id": "99377620a092f855"
  },
  {
   "metadata": {
    "ExecuteTime": {
     "end_time": "2024-11-08T20:02:18.741885Z",
     "start_time": "2024-11-08T20:02:18.681632Z"
    }
   },
   "cell_type": "code",
   "source": [
    "crude_oil_df = pd.read_csv('data collection/Crude Oil WTI Futures Historical Data - daily data 10 years.csv')\n",
    "gold_df = pd.read_csv('data collection/SPDR Gold Shares (GLD) - yahoo finance, 10 years.csv')\n",
    "sp500_df = pd.read_csv('data collection/S&P 500 Historical Data - daily data 10 years.csv')\n",
    "silver_df = pd.read_csv('data collection/Silver Futures Historical Data - daily data 10 years.csv')\n",
    "corn_df = pd.read_csv('data collection/US Corn Futures Historical Data - daily data 10 years.csv')\n",
    "dollar_rate_df = pd.read_csv('data collection/US Dollar Index Historical Data - daily data 10 years.csv')\n",
    "#soybean_df = pd.read_csv('data collection/US Soybeans Futures Historical Data - daily data 10 years.csv')\n",
    "\n",
    "cpi_df = pd.read_csv('data collection/Customer Price Index.csv')\n",
    "cpi_df['DATE'] = pd.to_datetime(cpi_df['DATE'], format='%Y-%m-%d')\n",
    "cpi_df = cpi_df[cpi_df['DATE'] >= '2013-01']\n",
    "cpi_df.rename(columns={'CPIAUCSL':'CPI', 'DATE':'Date'}, inplace=True)\n",
    "cpi_df['CPI'] = cpi_df['CPI'].shift(2)\n",
    "ppi_df = pd.read_csv('data collection/Producer Price Index.csv')\n",
    "ppi_df['DATE'] = pd.to_datetime(ppi_df['DATE'], format='%Y-%m-%d')\n",
    "ppi_df.rename(columns={'PPIACO':'PPI', 'DATE':'Date'}, inplace=True)\n",
    "ppi_df['PPI'] = ppi_df['PPI'].shift(2)\n",
    "m1sl_df = pd.read_csv('data collection/M1SL - Money Supply, all data.csv')\n",
    "m1sl_df['DATE'] = pd.to_datetime(m1sl_df['DATE'], format='%Y-%m-%d')\n",
    "m1sl_df = m1sl_df[m1sl_df['DATE'] >= '2013-01']\n",
    "# shifting by one\n",
    "m1sl_df['M1SL'] = m1sl_df['M1SL'].shift(2)\n",
    "m1sl_df.rename(columns={'DATE':'Date'}, inplace=True)\n",
    "dfs_dict = {\n",
    "    'crude_oil_df': crude_oil_df,\n",
    "    'gold_df': gold_df,\n",
    "    'sp500_df': sp500_df,\n",
    "    'silver_df': silver_df,\n",
    "    'dollar_rate_df': dollar_rate_df,\n",
    "    'cpi_df': cpi_df,\n",
    "    'ppi_df': ppi_df,\n",
    "    'm1sl_df': m1sl_df\n",
    "}"
   ],
   "id": "1bc37106fab9e33",
   "outputs": [],
   "execution_count": 192
  },
  {
   "metadata": {
    "ExecuteTime": {
     "end_time": "2024-11-08T20:02:18.777410Z",
     "start_time": "2024-11-08T20:02:18.744448Z"
    }
   },
   "cell_type": "code",
   "source": [
    "def replace_symbols(value):\n",
    "    if isinstance(value, (int, float, complex)):\n",
    "        return value\n",
    "    if isinstance(value, str):\n",
    "        if '%' in value:\n",
    "            return float(value.replace('%', ''))\n",
    "        elif 'K' in value:\n",
    "            return float(value.replace('K', '')) * 1000\n",
    "        elif 'M' in value:\n",
    "            return float(value.replace('M', '')) * 1000000\n",
    "        elif ',' in value:\n",
    "            return float(value.replace(',', ''))\n",
    "    return value\n",
    "\n",
    "for df_name, df in dfs_dict.items():\n",
    "    try:\n",
    "        # Convert all columns except 'Date' using replace_symbols\n",
    "        for col in df.columns:\n",
    "            if col != 'Date':\n",
    "                df[col] = df[col].apply(replace_symbols)\n",
    "    \n",
    "    except Exception as e:\n",
    "        print(f\"Error with {df_name}: {e}\")\n",
    "        continue"
   ],
   "id": "25f1d39d33770afa",
   "outputs": [],
   "execution_count": 193
  },
  {
   "metadata": {
    "ExecuteTime": {
     "end_time": "2024-11-08T20:02:18.813529Z",
     "start_time": "2024-11-08T20:02:18.778281Z"
    }
   },
   "cell_type": "code",
   "source": [
    "for df in dfs_dict.values():\n",
    "    df['Date'] = pd.to_datetime(df['Date'])\n",
    "\n",
    "# Rename columns to include dataframe name as prefix\n",
    "for name, df in dfs_dict.items():\n",
    "    prefix = name.replace('_df', '')  # Remove '_df' from dataframe name\n",
    "    df.rename(columns=lambda x: f\"{prefix}_{x}\" if x != 'Date' else x, inplace=True)\n",
    "\n",
    "# Start with the first dataframe\n",
    "merged_df = list(dfs_dict.values())[0]\n",
    "print(merged_df)\n",
    "# Iteratively merge remaining dataframes\n",
    "for df in list(dfs_dict.values())[1:]:\n",
    "    merged_df = pd.merge(merged_df, df, on='Date', how='outer')\n",
    "    \n",
    "# Ensure the 'Date' column is in datetime format\n",
    "merged_df['Date'] = pd.to_datetime(merged_df['Date'])\n",
    "merged_df = merged_df.sort_values(by='Date', ascending=True)\n"
   ],
   "id": "75ce5214ce5db080",
   "outputs": [
    {
     "name": "stdout",
     "output_type": "stream",
     "text": [
      "           Date  crude_oil_Price  crude_oil_Open  crude_oil_High  \\\n",
      "0    2024-07-29            75.56           77.28           77.69   \n",
      "1    2024-07-28            77.27           77.47           77.48   \n",
      "2    2024-07-26            77.16           78.35           78.60   \n",
      "3    2024-07-25            78.28           77.50           78.47   \n",
      "4    2024-07-24            77.59           77.45           78.19   \n",
      "...         ...              ...             ...             ...   \n",
      "3039 2013-01-08            93.15           93.32           93.80   \n",
      "3040 2013-01-07            93.19           93.21           93.35   \n",
      "3041 2013-01-04            93.09           92.86           93.21   \n",
      "3042 2013-01-03            92.92           92.91           93.30   \n",
      "3043 2013-01-02            93.12           91.78           93.87   \n",
      "\n",
      "      crude_oil_Low  crude_oil_Vol.  crude_oil_Change %  \n",
      "0             75.52             NaN               -2.21  \n",
      "1             77.22             NaN                0.14  \n",
      "2             76.19        365120.0               -1.43  \n",
      "3             76.04        457290.0                0.89  \n",
      "4             76.98        355970.0                0.82  \n",
      "...             ...             ...                 ...  \n",
      "3039          92.67        195870.0               -0.04  \n",
      "3040          92.42        166290.0                0.11  \n",
      "3041          91.52        210750.0                0.18  \n",
      "3042          92.49        189810.0               -0.21  \n",
      "3043          91.56        203870.0                1.42  \n",
      "\n",
      "[3044 rows x 7 columns]\n"
     ]
    }
   ],
   "execution_count": 194
  },
  {
   "metadata": {
    "ExecuteTime": {
     "end_time": "2024-11-08T20:02:18.824878Z",
     "start_time": "2024-11-08T20:02:18.815115Z"
    }
   },
   "cell_type": "code",
   "source": [
    "# Filter the DataFrame from 2014 onwards\n",
    "merged_df = merged_df[merged_df['Date'].dt.year >= 2014]\n",
    "cleaned_df = merged_df.dropna(axis=1, how='all')\n",
    "# Display the filtered DataFrame\n",
    "print(merged_df)"
   ],
   "id": "6db27e895964a3e5",
   "outputs": [
    {
     "name": "stdout",
     "output_type": "stream",
     "text": [
      "           Date  crude_oil_Price  crude_oil_Open  crude_oil_High  \\\n",
      "264  2014-01-01            98.70           98.61           98.76   \n",
      "265  2014-01-02            95.44           98.50           98.97   \n",
      "266  2014-01-03            93.96           95.47           95.74   \n",
      "267  2014-01-06            93.43           94.18           94.59   \n",
      "268  2014-01-07            93.67           93.60           94.22   \n",
      "...         ...              ...             ...             ...   \n",
      "3127 2024-08-26              NaN             NaN             NaN   \n",
      "3128 2024-08-27              NaN             NaN             NaN   \n",
      "3129 2024-08-28              NaN             NaN             NaN   \n",
      "3130 2024-08-29              NaN             NaN             NaN   \n",
      "3131 2024-08-30              NaN             NaN             NaN   \n",
      "\n",
      "      crude_oil_Low  crude_oil_Vol.  crude_oil_Change %   gold_Open  \\\n",
      "264           98.54             NaN                0.28         NaN   \n",
      "265           95.34        251250.0               -3.30  117.930000   \n",
      "266           93.86        215520.0               -1.55  118.639999   \n",
      "267           93.20        189380.0               -0.56  119.760002   \n",
      "268           93.35        177180.0                0.26  118.459999   \n",
      "...             ...             ...                 ...         ...   \n",
      "3127            NaN             NaN                 NaN  233.449997   \n",
      "3128            NaN             NaN                 NaN  231.690002   \n",
      "3129            NaN             NaN                 NaN  232.000000   \n",
      "3130            NaN             NaN                 NaN  231.949997   \n",
      "3131            NaN             NaN                 NaN  232.529999   \n",
      "\n",
      "       gold_High    gold_Low  ...  silver_Change %  dollar_rate_Price  \\\n",
      "264          NaN         NaN  ...              NaN              80.03   \n",
      "265   118.730003  117.750000  ...             3.91              80.63   \n",
      "266   119.620003  118.589996  ...             0.41              80.79   \n",
      "267   120.389999  117.110001  ...            -0.53              80.65   \n",
      "268   118.919998  118.129997  ...            -1.57              80.83   \n",
      "...          ...         ...  ...              ...                ...   \n",
      "3127  233.500000  232.059998  ...              NaN                NaN   \n",
      "3128  233.470001  231.570007  ...              NaN                NaN   \n",
      "3129  232.020004  230.729996  ...              NaN                NaN   \n",
      "3130  233.610001  231.919998  ...              NaN                NaN   \n",
      "3131  232.860001  230.550003  ...              NaN                NaN   \n",
      "\n",
      "      dollar_rate_Open  dollar_rate_High  dollar_rate_Low  dollar_rate_Vol.  \\\n",
      "264              80.21             80.24            80.10               NaN   \n",
      "265              80.12             80.71            80.08               NaN   \n",
      "266              80.57             80.89            80.49               NaN   \n",
      "267              80.86             80.91            80.54               NaN   \n",
      "268              80.69             80.95            80.60               NaN   \n",
      "...                ...               ...              ...               ...   \n",
      "3127               NaN               NaN              NaN               NaN   \n",
      "3128               NaN               NaN              NaN               NaN   \n",
      "3129               NaN               NaN              NaN               NaN   \n",
      "3130               NaN               NaN              NaN               NaN   \n",
      "3131               NaN               NaN              NaN               NaN   \n",
      "\n",
      "      dollar_rate_Change %  cpi_CPI  ppi_PPI  m1sl_M1SL  \n",
      "264                   0.00    234.1    201.2     2638.8  \n",
      "265                   0.75      NaN      NaN        NaN  \n",
      "266                   0.20      NaN      NaN        NaN  \n",
      "267                  -0.17      NaN      NaN        NaN  \n",
      "268                   0.22      NaN      NaN        NaN  \n",
      "...                    ...      ...      ...        ...  \n",
      "3127                   NaN      NaN      NaN        NaN  \n",
      "3128                   NaN      NaN      NaN        NaN  \n",
      "3129                   NaN      NaN      NaN        NaN  \n",
      "3130                   NaN      NaN      NaN        NaN  \n",
      "3131                   NaN      NaN      NaN        NaN  \n",
      "\n",
      "[2868 rows x 34 columns]\n"
     ]
    }
   ],
   "execution_count": 195
  },
  {
   "cell_type": "code",
   "outputs": [
    {
     "data": {
      "text/plain": "           Date  crude_oil_Price  crude_oil_Open  crude_oil_High  \\\n264  2014-01-01            98.70           98.61           98.76   \n265  2014-01-02            95.44           98.50           98.97   \n266  2014-01-03            93.96           95.47           95.74   \n267  2014-01-06            93.43           94.18           94.59   \n268  2014-01-07            93.67           93.60           94.22   \n...         ...              ...             ...             ...   \n3127 2024-08-26              NaN             NaN             NaN   \n3128 2024-08-27              NaN             NaN             NaN   \n3129 2024-08-28              NaN             NaN             NaN   \n3130 2024-08-29              NaN             NaN             NaN   \n3131 2024-08-30              NaN             NaN             NaN   \n\n      crude_oil_Low  crude_oil_Vol.  crude_oil_Change %   gold_Open  \\\n264           98.54             NaN                0.28         NaN   \n265           95.34        251250.0               -3.30  117.930000   \n266           93.86        215520.0               -1.55  118.639999   \n267           93.20        189380.0               -0.56  119.760002   \n268           93.35        177180.0                0.26  118.459999   \n...             ...             ...                 ...         ...   \n3127            NaN             NaN                 NaN  233.449997   \n3128            NaN             NaN                 NaN  231.690002   \n3129            NaN             NaN                 NaN  232.000000   \n3130            NaN             NaN                 NaN  231.949997   \n3131            NaN             NaN                 NaN  232.529999   \n\n       gold_High    gold_Low  ...  silver_Change %  dollar_rate_Price  \\\n264          NaN         NaN  ...              NaN              80.03   \n265   118.730003  117.750000  ...             3.91              80.63   \n266   119.620003  118.589996  ...             0.41              80.79   \n267   120.389999  117.110001  ...            -0.53              80.65   \n268   118.919998  118.129997  ...            -1.57              80.83   \n...          ...         ...  ...              ...                ...   \n3127  233.500000  232.059998  ...              NaN                NaN   \n3128  233.470001  231.570007  ...              NaN                NaN   \n3129  232.020004  230.729996  ...              NaN                NaN   \n3130  233.610001  231.919998  ...              NaN                NaN   \n3131  232.860001  230.550003  ...              NaN                NaN   \n\n      dollar_rate_Open  dollar_rate_High  dollar_rate_Low  dollar_rate_Vol.  \\\n264              80.21             80.24            80.10               NaN   \n265              80.12             80.71            80.08               NaN   \n266              80.57             80.89            80.49               NaN   \n267              80.86             80.91            80.54               NaN   \n268              80.69             80.95            80.60               NaN   \n...                ...               ...              ...               ...   \n3127               NaN               NaN              NaN               NaN   \n3128               NaN               NaN              NaN               NaN   \n3129               NaN               NaN              NaN               NaN   \n3130               NaN               NaN              NaN               NaN   \n3131               NaN               NaN              NaN               NaN   \n\n      dollar_rate_Change %  cpi_CPI  ppi_PPI  m1sl_M1SL  \n264                   0.00    234.1    201.2     2638.8  \n265                   0.75      NaN      NaN        NaN  \n266                   0.20      NaN      NaN        NaN  \n267                  -0.17      NaN      NaN        NaN  \n268                   0.22      NaN      NaN        NaN  \n...                    ...      ...      ...        ...  \n3127                   NaN      NaN      NaN        NaN  \n3128                   NaN      NaN      NaN        NaN  \n3129                   NaN      NaN      NaN        NaN  \n3130                   NaN      NaN      NaN        NaN  \n3131                   NaN      NaN      NaN        NaN  \n\n[2868 rows x 34 columns]",
      "text/html": "<div>\n<style scoped>\n    .dataframe tbody tr th:only-of-type {\n        vertical-align: middle;\n    }\n\n    .dataframe tbody tr th {\n        vertical-align: top;\n    }\n\n    .dataframe thead th {\n        text-align: right;\n    }\n</style>\n<table border=\"1\" class=\"dataframe\">\n  <thead>\n    <tr style=\"text-align: right;\">\n      <th></th>\n      <th>Date</th>\n      <th>crude_oil_Price</th>\n      <th>crude_oil_Open</th>\n      <th>crude_oil_High</th>\n      <th>crude_oil_Low</th>\n      <th>crude_oil_Vol.</th>\n      <th>crude_oil_Change %</th>\n      <th>gold_Open</th>\n      <th>gold_High</th>\n      <th>gold_Low</th>\n      <th>...</th>\n      <th>silver_Change %</th>\n      <th>dollar_rate_Price</th>\n      <th>dollar_rate_Open</th>\n      <th>dollar_rate_High</th>\n      <th>dollar_rate_Low</th>\n      <th>dollar_rate_Vol.</th>\n      <th>dollar_rate_Change %</th>\n      <th>cpi_CPI</th>\n      <th>ppi_PPI</th>\n      <th>m1sl_M1SL</th>\n    </tr>\n  </thead>\n  <tbody>\n    <tr>\n      <th>264</th>\n      <td>2014-01-01</td>\n      <td>98.70</td>\n      <td>98.61</td>\n      <td>98.76</td>\n      <td>98.54</td>\n      <td>NaN</td>\n      <td>0.28</td>\n      <td>NaN</td>\n      <td>NaN</td>\n      <td>NaN</td>\n      <td>...</td>\n      <td>NaN</td>\n      <td>80.03</td>\n      <td>80.21</td>\n      <td>80.24</td>\n      <td>80.10</td>\n      <td>NaN</td>\n      <td>0.00</td>\n      <td>234.1</td>\n      <td>201.2</td>\n      <td>2638.8</td>\n    </tr>\n    <tr>\n      <th>265</th>\n      <td>2014-01-02</td>\n      <td>95.44</td>\n      <td>98.50</td>\n      <td>98.97</td>\n      <td>95.34</td>\n      <td>251250.0</td>\n      <td>-3.30</td>\n      <td>117.930000</td>\n      <td>118.730003</td>\n      <td>117.750000</td>\n      <td>...</td>\n      <td>3.91</td>\n      <td>80.63</td>\n      <td>80.12</td>\n      <td>80.71</td>\n      <td>80.08</td>\n      <td>NaN</td>\n      <td>0.75</td>\n      <td>NaN</td>\n      <td>NaN</td>\n      <td>NaN</td>\n    </tr>\n    <tr>\n      <th>266</th>\n      <td>2014-01-03</td>\n      <td>93.96</td>\n      <td>95.47</td>\n      <td>95.74</td>\n      <td>93.86</td>\n      <td>215520.0</td>\n      <td>-1.55</td>\n      <td>118.639999</td>\n      <td>119.620003</td>\n      <td>118.589996</td>\n      <td>...</td>\n      <td>0.41</td>\n      <td>80.79</td>\n      <td>80.57</td>\n      <td>80.89</td>\n      <td>80.49</td>\n      <td>NaN</td>\n      <td>0.20</td>\n      <td>NaN</td>\n      <td>NaN</td>\n      <td>NaN</td>\n    </tr>\n    <tr>\n      <th>267</th>\n      <td>2014-01-06</td>\n      <td>93.43</td>\n      <td>94.18</td>\n      <td>94.59</td>\n      <td>93.20</td>\n      <td>189380.0</td>\n      <td>-0.56</td>\n      <td>119.760002</td>\n      <td>120.389999</td>\n      <td>117.110001</td>\n      <td>...</td>\n      <td>-0.53</td>\n      <td>80.65</td>\n      <td>80.86</td>\n      <td>80.91</td>\n      <td>80.54</td>\n      <td>NaN</td>\n      <td>-0.17</td>\n      <td>NaN</td>\n      <td>NaN</td>\n      <td>NaN</td>\n    </tr>\n    <tr>\n      <th>268</th>\n      <td>2014-01-07</td>\n      <td>93.67</td>\n      <td>93.60</td>\n      <td>94.22</td>\n      <td>93.35</td>\n      <td>177180.0</td>\n      <td>0.26</td>\n      <td>118.459999</td>\n      <td>118.919998</td>\n      <td>118.129997</td>\n      <td>...</td>\n      <td>-1.57</td>\n      <td>80.83</td>\n      <td>80.69</td>\n      <td>80.95</td>\n      <td>80.60</td>\n      <td>NaN</td>\n      <td>0.22</td>\n      <td>NaN</td>\n      <td>NaN</td>\n      <td>NaN</td>\n    </tr>\n    <tr>\n      <th>...</th>\n      <td>...</td>\n      <td>...</td>\n      <td>...</td>\n      <td>...</td>\n      <td>...</td>\n      <td>...</td>\n      <td>...</td>\n      <td>...</td>\n      <td>...</td>\n      <td>...</td>\n      <td>...</td>\n      <td>...</td>\n      <td>...</td>\n      <td>...</td>\n      <td>...</td>\n      <td>...</td>\n      <td>...</td>\n      <td>...</td>\n      <td>...</td>\n      <td>...</td>\n      <td>...</td>\n    </tr>\n    <tr>\n      <th>3127</th>\n      <td>2024-08-26</td>\n      <td>NaN</td>\n      <td>NaN</td>\n      <td>NaN</td>\n      <td>NaN</td>\n      <td>NaN</td>\n      <td>NaN</td>\n      <td>233.449997</td>\n      <td>233.500000</td>\n      <td>232.059998</td>\n      <td>...</td>\n      <td>NaN</td>\n      <td>NaN</td>\n      <td>NaN</td>\n      <td>NaN</td>\n      <td>NaN</td>\n      <td>NaN</td>\n      <td>NaN</td>\n      <td>NaN</td>\n      <td>NaN</td>\n      <td>NaN</td>\n    </tr>\n    <tr>\n      <th>3128</th>\n      <td>2024-08-27</td>\n      <td>NaN</td>\n      <td>NaN</td>\n      <td>NaN</td>\n      <td>NaN</td>\n      <td>NaN</td>\n      <td>NaN</td>\n      <td>231.690002</td>\n      <td>233.470001</td>\n      <td>231.570007</td>\n      <td>...</td>\n      <td>NaN</td>\n      <td>NaN</td>\n      <td>NaN</td>\n      <td>NaN</td>\n      <td>NaN</td>\n      <td>NaN</td>\n      <td>NaN</td>\n      <td>NaN</td>\n      <td>NaN</td>\n      <td>NaN</td>\n    </tr>\n    <tr>\n      <th>3129</th>\n      <td>2024-08-28</td>\n      <td>NaN</td>\n      <td>NaN</td>\n      <td>NaN</td>\n      <td>NaN</td>\n      <td>NaN</td>\n      <td>NaN</td>\n      <td>232.000000</td>\n      <td>232.020004</td>\n      <td>230.729996</td>\n      <td>...</td>\n      <td>NaN</td>\n      <td>NaN</td>\n      <td>NaN</td>\n      <td>NaN</td>\n      <td>NaN</td>\n      <td>NaN</td>\n      <td>NaN</td>\n      <td>NaN</td>\n      <td>NaN</td>\n      <td>NaN</td>\n    </tr>\n    <tr>\n      <th>3130</th>\n      <td>2024-08-29</td>\n      <td>NaN</td>\n      <td>NaN</td>\n      <td>NaN</td>\n      <td>NaN</td>\n      <td>NaN</td>\n      <td>NaN</td>\n      <td>231.949997</td>\n      <td>233.610001</td>\n      <td>231.919998</td>\n      <td>...</td>\n      <td>NaN</td>\n      <td>NaN</td>\n      <td>NaN</td>\n      <td>NaN</td>\n      <td>NaN</td>\n      <td>NaN</td>\n      <td>NaN</td>\n      <td>NaN</td>\n      <td>NaN</td>\n      <td>NaN</td>\n    </tr>\n    <tr>\n      <th>3131</th>\n      <td>2024-08-30</td>\n      <td>NaN</td>\n      <td>NaN</td>\n      <td>NaN</td>\n      <td>NaN</td>\n      <td>NaN</td>\n      <td>NaN</td>\n      <td>232.529999</td>\n      <td>232.860001</td>\n      <td>230.550003</td>\n      <td>...</td>\n      <td>NaN</td>\n      <td>NaN</td>\n      <td>NaN</td>\n      <td>NaN</td>\n      <td>NaN</td>\n      <td>NaN</td>\n      <td>NaN</td>\n      <td>NaN</td>\n      <td>NaN</td>\n      <td>NaN</td>\n    </tr>\n  </tbody>\n</table>\n<p>2868 rows × 34 columns</p>\n</div>"
     },
     "execution_count": 196,
     "metadata": {},
     "output_type": "execute_result"
    }
   ],
   "source": [
    "merged_df"
   ],
   "metadata": {
    "collapsed": false,
    "ExecuteTime": {
     "end_time": "2024-11-08T20:02:18.839202Z",
     "start_time": "2024-11-08T20:02:18.825852Z"
    }
   },
   "id": "5ea3ece63b507f3",
   "execution_count": 196
  },
  {
   "metadata": {
    "ExecuteTime": {
     "end_time": "2024-11-08T20:02:18.886085Z",
     "start_time": "2024-11-08T20:02:18.839924Z"
    }
   },
   "cell_type": "code",
   "source": [
    "# Filling NaNs of Sundays (there are Nans on Sundays in all columns except of soybean prices)\n",
    "cleaned_df['is_holiday'] = 0\n",
    "cleaned_df.loc[cleaned_df['gold_Close'].isna(), 'is_holiday'] = 1\n",
    "cleaned_df = cleaned_df.fillna(method='ffill')\n",
    "\n",
    "all_data_df = cleaned_df\n",
    "all_data_df.to_csv('data collection/all_data.csv', index=False)\n",
    "#only since 2014\n",
    "all_data_df = all_data_df[all_data_df['Date'].dt.year >= 2014]"
   ],
   "id": "8daf61e360333ed2",
   "outputs": [
    {
     "name": "stderr",
     "output_type": "stream",
     "text": [
      "/var/folders/zp/tjm6hdl95rjgm9v39jqzvwb00000gq/T/ipykernel_43472/2576198648.py:2: SettingWithCopyWarning: \n",
      "A value is trying to be set on a copy of a slice from a DataFrame.\n",
      "Try using .loc[row_indexer,col_indexer] = value instead\n",
      "\n",
      "See the caveats in the documentation: https://pandas.pydata.org/pandas-docs/stable/user_guide/indexing.html#returning-a-view-versus-a-copy\n",
      "  cleaned_df['is_holiday'] = 0\n",
      "/var/folders/zp/tjm6hdl95rjgm9v39jqzvwb00000gq/T/ipykernel_43472/2576198648.py:4: FutureWarning: DataFrame.fillna with 'method' is deprecated and will raise in a future version. Use obj.ffill() or obj.bfill() instead.\n",
      "  cleaned_df = cleaned_df.fillna(method='ffill')\n"
     ]
    }
   ],
   "execution_count": 197
  },
  {
   "metadata": {
    "ExecuteTime": {
     "end_time": "2024-11-08T20:02:18.932393Z",
     "start_time": "2024-11-08T20:02:18.887043Z"
    }
   },
   "cell_type": "code",
   "source": [
    "all_data_df.to_csv('all_data.csv', index=False)"
   ],
   "id": "535d2c083316883d",
   "outputs": [],
   "execution_count": 198
  },
  {
   "metadata": {
    "ExecuteTime": {
     "end_time": "2024-11-08T20:02:18.955065Z",
     "start_time": "2024-11-08T20:02:18.933491Z"
    }
   },
   "cell_type": "code",
   "source": [
    "all_data_df = pd.read_csv('all_data.csv')\n",
    "all_data_df"
   ],
   "id": "94f3c269c5d7c826",
   "outputs": [
    {
     "data": {
      "text/plain": "            Date  crude_oil_Price  crude_oil_Open  crude_oil_High  \\\n0     2014-01-01            98.70           98.61           98.76   \n1     2014-01-02            95.44           98.50           98.97   \n2     2014-01-03            93.96           95.47           95.74   \n3     2014-01-06            93.43           94.18           94.59   \n4     2014-01-07            93.67           93.60           94.22   \n...          ...              ...             ...             ...   \n2863  2024-08-26            75.56           77.28           77.69   \n2864  2024-08-27            75.56           77.28           77.69   \n2865  2024-08-28            75.56           77.28           77.69   \n2866  2024-08-29            75.56           77.28           77.69   \n2867  2024-08-30            75.56           77.28           77.69   \n\n      crude_oil_Low  crude_oil_Vol.  crude_oil_Change %   gold_Open  \\\n0             98.54             NaN                0.28         NaN   \n1             95.34        251250.0               -3.30  117.930000   \n2             93.86        215520.0               -1.55  118.639999   \n3             93.20        189380.0               -0.56  119.760002   \n4             93.35        177180.0                0.26  118.459999   \n...             ...             ...                 ...         ...   \n2863          75.52        365120.0               -2.21  233.449997   \n2864          75.52        365120.0               -2.21  231.690002   \n2865          75.52        365120.0               -2.21  232.000000   \n2866          75.52        365120.0               -2.21  231.949997   \n2867          75.52        365120.0               -2.21  232.529999   \n\n       gold_High    gold_Low  ...  silver_Change %  dollar_rate_Price  \\\n0            NaN         NaN  ...              NaN              80.03   \n1     118.730003  117.750000  ...             3.91              80.63   \n2     119.620003  118.589996  ...             0.41              80.79   \n3     120.389999  117.110001  ...            -0.53              80.65   \n4     118.919998  118.129997  ...            -1.57              80.83   \n...          ...         ...  ...              ...                ...   \n2863  233.500000  232.059998  ...            -1.93             104.66   \n2864  233.470001  231.570007  ...            -1.93             104.66   \n2865  232.020004  230.729996  ...            -1.93             104.66   \n2866  233.610001  231.919998  ...            -1.93             104.66   \n2867  232.860001  230.550003  ...            -1.93             104.66   \n\n      dollar_rate_Open  dollar_rate_High  dollar_rate_Low  \\\n0                80.21             80.24            80.10   \n1                80.12             80.71            80.08   \n2                80.57             80.89            80.49   \n3                80.86             80.91            80.54   \n4                80.69             80.95            80.60   \n...                ...               ...              ...   \n2863            104.37            104.67           104.14   \n2864            104.37            104.67           104.14   \n2865            104.37            104.67           104.14   \n2866            104.37            104.67           104.14   \n2867            104.37            104.67           104.14   \n\n      dollar_rate_Change %  cpi_CPI  ppi_PPI  m1sl_M1SL  is_holiday  \n0                     0.00  234.100  201.200     2638.8           1  \n1                     0.75  234.100  201.200     2638.8           0  \n2                     0.20  234.100  201.200     2638.8           0  \n3                    -0.17  234.100  201.200     2638.8           0  \n4                     0.22  234.100  201.200     2638.8           0  \n...                    ...      ...      ...        ...         ...  \n2863                  0.27  313.207  256.772    17978.9           0  \n2864                  0.27  313.207  256.772    17978.9           0  \n2865                  0.27  313.207  256.772    17978.9           0  \n2866                  0.27  313.207  256.772    17978.9           0  \n2867                  0.27  313.207  256.772    17978.9           0  \n\n[2868 rows x 33 columns]",
      "text/html": "<div>\n<style scoped>\n    .dataframe tbody tr th:only-of-type {\n        vertical-align: middle;\n    }\n\n    .dataframe tbody tr th {\n        vertical-align: top;\n    }\n\n    .dataframe thead th {\n        text-align: right;\n    }\n</style>\n<table border=\"1\" class=\"dataframe\">\n  <thead>\n    <tr style=\"text-align: right;\">\n      <th></th>\n      <th>Date</th>\n      <th>crude_oil_Price</th>\n      <th>crude_oil_Open</th>\n      <th>crude_oil_High</th>\n      <th>crude_oil_Low</th>\n      <th>crude_oil_Vol.</th>\n      <th>crude_oil_Change %</th>\n      <th>gold_Open</th>\n      <th>gold_High</th>\n      <th>gold_Low</th>\n      <th>...</th>\n      <th>silver_Change %</th>\n      <th>dollar_rate_Price</th>\n      <th>dollar_rate_Open</th>\n      <th>dollar_rate_High</th>\n      <th>dollar_rate_Low</th>\n      <th>dollar_rate_Change %</th>\n      <th>cpi_CPI</th>\n      <th>ppi_PPI</th>\n      <th>m1sl_M1SL</th>\n      <th>is_holiday</th>\n    </tr>\n  </thead>\n  <tbody>\n    <tr>\n      <th>0</th>\n      <td>2014-01-01</td>\n      <td>98.70</td>\n      <td>98.61</td>\n      <td>98.76</td>\n      <td>98.54</td>\n      <td>NaN</td>\n      <td>0.28</td>\n      <td>NaN</td>\n      <td>NaN</td>\n      <td>NaN</td>\n      <td>...</td>\n      <td>NaN</td>\n      <td>80.03</td>\n      <td>80.21</td>\n      <td>80.24</td>\n      <td>80.10</td>\n      <td>0.00</td>\n      <td>234.100</td>\n      <td>201.200</td>\n      <td>2638.8</td>\n      <td>1</td>\n    </tr>\n    <tr>\n      <th>1</th>\n      <td>2014-01-02</td>\n      <td>95.44</td>\n      <td>98.50</td>\n      <td>98.97</td>\n      <td>95.34</td>\n      <td>251250.0</td>\n      <td>-3.30</td>\n      <td>117.930000</td>\n      <td>118.730003</td>\n      <td>117.750000</td>\n      <td>...</td>\n      <td>3.91</td>\n      <td>80.63</td>\n      <td>80.12</td>\n      <td>80.71</td>\n      <td>80.08</td>\n      <td>0.75</td>\n      <td>234.100</td>\n      <td>201.200</td>\n      <td>2638.8</td>\n      <td>0</td>\n    </tr>\n    <tr>\n      <th>2</th>\n      <td>2014-01-03</td>\n      <td>93.96</td>\n      <td>95.47</td>\n      <td>95.74</td>\n      <td>93.86</td>\n      <td>215520.0</td>\n      <td>-1.55</td>\n      <td>118.639999</td>\n      <td>119.620003</td>\n      <td>118.589996</td>\n      <td>...</td>\n      <td>0.41</td>\n      <td>80.79</td>\n      <td>80.57</td>\n      <td>80.89</td>\n      <td>80.49</td>\n      <td>0.20</td>\n      <td>234.100</td>\n      <td>201.200</td>\n      <td>2638.8</td>\n      <td>0</td>\n    </tr>\n    <tr>\n      <th>3</th>\n      <td>2014-01-06</td>\n      <td>93.43</td>\n      <td>94.18</td>\n      <td>94.59</td>\n      <td>93.20</td>\n      <td>189380.0</td>\n      <td>-0.56</td>\n      <td>119.760002</td>\n      <td>120.389999</td>\n      <td>117.110001</td>\n      <td>...</td>\n      <td>-0.53</td>\n      <td>80.65</td>\n      <td>80.86</td>\n      <td>80.91</td>\n      <td>80.54</td>\n      <td>-0.17</td>\n      <td>234.100</td>\n      <td>201.200</td>\n      <td>2638.8</td>\n      <td>0</td>\n    </tr>\n    <tr>\n      <th>4</th>\n      <td>2014-01-07</td>\n      <td>93.67</td>\n      <td>93.60</td>\n      <td>94.22</td>\n      <td>93.35</td>\n      <td>177180.0</td>\n      <td>0.26</td>\n      <td>118.459999</td>\n      <td>118.919998</td>\n      <td>118.129997</td>\n      <td>...</td>\n      <td>-1.57</td>\n      <td>80.83</td>\n      <td>80.69</td>\n      <td>80.95</td>\n      <td>80.60</td>\n      <td>0.22</td>\n      <td>234.100</td>\n      <td>201.200</td>\n      <td>2638.8</td>\n      <td>0</td>\n    </tr>\n    <tr>\n      <th>...</th>\n      <td>...</td>\n      <td>...</td>\n      <td>...</td>\n      <td>...</td>\n      <td>...</td>\n      <td>...</td>\n      <td>...</td>\n      <td>...</td>\n      <td>...</td>\n      <td>...</td>\n      <td>...</td>\n      <td>...</td>\n      <td>...</td>\n      <td>...</td>\n      <td>...</td>\n      <td>...</td>\n      <td>...</td>\n      <td>...</td>\n      <td>...</td>\n      <td>...</td>\n      <td>...</td>\n    </tr>\n    <tr>\n      <th>2863</th>\n      <td>2024-08-26</td>\n      <td>75.56</td>\n      <td>77.28</td>\n      <td>77.69</td>\n      <td>75.52</td>\n      <td>365120.0</td>\n      <td>-2.21</td>\n      <td>233.449997</td>\n      <td>233.500000</td>\n      <td>232.059998</td>\n      <td>...</td>\n      <td>-1.93</td>\n      <td>104.66</td>\n      <td>104.37</td>\n      <td>104.67</td>\n      <td>104.14</td>\n      <td>0.27</td>\n      <td>313.207</td>\n      <td>256.772</td>\n      <td>17978.9</td>\n      <td>0</td>\n    </tr>\n    <tr>\n      <th>2864</th>\n      <td>2024-08-27</td>\n      <td>75.56</td>\n      <td>77.28</td>\n      <td>77.69</td>\n      <td>75.52</td>\n      <td>365120.0</td>\n      <td>-2.21</td>\n      <td>231.690002</td>\n      <td>233.470001</td>\n      <td>231.570007</td>\n      <td>...</td>\n      <td>-1.93</td>\n      <td>104.66</td>\n      <td>104.37</td>\n      <td>104.67</td>\n      <td>104.14</td>\n      <td>0.27</td>\n      <td>313.207</td>\n      <td>256.772</td>\n      <td>17978.9</td>\n      <td>0</td>\n    </tr>\n    <tr>\n      <th>2865</th>\n      <td>2024-08-28</td>\n      <td>75.56</td>\n      <td>77.28</td>\n      <td>77.69</td>\n      <td>75.52</td>\n      <td>365120.0</td>\n      <td>-2.21</td>\n      <td>232.000000</td>\n      <td>232.020004</td>\n      <td>230.729996</td>\n      <td>...</td>\n      <td>-1.93</td>\n      <td>104.66</td>\n      <td>104.37</td>\n      <td>104.67</td>\n      <td>104.14</td>\n      <td>0.27</td>\n      <td>313.207</td>\n      <td>256.772</td>\n      <td>17978.9</td>\n      <td>0</td>\n    </tr>\n    <tr>\n      <th>2866</th>\n      <td>2024-08-29</td>\n      <td>75.56</td>\n      <td>77.28</td>\n      <td>77.69</td>\n      <td>75.52</td>\n      <td>365120.0</td>\n      <td>-2.21</td>\n      <td>231.949997</td>\n      <td>233.610001</td>\n      <td>231.919998</td>\n      <td>...</td>\n      <td>-1.93</td>\n      <td>104.66</td>\n      <td>104.37</td>\n      <td>104.67</td>\n      <td>104.14</td>\n      <td>0.27</td>\n      <td>313.207</td>\n      <td>256.772</td>\n      <td>17978.9</td>\n      <td>0</td>\n    </tr>\n    <tr>\n      <th>2867</th>\n      <td>2024-08-30</td>\n      <td>75.56</td>\n      <td>77.28</td>\n      <td>77.69</td>\n      <td>75.52</td>\n      <td>365120.0</td>\n      <td>-2.21</td>\n      <td>232.529999</td>\n      <td>232.860001</td>\n      <td>230.550003</td>\n      <td>...</td>\n      <td>-1.93</td>\n      <td>104.66</td>\n      <td>104.37</td>\n      <td>104.67</td>\n      <td>104.14</td>\n      <td>0.27</td>\n      <td>313.207</td>\n      <td>256.772</td>\n      <td>17978.9</td>\n      <td>0</td>\n    </tr>\n  </tbody>\n</table>\n<p>2868 rows × 33 columns</p>\n</div>"
     },
     "execution_count": 199,
     "metadata": {},
     "output_type": "execute_result"
    }
   ],
   "execution_count": 199
  }
 ],
 "metadata": {
  "kernelspec": {
   "display_name": "Python 3",
   "language": "python",
   "name": "python3"
  },
  "language_info": {
   "codemirror_mode": {
    "name": "ipython",
    "version": 2
   },
   "file_extension": ".py",
   "mimetype": "text/x-python",
   "name": "python",
   "nbconvert_exporter": "python",
   "pygments_lexer": "ipython2",
   "version": "2.7.6"
  }
 },
 "nbformat": 4,
 "nbformat_minor": 5
}
