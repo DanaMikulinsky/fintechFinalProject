{
 "cells": [
  {
   "cell_type": "code",
   "execution_count": 165,
   "id": "initial_id",
   "metadata": {
    "collapsed": true,
    "ExecuteTime": {
     "end_time": "2024-08-31T20:17:46.922542Z",
     "start_time": "2024-08-31T20:17:46.916630Z"
    }
   },
   "outputs": [],
   "source": [
    "import pandas as pd\n",
    "import glob\n",
    "import matplotlib.pyplot as plt"
   ]
  },
  {
   "cell_type": "markdown",
   "id": "b519f210b5e6b9fb",
   "metadata": {},
   "source": [
    "# Preprocessing the raw data"
   ]
  },
  {
   "cell_type": "code",
   "execution_count": 196,
   "id": "b2c9972428bd38dc",
   "metadata": {
    "ExecuteTime": {
     "end_time": "2024-09-06T10:00:49.249869Z",
     "start_time": "2024-09-06T10:00:47.746251Z"
    }
   },
   "outputs": [
    {
     "name": "stdout",
     "output_type": "stream",
     "text": [
      "(832923, 16)\n"
     ]
    },
    {
     "data": {
      "text/plain": "   WasdeNumber   ReportDate  \\\n0          627  August 2022   \n1          627  August 2022   \n2          627  August 2022   \n3          627  August 2022   \n4          627  August 2022   \n\n                                         ReportTitle         Attribute  \\\n0  Mexico Sugar Supply and Use and High Fructose ...  Beginning Stocks   \n1  Mexico Sugar Supply and Use and High Fructose ...          Domestic   \n2  Mexico Sugar Supply and Use and High Fructose ...     Ending Stocks   \n3  Mexico Sugar Supply and Use and High Fructose ...           Exports   \n4  Mexico Sugar Supply and Use and High Fructose ...           Imports   \n\n  ReliabilityProjection Commodity  Region MarketYear ProjEstFlag  \\\n0                   NaN     Sugar  Mexico    2021/22        Est.   \n1                   NaN     Sugar  Mexico    2021/22        Est.   \n2                   NaN     Sugar  Mexico    2021/22        Est.   \n3                   NaN     Sugar  Mexico    2021/22        Est.   \n4                   NaN     Sugar  Mexico    2021/22        Est.   \n\n  AnnualQuarterFlag   Value                             Unit ReleaseDate  \\\n0            Annual  1053.0  1000 Metric Tons, Actual Weight  2022-08-12   \n1            Annual  4547.0  1000 Metric Tons, Actual Weight  2022-08-12   \n2            Annual   947.0  1000 Metric Tons, Actual Weight  2022-08-12   \n3            Annual  1794.0  1000 Metric Tons, Actual Weight  2022-08-12   \n4            Annual    50.0  1000 Metric Tons, Actual Weight  2022-08-12   \n\n        ReleaseTime  ForecastYear  ForecastMonth  \n0  12:00:00.0000000          2022              8  \n1  12:00:00.0000000          2022              8  \n2  12:00:00.0000000          2022              8  \n3  12:00:00.0000000          2022              8  \n4  12:00:00.0000000          2022              8  ",
      "text/html": "<div>\n<style scoped>\n    .dataframe tbody tr th:only-of-type {\n        vertical-align: middle;\n    }\n\n    .dataframe tbody tr th {\n        vertical-align: top;\n    }\n\n    .dataframe thead th {\n        text-align: right;\n    }\n</style>\n<table border=\"1\" class=\"dataframe\">\n  <thead>\n    <tr style=\"text-align: right;\">\n      <th></th>\n      <th>WasdeNumber</th>\n      <th>ReportDate</th>\n      <th>ReportTitle</th>\n      <th>Attribute</th>\n      <th>ReliabilityProjection</th>\n      <th>Commodity</th>\n      <th>Region</th>\n      <th>MarketYear</th>\n      <th>ProjEstFlag</th>\n      <th>AnnualQuarterFlag</th>\n      <th>Value</th>\n      <th>Unit</th>\n      <th>ReleaseDate</th>\n      <th>ReleaseTime</th>\n      <th>ForecastYear</th>\n      <th>ForecastMonth</th>\n    </tr>\n  </thead>\n  <tbody>\n    <tr>\n      <th>0</th>\n      <td>627</td>\n      <td>August 2022</td>\n      <td>Mexico Sugar Supply and Use and High Fructose ...</td>\n      <td>Beginning Stocks</td>\n      <td>NaN</td>\n      <td>Sugar</td>\n      <td>Mexico</td>\n      <td>2021/22</td>\n      <td>Est.</td>\n      <td>Annual</td>\n      <td>1053.0</td>\n      <td>1000 Metric Tons, Actual Weight</td>\n      <td>2022-08-12</td>\n      <td>12:00:00.0000000</td>\n      <td>2022</td>\n      <td>8</td>\n    </tr>\n    <tr>\n      <th>1</th>\n      <td>627</td>\n      <td>August 2022</td>\n      <td>Mexico Sugar Supply and Use and High Fructose ...</td>\n      <td>Domestic</td>\n      <td>NaN</td>\n      <td>Sugar</td>\n      <td>Mexico</td>\n      <td>2021/22</td>\n      <td>Est.</td>\n      <td>Annual</td>\n      <td>4547.0</td>\n      <td>1000 Metric Tons, Actual Weight</td>\n      <td>2022-08-12</td>\n      <td>12:00:00.0000000</td>\n      <td>2022</td>\n      <td>8</td>\n    </tr>\n    <tr>\n      <th>2</th>\n      <td>627</td>\n      <td>August 2022</td>\n      <td>Mexico Sugar Supply and Use and High Fructose ...</td>\n      <td>Ending Stocks</td>\n      <td>NaN</td>\n      <td>Sugar</td>\n      <td>Mexico</td>\n      <td>2021/22</td>\n      <td>Est.</td>\n      <td>Annual</td>\n      <td>947.0</td>\n      <td>1000 Metric Tons, Actual Weight</td>\n      <td>2022-08-12</td>\n      <td>12:00:00.0000000</td>\n      <td>2022</td>\n      <td>8</td>\n    </tr>\n    <tr>\n      <th>3</th>\n      <td>627</td>\n      <td>August 2022</td>\n      <td>Mexico Sugar Supply and Use and High Fructose ...</td>\n      <td>Exports</td>\n      <td>NaN</td>\n      <td>Sugar</td>\n      <td>Mexico</td>\n      <td>2021/22</td>\n      <td>Est.</td>\n      <td>Annual</td>\n      <td>1794.0</td>\n      <td>1000 Metric Tons, Actual Weight</td>\n      <td>2022-08-12</td>\n      <td>12:00:00.0000000</td>\n      <td>2022</td>\n      <td>8</td>\n    </tr>\n    <tr>\n      <th>4</th>\n      <td>627</td>\n      <td>August 2022</td>\n      <td>Mexico Sugar Supply and Use and High Fructose ...</td>\n      <td>Imports</td>\n      <td>NaN</td>\n      <td>Sugar</td>\n      <td>Mexico</td>\n      <td>2021/22</td>\n      <td>Est.</td>\n      <td>Annual</td>\n      <td>50.0</td>\n      <td>1000 Metric Tons, Actual Weight</td>\n      <td>2022-08-12</td>\n      <td>12:00:00.0000000</td>\n      <td>2022</td>\n      <td>8</td>\n    </tr>\n  </tbody>\n</table>\n</div>"
     },
     "execution_count": 196,
     "metadata": {},
     "output_type": "execute_result"
    }
   ],
   "source": [
    "# iterate over all WASDE csv files in the data folder and vertically concatenate them\n",
    "path = 'data collection/WASDE data/*/*.csv'\n",
    "all_files = glob.glob(path)\n",
    "df_from_each_file = (pd.read_csv(f, low_memory=False) for f in all_files)\n",
    "concatenated_df = pd.concat(df_from_each_file, ignore_index=True)\n",
    "print(concatenated_df.shape)\n",
    "concatenated_df.head()"
   ]
  },
  {
   "cell_type": "code",
   "execution_count": 220,
   "id": "4ecfdc85652f45b8",
   "metadata": {
    "ExecuteTime": {
     "end_time": "2024-09-06T10:11:47.653347Z",
     "start_time": "2024-09-06T10:11:47.502658Z"
    }
   },
   "outputs": [],
   "source": [
    "crude_oil_df = pd.read_csv('data collection/Crude Oil WTI Futures Historical Data - daily data 10 years.csv')\n",
    "gold_df = pd.read_csv('data collection/SPDR Gold Shares (GLD) - yahoo finance, 10 years.csv')\n",
    "sp500_df = pd.read_csv('data collection/S&P 500 Historical Data - daily data 10 years.csv')\n",
    "silver_df = pd.read_csv('data collection/Silver Futures Historical Data - daily data 10 years.csv')\n",
    "corn_df = pd.read_csv('data collection/US Corn Futures Historical Data - daily data 10 years.csv')\n",
    "dollar_rate_df = pd.read_csv('data collection/US Dollar Index Historical Data - daily data 10 years.csv')\n",
    "soybean_df = pd.read_csv('data collection/US Soybeans Futures Historical Data - daily data 10 years.csv')\n",
    "\n",
    "cpi_df = pd.read_csv('data collection/Customer Price Index.csv')\n",
    "cpi_df['DATE'] = pd.to_datetime(cpi_df['DATE'], format='%Y-%m-%d')\n",
    "cpi_df = cpi_df[cpi_df['DATE'] >= '2013-01']\n",
    "cpi_df.rename(columns={'CPIAUCSL':'CPI', 'DATE':'Date'}, inplace=True)\n",
    "ppi_df = pd.read_csv('data collection/Producer Price Index.csv')\n",
    "ppi_df['DATE'] = pd.to_datetime(ppi_df['DATE'], format='%Y-%m-%d')\n",
    "ppi_df.rename(columns={'PPIACO':'PPI', 'DATE':'Date'}, inplace=True)\n",
    "ppi_df\n",
    "dfs_dict = {\n",
    "    'crude_oil_df': crude_oil_df,\n",
    "    #'food_price_df': food_price_df,\n",
    "    'gold_df': gold_df,\n",
    "    'sp500_df': sp500_df,\n",
    "    'silver_df': silver_df,\n",
    "    #'corn_df': corn_df,\n",
    "    'dollar_rate_df': dollar_rate_df,\n",
    "    #'soybean_df': soybean_df\n",
    "    'cpi_df': cpi_df,\n",
    "    'ppi_df': ppi_df,\n",
    "}"
   ]
  },
  {
   "cell_type": "code",
   "execution_count": 221,
   "id": "ab8ce3e585d99305",
   "metadata": {
    "collapsed": false,
    "ExecuteTime": {
     "end_time": "2024-09-06T10:11:50.251765Z",
     "start_time": "2024-09-06T10:11:50.222188Z"
    }
   },
   "outputs": [
    {
     "data": {
      "text/plain": "{'crude_oil_df':             Date  Price   Open   High    Low     Vol. Change %\n 0     07/29/2024  75.56  77.28  77.69  75.52      NaN   -2.21%\n 1     07/28/2024  77.27  77.47  77.48  77.22      NaN    0.14%\n 2     07/26/2024  77.16  78.35  78.60  76.19  365.12K   -1.43%\n 3     07/25/2024  78.28  77.50  78.47  76.04  457.29K    0.89%\n 4     07/24/2024  77.59  77.45  78.19  76.98  355.97K    0.82%\n ...          ...    ...    ...    ...    ...      ...      ...\n 3039  01/08/2013  93.15  93.32  93.80  92.67  195.87K   -0.04%\n 3040  01/07/2013  93.19  93.21  93.35  92.42  166.29K    0.11%\n 3041  01/04/2013  93.09  92.86  93.21  91.52  210.75K    0.18%\n 3042  01/03/2013  92.92  92.91  93.30  92.49  189.81K   -0.21%\n 3043  01/02/2013  93.12  91.78  93.87  91.56  203.87K    1.42%\n \n [3044 rows x 7 columns],\n 'gold_df':             Date        Open        High         Low       Close   Adj Close  \\\n 0     2014-01-02  117.930000  118.730003  117.750000  118.000000  118.000000   \n 1     2014-01-03  118.639999  119.620003  118.589996  119.290001  119.290001   \n 2     2014-01-06  119.760002  120.389999  117.110001  119.500000  119.500000   \n 3     2014-01-07  118.459999  118.919998  118.129997  118.820000  118.820000   \n 4     2014-01-08  117.989998  118.519997  117.500000  118.120003  118.120003   \n ...          ...         ...         ...         ...         ...         ...   \n 2679  2024-08-26  233.449997  233.500000  232.059998  232.759995  232.759995   \n 2680  2024-08-27  231.690002  233.470001  231.570007  233.389999  233.389999   \n 2681  2024-08-28  232.000000  232.020004  230.729996  231.750000  231.750000   \n 2682  2024-08-29  231.949997  233.610001  231.919998  232.949997  232.949997   \n 2683  2024-08-30  232.529999  232.860001  230.550003  231.289993  231.289993   \n \n         Volume  \n 0      7551000  \n 1      5874400  \n 2     10106500  \n 3      6433700  \n 4      7428500  \n ...        ...  \n 2679   3151400  \n 2680   4435600  \n 2681   4961500  \n 2682   5524200  \n 2683   5730300  \n \n [2684 rows x 7 columns],\n 'sp500_df':             Date     Price      Open      High       Low  Vol. Change %\n 0     07/29/2024  5,472.73  5,478.43  5,486.93  5,463.93   NaN    0.25%\n 1     07/26/2024  5,459.10  5,433.67  5,488.32  5,430.70   NaN    1.11%\n 2     07/25/2024  5,399.22  5,428.70  5,491.59  5,390.95   NaN   -0.51%\n 3     07/24/2024  5,427.13  5,505.84  5,508.04  5,419.98   NaN   -2.31%\n 4     07/23/2024  5,555.74  5,565.30  5,585.34  5,550.90   NaN   -0.16%\n ...          ...       ...       ...       ...       ...   ...      ...\n 2907  01/08/2013  1,457.20  1,461.90  1,461.90  1,451.60   NaN   -0.32%\n 2908  01/07/2013  1,461.90  1,466.50  1,466.50  1,456.60   NaN   -0.31%\n 2909  01/04/2013  1,466.50  1,459.40  1,467.90  1,459.00   NaN    0.49%\n 2910  01/03/2013  1,459.40  1,462.40  1,465.50  1,455.50   NaN   -0.21%\n 2911  01/02/2013  1,462.40  1,426.20  1,462.40  1,426.20   NaN    2.54%\n \n [2912 rows x 7 columns],\n 'silver_df':             Date   Price    Open    High     Low     Vol. Change %\n 0     07/29/2024  27.715  28.260  28.332  27.457      NaN   -1.93%\n 1     07/28/2024  28.260  28.065  28.280  28.050      NaN    0.86%\n 2     07/26/2024  28.020  27.990  28.220  27.750   61.46K    0.16%\n 3     07/25/2024  27.975  29.075  29.080  27.555  117.21K   -4.57%\n 4     07/24/2024  29.316  29.420  29.630  29.065   54.91K   -0.05%\n ...          ...     ...     ...     ...     ...      ...      ...\n 2981  01/08/2013  30.465  30.145  30.590  30.085   42.57K    1.27%\n 2982  01/07/2013  30.082  30.235  30.475  29.860   35.27K    0.45%\n 2983  01/04/2013  29.946  30.100  30.300  29.240   64.25K   -2.52%\n 2984  01/03/2013  30.720  31.025  31.225  30.015   40.79K   -0.93%\n 2985  01/02/2013  31.007  30.370  31.535  30.225   36.53K    2.58%\n \n [2986 rows x 7 columns],\n 'dollar_rate_df':             Date   Price    Open    High     Low  Vol. Change %\n 0     07/29/2024  104.66  104.37  104.67  104.14   NaN    0.27%\n 1     07/28/2024  104.37  104.33  104.37  104.29   NaN    0.06%\n 2     07/26/2024  104.32  104.36  104.45  104.21   NaN   -0.04%\n 3     07/25/2024  104.36  104.38  104.46  104.08   NaN   -0.03%\n 4     07/24/2024  104.39  104.48  104.56  104.12   NaN   -0.06%\n ...          ...     ...     ...     ...     ...   ...      ...\n 3016  01/07/2013   80.26   80.46   80.68   80.11   NaN   -0.30%\n 3017  01/04/2013   80.50   80.57   80.87   80.41   NaN    0.15%\n 3018  01/03/2013   80.38   79.81   80.59   79.80   NaN    0.68%\n 3019  01/02/2013   79.84   79.75   79.93   79.28   NaN    0.09%\n 3020  01/01/2013   79.77   79.69   79.82   79.65   NaN    0.00%\n \n [3021 rows x 7 columns],\n 'cpi_df':           Date      CPI\n 792 2013-01-01  231.679\n 793 2013-02-01  232.937\n 794 2013-03-01  232.282\n 795 2013-04-01  231.797\n 796 2013-05-01  231.893\n ..         ...      ...\n 925 2024-02-01  311.054\n 926 2024-03-01  312.230\n 927 2024-04-01  313.207\n 928 2024-05-01  313.225\n 929 2024-06-01  313.049\n \n [138 rows x 2 columns],\n 'ppi_df':           Date      PPI\n 0   2013-01-01  202.500\n 1   2013-02-01  204.300\n 2   2013-03-01  204.000\n 3   2013-04-01  203.500\n 4   2013-05-01  204.100\n ..         ...      ...\n 133 2024-02-01  254.926\n 134 2024-03-01  254.963\n 135 2024-04-01  256.772\n 136 2024-05-01  255.094\n 137 2024-06-01  255.419\n \n [138 rows x 2 columns]}"
     },
     "execution_count": 221,
     "metadata": {},
     "output_type": "execute_result"
    }
   ],
   "source": [
    "dfs_dict"
   ]
  },
  {
   "cell_type": "code",
   "execution_count": 172,
   "id": "cb13016ba9823e50",
   "metadata": {
    "ExecuteTime": {
     "end_time": "2024-08-31T20:17:49.161862Z",
     "start_time": "2024-08-31T20:17:49.147313Z"
    }
   },
   "outputs": [
    {
     "name": "stdout",
     "output_type": "stream",
     "text": [
      "        Date  Food Price Index  Meat FP Index  Dairy FP Index  \\\n",
      "276  2013-01             123.4          106.5           121.0   \n",
      "277  2013-02             123.3          107.6           123.8   \n",
      "278  2013-03             122.9          108.0           128.0   \n",
      "279  2013-04             122.9          108.7           140.8   \n",
      "280  2013-05             122.1          105.5           140.0   \n",
      "..       ...               ...            ...             ...   \n",
      "409  2024-02             117.4          112.5           120.7   \n",
      "410  2024-03             119.0          115.0           124.0   \n",
      "411  2024-04             119.3          116.7           123.8   \n",
      "412  2024-05             120.6          117.0           126.3   \n",
      "413  2024-06             120.6          116.9           127.8   \n",
      "\n",
      "     Cereals FP Index  Oils FP Index  Sugar FP Index  \n",
      "276             145.2         124.28           116.8  \n",
      "277             142.3         125.55           113.0  \n",
      "278             139.9         122.38           114.3  \n",
      "279             134.9         120.64           110.2  \n",
      "280             136.4         121.05           109.1  \n",
      "..                ...            ...             ...  \n",
      "409             113.8         120.90           140.8  \n",
      "410             110.9         130.60           133.4  \n",
      "411             111.6         130.90           126.6  \n",
      "412             118.7         127.80           117.1  \n",
      "413             115.2         131.80           119.4  \n",
      "\n",
      "[138 rows x 7 columns]\n"
     ]
    },
    {
     "name": "stderr",
     "output_type": "stream",
     "text": [
      "/var/folders/zp/tjm6hdl95rjgm9v39jqzvwb00000gq/T/ipykernel_7110/1875306611.py:8: SettingWithCopyWarning: \n",
      "A value is trying to be set on a copy of a slice from a DataFrame.\n",
      "Try using .loc[row_indexer,col_indexer] = value instead\n",
      "\n",
      "See the caveats in the documentation: https://pandas.pydata.org/pandas-docs/stable/user_guide/indexing.html#returning-a-view-versus-a-copy\n",
      "  filtered_foodprice_df['Date'] = filtered_foodprice_df['Date'].dt.strftime('%Y-%m')\n",
      "/var/folders/zp/tjm6hdl95rjgm9v39jqzvwb00000gq/T/ipykernel_7110/1875306611.py:17: SettingWithCopyWarning: \n",
      "A value is trying to be set on a copy of a slice from a DataFrame\n",
      "\n",
      "See the caveats in the documentation: https://pandas.pydata.org/pandas-docs/stable/user_guide/indexing.html#returning-a-view-versus-a-copy\n",
      "  filtered_foodprice_df.rename(columns=rename_dict, inplace=True)\n"
     ]
    }
   ],
   "source": [
    "\"\"\"# Identify and drop columns that start with \"Unnamed\"\n",
    "food_price_df = pd.read_csv('data collection/Food_price_indices_data_jul.csv')\n",
    "food_price_df = food_price_df.loc[:, ~food_price_df.columns.str.startswith('Unnamed')]\n",
    "food_price_df['Date'] = pd.to_datetime(food_price_df['Date'], format='%Y-%m')\n",
    "\n",
    "# Filter rows starting from January 2013\n",
    "filtered_foodprice_df = food_price_df[food_price_df['Date'] >= '2013-01']\n",
    "filtered_foodprice_df['Date'] = filtered_foodprice_df['Date'].dt.strftime('%Y-%m')\n",
    "rename_dict = {\n",
    "    'Meat': 'Meat FP Index',\n",
    "    'Dairy': 'Dairy FP Index',\n",
    "    'Cereals': 'Cereals FP Index',\n",
    "    'Oils': 'Oils FP Index',\n",
    "    'Sugar': 'Sugar FP Index'\n",
    "}\n",
    "# Rename columns\n",
    "filtered_foodprice_df.rename(columns=rename_dict, inplace=True)\n",
    "# Display the filtered DataFrame\n",
    "print(filtered_foodprice_df)\"\"\""
   ]
  },
  {
   "cell_type": "code",
   "execution_count": 222,
   "id": "414ac7ff2c54da9e",
   "metadata": {
    "ExecuteTime": {
     "end_time": "2024-09-06T10:12:06.622822Z",
     "start_time": "2024-09-06T10:12:06.549880Z"
    }
   },
   "outputs": [],
   "source": [
    "def replace_symbols(value):\n",
    "    if isinstance(value, (int, float, complex)):\n",
    "        return value\n",
    "    if isinstance(value, str):\n",
    "        if '%' in value:\n",
    "            return float(value.replace('%', ''))\n",
    "        elif 'K' in value:\n",
    "            return float(value.replace('K', '')) * 1000\n",
    "        elif 'M' in value:\n",
    "            return float(value.replace('M', '')) * 1000000\n",
    "        elif ',' in value:\n",
    "            return float(value.replace(',', ''))\n",
    "    return value\n",
    "\n",
    "for df_name, df in dfs_dict.items():\n",
    "    try:\n",
    "        # Convert all columns except 'Date' using replace_symbols\n",
    "        for col in df.columns:\n",
    "            if col != 'Date':\n",
    "                df[col] = df[col].apply(replace_symbols)\n",
    "\n",
    "        # Display the DataFrame overview and boxplot\n",
    "        \"\"\" print(f\"Overview of {df_name}:\")\n",
    "        print(df)\n",
    "        \n",
    "        # Plot boxplots\n",
    "        plt.figure(figsize=(10, 6))\n",
    "        df.drop(columns='Date').boxplot()\n",
    "        plt.title(f'Boxplot of {df_name}')\n",
    "        plt.show()\"\"\"\n",
    "    \n",
    "    except Exception as e:\n",
    "        print(f\"Error with {df_name}: {e}\")\n",
    "        continue\n",
    "\n"
   ]
  },
  {
   "cell_type": "code",
   "outputs": [
    {
     "data": {
      "text/plain": "{'crude_oil_df':             Date  Price   Open   High    Low      Vol.  Change %\n 0     07/29/2024  75.56  77.28  77.69  75.52       NaN     -2.21\n 1     07/28/2024  77.27  77.47  77.48  77.22       NaN      0.14\n 2     07/26/2024  77.16  78.35  78.60  76.19  365120.0     -1.43\n 3     07/25/2024  78.28  77.50  78.47  76.04  457290.0      0.89\n 4     07/24/2024  77.59  77.45  78.19  76.98  355970.0      0.82\n ...          ...    ...    ...    ...    ...       ...       ...\n 3039  01/08/2013  93.15  93.32  93.80  92.67  195870.0     -0.04\n 3040  01/07/2013  93.19  93.21  93.35  92.42  166290.0      0.11\n 3041  01/04/2013  93.09  92.86  93.21  91.52  210750.0      0.18\n 3042  01/03/2013  92.92  92.91  93.30  92.49  189810.0     -0.21\n 3043  01/02/2013  93.12  91.78  93.87  91.56  203870.0      1.42\n \n [3044 rows x 7 columns],\n 'gold_df':             Date        Open        High         Low       Close   Adj Close  \\\n 0     2014-01-02  117.930000  118.730003  117.750000  118.000000  118.000000   \n 1     2014-01-03  118.639999  119.620003  118.589996  119.290001  119.290001   \n 2     2014-01-06  119.760002  120.389999  117.110001  119.500000  119.500000   \n 3     2014-01-07  118.459999  118.919998  118.129997  118.820000  118.820000   \n 4     2014-01-08  117.989998  118.519997  117.500000  118.120003  118.120003   \n ...          ...         ...         ...         ...         ...         ...   \n 2679  2024-08-26  233.449997  233.500000  232.059998  232.759995  232.759995   \n 2680  2024-08-27  231.690002  233.470001  231.570007  233.389999  233.389999   \n 2681  2024-08-28  232.000000  232.020004  230.729996  231.750000  231.750000   \n 2682  2024-08-29  231.949997  233.610001  231.919998  232.949997  232.949997   \n 2683  2024-08-30  232.529999  232.860001  230.550003  231.289993  231.289993   \n \n         Volume  \n 0      7551000  \n 1      5874400  \n 2     10106500  \n 3      6433700  \n 4      7428500  \n ...        ...  \n 2679   3151400  \n 2680   4435600  \n 2681   4961500  \n 2682   5524200  \n 2683   5730300  \n \n [2684 rows x 7 columns],\n 'sp500_df':             Date    Price     Open     High      Low  Vol.  Change %\n 0     07/29/2024  5472.73  5478.43  5486.93  5463.93   NaN      0.25\n 1     07/26/2024  5459.10  5433.67  5488.32  5430.70   NaN      1.11\n 2     07/25/2024  5399.22  5428.70  5491.59  5390.95   NaN     -0.51\n 3     07/24/2024  5427.13  5505.84  5508.04  5419.98   NaN     -2.31\n 4     07/23/2024  5555.74  5565.30  5585.34  5550.90   NaN     -0.16\n ...          ...      ...      ...      ...      ...   ...       ...\n 2907  01/08/2013  1457.20  1461.90  1461.90  1451.60   NaN     -0.32\n 2908  01/07/2013  1461.90  1466.50  1466.50  1456.60   NaN     -0.31\n 2909  01/04/2013  1466.50  1459.40  1467.90  1459.00   NaN      0.49\n 2910  01/03/2013  1459.40  1462.40  1465.50  1455.50   NaN     -0.21\n 2911  01/02/2013  1462.40  1426.20  1462.40  1426.20   NaN      2.54\n \n [2912 rows x 7 columns],\n 'silver_df':             Date   Price    Open    High     Low      Vol.  Change %\n 0     07/29/2024  27.715  28.260  28.332  27.457       NaN     -1.93\n 1     07/28/2024  28.260  28.065  28.280  28.050       NaN      0.86\n 2     07/26/2024  28.020  27.990  28.220  27.750   61460.0      0.16\n 3     07/25/2024  27.975  29.075  29.080  27.555  117210.0     -4.57\n 4     07/24/2024  29.316  29.420  29.630  29.065   54910.0     -0.05\n ...          ...     ...     ...     ...     ...       ...       ...\n 2981  01/08/2013  30.465  30.145  30.590  30.085   42570.0      1.27\n 2982  01/07/2013  30.082  30.235  30.475  29.860   35270.0      0.45\n 2983  01/04/2013  29.946  30.100  30.300  29.240   64250.0     -2.52\n 2984  01/03/2013  30.720  31.025  31.225  30.015   40790.0     -0.93\n 2985  01/02/2013  31.007  30.370  31.535  30.225   36530.0      2.58\n \n [2986 rows x 7 columns],\n 'dollar_rate_df':             Date   Price    Open    High     Low  Vol.  Change %\n 0     07/29/2024  104.66  104.37  104.67  104.14   NaN      0.27\n 1     07/28/2024  104.37  104.33  104.37  104.29   NaN      0.06\n 2     07/26/2024  104.32  104.36  104.45  104.21   NaN     -0.04\n 3     07/25/2024  104.36  104.38  104.46  104.08   NaN     -0.03\n 4     07/24/2024  104.39  104.48  104.56  104.12   NaN     -0.06\n ...          ...     ...     ...     ...     ...   ...       ...\n 3016  01/07/2013   80.26   80.46   80.68   80.11   NaN     -0.30\n 3017  01/04/2013   80.50   80.57   80.87   80.41   NaN      0.15\n 3018  01/03/2013   80.38   79.81   80.59   79.80   NaN      0.68\n 3019  01/02/2013   79.84   79.75   79.93   79.28   NaN      0.09\n 3020  01/01/2013   79.77   79.69   79.82   79.65   NaN      0.00\n \n [3021 rows x 7 columns],\n 'cpi_df':           Date      CPI\n 792 2013-01-01  231.679\n 793 2013-02-01  232.937\n 794 2013-03-01  232.282\n 795 2013-04-01  231.797\n 796 2013-05-01  231.893\n ..         ...      ...\n 925 2024-02-01  311.054\n 926 2024-03-01  312.230\n 927 2024-04-01  313.207\n 928 2024-05-01  313.225\n 929 2024-06-01  313.049\n \n [138 rows x 2 columns],\n 'ppi_df':           Date      PPI\n 0   2013-01-01  202.500\n 1   2013-02-01  204.300\n 2   2013-03-01  204.000\n 3   2013-04-01  203.500\n 4   2013-05-01  204.100\n ..         ...      ...\n 133 2024-02-01  254.926\n 134 2024-03-01  254.963\n 135 2024-04-01  256.772\n 136 2024-05-01  255.094\n 137 2024-06-01  255.419\n \n [138 rows x 2 columns]}"
     },
     "execution_count": 223,
     "metadata": {},
     "output_type": "execute_result"
    }
   ],
   "source": [
    "dfs_dict"
   ],
   "metadata": {
    "collapsed": false,
    "ExecuteTime": {
     "end_time": "2024-09-06T10:12:10.498424Z",
     "start_time": "2024-09-06T10:12:10.465940Z"
    }
   },
   "id": "d0597cab4effb9e9",
   "execution_count": 223
  },
  {
   "cell_type": "code",
   "outputs": [],
   "source": [],
   "metadata": {
    "collapsed": false
   },
   "id": "9eb5ce9ac69ad534"
  },
  {
   "cell_type": "code",
   "execution_count": 224,
   "id": "9a034aa30a81b1ed",
   "metadata": {
    "ExecuteTime": {
     "end_time": "2024-09-06T10:12:16.414653Z",
     "start_time": "2024-09-06T10:12:16.298575Z"
    }
   },
   "outputs": [
    {
     "name": "stdout",
     "output_type": "stream",
     "text": [
      "           Date  crude_oil_Price  crude_oil_Open  crude_oil_High  \\\n",
      "0    2024-07-29            75.56           77.28           77.69   \n",
      "1    2024-07-28            77.27           77.47           77.48   \n",
      "2    2024-07-26            77.16           78.35           78.60   \n",
      "3    2024-07-25            78.28           77.50           78.47   \n",
      "4    2024-07-24            77.59           77.45           78.19   \n",
      "...         ...              ...             ...             ...   \n",
      "3039 2013-01-08            93.15           93.32           93.80   \n",
      "3040 2013-01-07            93.19           93.21           93.35   \n",
      "3041 2013-01-04            93.09           92.86           93.21   \n",
      "3042 2013-01-03            92.92           92.91           93.30   \n",
      "3043 2013-01-02            93.12           91.78           93.87   \n",
      "\n",
      "      crude_oil_Low  crude_oil_Vol.  crude_oil_Change %  \n",
      "0             75.52             NaN               -2.21  \n",
      "1             77.22             NaN                0.14  \n",
      "2             76.19        365120.0               -1.43  \n",
      "3             76.04        457290.0                0.89  \n",
      "4             76.98        355970.0                0.82  \n",
      "...             ...             ...                 ...  \n",
      "3039          92.67        195870.0               -0.04  \n",
      "3040          92.42        166290.0                0.11  \n",
      "3041          91.52        210750.0                0.18  \n",
      "3042          92.49        189810.0               -0.21  \n",
      "3043          91.56        203870.0                1.42  \n",
      "\n",
      "[3044 rows x 7 columns]\n"
     ]
    }
   ],
   "source": [
    "for df in dfs_dict.values():\n",
    "    df['Date'] = pd.to_datetime(df['Date'])\n",
    "\n",
    "# Rename columns to include dataframe name as prefix\n",
    "for name, df in dfs_dict.items():\n",
    "    prefix = name.replace('_df', '')  # Remove '_df' from dataframe name\n",
    "    df.rename(columns=lambda x: f\"{prefix}_{x}\" if x != 'Date' else x, inplace=True)\n",
    "\n",
    "# Start with the first dataframe\n",
    "merged_df = list(dfs_dict.values())[0]\n",
    "print(merged_df)\n",
    "# Iteratively merge remaining dataframes\n",
    "for df in list(dfs_dict.values())[1:]:\n",
    "    merged_df = pd.merge(merged_df, df, on='Date', how='outer')"
   ]
  },
  {
   "cell_type": "code",
   "execution_count": 227,
   "id": "464c97f4e2ad7c91",
   "metadata": {
    "collapsed": false,
    "ExecuteTime": {
     "end_time": "2024-09-06T10:24:10.681007Z",
     "start_time": "2024-09-06T10:24:10.631658Z"
    }
   },
   "outputs": [
    {
     "name": "stdout",
     "output_type": "stream",
     "text": [
      "           Date  crude_oil_Price  crude_oil_Open  crude_oil_High  \\\n",
      "264  2014-01-01            98.70           98.61           98.76   \n",
      "265  2014-01-02            95.44           98.50           98.97   \n",
      "266  2014-01-03            93.96           95.47           95.74   \n",
      "267  2014-01-06            93.43           94.18           94.59   \n",
      "268  2014-01-07            93.67           93.60           94.22   \n",
      "...         ...              ...             ...             ...   \n",
      "3127 2024-08-26              NaN             NaN             NaN   \n",
      "3128 2024-08-27              NaN             NaN             NaN   \n",
      "3129 2024-08-28              NaN             NaN             NaN   \n",
      "3130 2024-08-29              NaN             NaN             NaN   \n",
      "3131 2024-08-30              NaN             NaN             NaN   \n",
      "\n",
      "      crude_oil_Low  crude_oil_Vol.  crude_oil_Change %   gold_Open  \\\n",
      "264           98.54             NaN                0.28         NaN   \n",
      "265           95.34        251250.0               -3.30  117.930000   \n",
      "266           93.86        215520.0               -1.55  118.639999   \n",
      "267           93.20        189380.0               -0.56  119.760002   \n",
      "268           93.35        177180.0                0.26  118.459999   \n",
      "...             ...             ...                 ...         ...   \n",
      "3127            NaN             NaN                 NaN  233.449997   \n",
      "3128            NaN             NaN                 NaN  231.690002   \n",
      "3129            NaN             NaN                 NaN  232.000000   \n",
      "3130            NaN             NaN                 NaN  231.949997   \n",
      "3131            NaN             NaN                 NaN  232.529999   \n",
      "\n",
      "       gold_High    gold_Low  ...  silver_Vol.  silver_Change %  \\\n",
      "264          NaN         NaN  ...          NaN              NaN   \n",
      "265   118.730003  117.750000  ...      44690.0             3.91   \n",
      "266   119.620003  118.589996  ...      30030.0             0.41   \n",
      "267   120.389999  117.110001  ...      38850.0            -0.53   \n",
      "268   118.919998  118.129997  ...      38360.0            -1.57   \n",
      "...          ...         ...  ...          ...              ...   \n",
      "3127  233.500000  232.059998  ...          NaN              NaN   \n",
      "3128  233.470001  231.570007  ...          NaN              NaN   \n",
      "3129  232.020004  230.729996  ...          NaN              NaN   \n",
      "3130  233.610001  231.919998  ...          NaN              NaN   \n",
      "3131  232.860001  230.550003  ...          NaN              NaN   \n",
      "\n",
      "      dollar_rate_Price  dollar_rate_Open  dollar_rate_High  dollar_rate_Low  \\\n",
      "264               80.03             80.21             80.24            80.10   \n",
      "265               80.63             80.12             80.71            80.08   \n",
      "266               80.79             80.57             80.89            80.49   \n",
      "267               80.65             80.86             80.91            80.54   \n",
      "268               80.83             80.69             80.95            80.60   \n",
      "...                 ...               ...               ...              ...   \n",
      "3127                NaN               NaN               NaN              NaN   \n",
      "3128                NaN               NaN               NaN              NaN   \n",
      "3129                NaN               NaN               NaN              NaN   \n",
      "3130                NaN               NaN               NaN              NaN   \n",
      "3131                NaN               NaN               NaN              NaN   \n",
      "\n",
      "      dollar_rate_Vol.  dollar_rate_Change %  cpi_CPI  ppi_PPI  \n",
      "264                NaN                  0.00  235.288    203.8  \n",
      "265                NaN                  0.75      NaN      NaN  \n",
      "266                NaN                  0.20      NaN      NaN  \n",
      "267                NaN                 -0.17      NaN      NaN  \n",
      "268                NaN                  0.22      NaN      NaN  \n",
      "...                ...                   ...      ...      ...  \n",
      "3127               NaN                   NaN      NaN      NaN  \n",
      "3128               NaN                   NaN      NaN      NaN  \n",
      "3129               NaN                   NaN      NaN      NaN  \n",
      "3130               NaN                   NaN      NaN      NaN  \n",
      "3131               NaN                   NaN      NaN      NaN  \n",
      "\n",
      "[2868 rows x 33 columns]\n"
     ]
    }
   ],
   "source": [
    "# Filter the DataFrame from 2014 onwards\n",
    "merged_df = merged_df[merged_df['Date'].dt.year >= 2014]\n",
    "\n",
    "# Display the filtered DataFrame\n",
    "print(merged_df)"
   ]
  },
  {
   "cell_type": "code",
   "execution_count": 228,
   "id": "711905c5084ba62e",
   "metadata": {
    "collapsed": false,
    "ExecuteTime": {
     "end_time": "2024-09-06T10:25:49.866817Z",
     "start_time": "2024-09-06T10:25:49.797479Z"
    }
   },
   "outputs": [
    {
     "data": {
      "text/plain": "           Date  crude_oil_Price  crude_oil_Open  crude_oil_High  \\\n264  2014-01-01            98.70           98.61           98.76   \n265  2014-01-02            95.44           98.50           98.97   \n266  2014-01-03            93.96           95.47           95.74   \n267  2014-01-06            93.43           94.18           94.59   \n268  2014-01-07            93.67           93.60           94.22   \n...         ...              ...             ...             ...   \n3127 2024-08-26              NaN             NaN             NaN   \n3128 2024-08-27              NaN             NaN             NaN   \n3129 2024-08-28              NaN             NaN             NaN   \n3130 2024-08-29              NaN             NaN             NaN   \n3131 2024-08-30              NaN             NaN             NaN   \n\n      crude_oil_Low  crude_oil_Vol.  crude_oil_Change %   gold_Open  \\\n264           98.54             NaN                0.28         NaN   \n265           95.34        251250.0               -3.30  117.930000   \n266           93.86        215520.0               -1.55  118.639999   \n267           93.20        189380.0               -0.56  119.760002   \n268           93.35        177180.0                0.26  118.459999   \n...             ...             ...                 ...         ...   \n3127            NaN             NaN                 NaN  233.449997   \n3128            NaN             NaN                 NaN  231.690002   \n3129            NaN             NaN                 NaN  232.000000   \n3130            NaN             NaN                 NaN  231.949997   \n3131            NaN             NaN                 NaN  232.529999   \n\n       gold_High    gold_Low  ...  silver_Low  silver_Vol.  silver_Change %  \\\n264          NaN         NaN  ...         NaN          NaN              NaN   \n265   118.730003  117.750000  ...      19.430      44690.0             3.91   \n266   119.620003  118.589996  ...      19.985      30030.0             0.41   \n267   120.389999  117.110001  ...      19.950      38850.0            -0.53   \n268   118.919998  118.129997  ...      19.625      38360.0            -1.57   \n...          ...         ...  ...         ...          ...              ...   \n3127  233.500000  232.059998  ...         NaN          NaN              NaN   \n3128  233.470001  231.570007  ...         NaN          NaN              NaN   \n3129  232.020004  230.729996  ...         NaN          NaN              NaN   \n3130  233.610001  231.919998  ...         NaN          NaN              NaN   \n3131  232.860001  230.550003  ...         NaN          NaN              NaN   \n\n      dollar_rate_Price  dollar_rate_Open  dollar_rate_High  dollar_rate_Low  \\\n264               80.03             80.21             80.24            80.10   \n265               80.63             80.12             80.71            80.08   \n266               80.79             80.57             80.89            80.49   \n267               80.65             80.86             80.91            80.54   \n268               80.83             80.69             80.95            80.60   \n...                 ...               ...               ...              ...   \n3127                NaN               NaN               NaN              NaN   \n3128                NaN               NaN               NaN              NaN   \n3129                NaN               NaN               NaN              NaN   \n3130                NaN               NaN               NaN              NaN   \n3131                NaN               NaN               NaN              NaN   \n\n      dollar_rate_Change %  cpi_CPI  ppi_PPI  \n264                   0.00  235.288    203.8  \n265                   0.75      NaN      NaN  \n266                   0.20      NaN      NaN  \n267                  -0.17      NaN      NaN  \n268                   0.22      NaN      NaN  \n...                    ...      ...      ...  \n3127                   NaN      NaN      NaN  \n3128                   NaN      NaN      NaN  \n3129                   NaN      NaN      NaN  \n3130                   NaN      NaN      NaN  \n3131                   NaN      NaN      NaN  \n\n[2868 rows x 31 columns]",
      "text/html": "<div>\n<style scoped>\n    .dataframe tbody tr th:only-of-type {\n        vertical-align: middle;\n    }\n\n    .dataframe tbody tr th {\n        vertical-align: top;\n    }\n\n    .dataframe thead th {\n        text-align: right;\n    }\n</style>\n<table border=\"1\" class=\"dataframe\">\n  <thead>\n    <tr style=\"text-align: right;\">\n      <th></th>\n      <th>Date</th>\n      <th>crude_oil_Price</th>\n      <th>crude_oil_Open</th>\n      <th>crude_oil_High</th>\n      <th>crude_oil_Low</th>\n      <th>crude_oil_Vol.</th>\n      <th>crude_oil_Change %</th>\n      <th>gold_Open</th>\n      <th>gold_High</th>\n      <th>gold_Low</th>\n      <th>...</th>\n      <th>silver_Low</th>\n      <th>silver_Vol.</th>\n      <th>silver_Change %</th>\n      <th>dollar_rate_Price</th>\n      <th>dollar_rate_Open</th>\n      <th>dollar_rate_High</th>\n      <th>dollar_rate_Low</th>\n      <th>dollar_rate_Change %</th>\n      <th>cpi_CPI</th>\n      <th>ppi_PPI</th>\n    </tr>\n  </thead>\n  <tbody>\n    <tr>\n      <th>264</th>\n      <td>2014-01-01</td>\n      <td>98.70</td>\n      <td>98.61</td>\n      <td>98.76</td>\n      <td>98.54</td>\n      <td>NaN</td>\n      <td>0.28</td>\n      <td>NaN</td>\n      <td>NaN</td>\n      <td>NaN</td>\n      <td>...</td>\n      <td>NaN</td>\n      <td>NaN</td>\n      <td>NaN</td>\n      <td>80.03</td>\n      <td>80.21</td>\n      <td>80.24</td>\n      <td>80.10</td>\n      <td>0.00</td>\n      <td>235.288</td>\n      <td>203.8</td>\n    </tr>\n    <tr>\n      <th>265</th>\n      <td>2014-01-02</td>\n      <td>95.44</td>\n      <td>98.50</td>\n      <td>98.97</td>\n      <td>95.34</td>\n      <td>251250.0</td>\n      <td>-3.30</td>\n      <td>117.930000</td>\n      <td>118.730003</td>\n      <td>117.750000</td>\n      <td>...</td>\n      <td>19.430</td>\n      <td>44690.0</td>\n      <td>3.91</td>\n      <td>80.63</td>\n      <td>80.12</td>\n      <td>80.71</td>\n      <td>80.08</td>\n      <td>0.75</td>\n      <td>NaN</td>\n      <td>NaN</td>\n    </tr>\n    <tr>\n      <th>266</th>\n      <td>2014-01-03</td>\n      <td>93.96</td>\n      <td>95.47</td>\n      <td>95.74</td>\n      <td>93.86</td>\n      <td>215520.0</td>\n      <td>-1.55</td>\n      <td>118.639999</td>\n      <td>119.620003</td>\n      <td>118.589996</td>\n      <td>...</td>\n      <td>19.985</td>\n      <td>30030.0</td>\n      <td>0.41</td>\n      <td>80.79</td>\n      <td>80.57</td>\n      <td>80.89</td>\n      <td>80.49</td>\n      <td>0.20</td>\n      <td>NaN</td>\n      <td>NaN</td>\n    </tr>\n    <tr>\n      <th>267</th>\n      <td>2014-01-06</td>\n      <td>93.43</td>\n      <td>94.18</td>\n      <td>94.59</td>\n      <td>93.20</td>\n      <td>189380.0</td>\n      <td>-0.56</td>\n      <td>119.760002</td>\n      <td>120.389999</td>\n      <td>117.110001</td>\n      <td>...</td>\n      <td>19.950</td>\n      <td>38850.0</td>\n      <td>-0.53</td>\n      <td>80.65</td>\n      <td>80.86</td>\n      <td>80.91</td>\n      <td>80.54</td>\n      <td>-0.17</td>\n      <td>NaN</td>\n      <td>NaN</td>\n    </tr>\n    <tr>\n      <th>268</th>\n      <td>2014-01-07</td>\n      <td>93.67</td>\n      <td>93.60</td>\n      <td>94.22</td>\n      <td>93.35</td>\n      <td>177180.0</td>\n      <td>0.26</td>\n      <td>118.459999</td>\n      <td>118.919998</td>\n      <td>118.129997</td>\n      <td>...</td>\n      <td>19.625</td>\n      <td>38360.0</td>\n      <td>-1.57</td>\n      <td>80.83</td>\n      <td>80.69</td>\n      <td>80.95</td>\n      <td>80.60</td>\n      <td>0.22</td>\n      <td>NaN</td>\n      <td>NaN</td>\n    </tr>\n    <tr>\n      <th>...</th>\n      <td>...</td>\n      <td>...</td>\n      <td>...</td>\n      <td>...</td>\n      <td>...</td>\n      <td>...</td>\n      <td>...</td>\n      <td>...</td>\n      <td>...</td>\n      <td>...</td>\n      <td>...</td>\n      <td>...</td>\n      <td>...</td>\n      <td>...</td>\n      <td>...</td>\n      <td>...</td>\n      <td>...</td>\n      <td>...</td>\n      <td>...</td>\n      <td>...</td>\n      <td>...</td>\n    </tr>\n    <tr>\n      <th>3127</th>\n      <td>2024-08-26</td>\n      <td>NaN</td>\n      <td>NaN</td>\n      <td>NaN</td>\n      <td>NaN</td>\n      <td>NaN</td>\n      <td>NaN</td>\n      <td>233.449997</td>\n      <td>233.500000</td>\n      <td>232.059998</td>\n      <td>...</td>\n      <td>NaN</td>\n      <td>NaN</td>\n      <td>NaN</td>\n      <td>NaN</td>\n      <td>NaN</td>\n      <td>NaN</td>\n      <td>NaN</td>\n      <td>NaN</td>\n      <td>NaN</td>\n      <td>NaN</td>\n    </tr>\n    <tr>\n      <th>3128</th>\n      <td>2024-08-27</td>\n      <td>NaN</td>\n      <td>NaN</td>\n      <td>NaN</td>\n      <td>NaN</td>\n      <td>NaN</td>\n      <td>NaN</td>\n      <td>231.690002</td>\n      <td>233.470001</td>\n      <td>231.570007</td>\n      <td>...</td>\n      <td>NaN</td>\n      <td>NaN</td>\n      <td>NaN</td>\n      <td>NaN</td>\n      <td>NaN</td>\n      <td>NaN</td>\n      <td>NaN</td>\n      <td>NaN</td>\n      <td>NaN</td>\n      <td>NaN</td>\n    </tr>\n    <tr>\n      <th>3129</th>\n      <td>2024-08-28</td>\n      <td>NaN</td>\n      <td>NaN</td>\n      <td>NaN</td>\n      <td>NaN</td>\n      <td>NaN</td>\n      <td>NaN</td>\n      <td>232.000000</td>\n      <td>232.020004</td>\n      <td>230.729996</td>\n      <td>...</td>\n      <td>NaN</td>\n      <td>NaN</td>\n      <td>NaN</td>\n      <td>NaN</td>\n      <td>NaN</td>\n      <td>NaN</td>\n      <td>NaN</td>\n      <td>NaN</td>\n      <td>NaN</td>\n      <td>NaN</td>\n    </tr>\n    <tr>\n      <th>3130</th>\n      <td>2024-08-29</td>\n      <td>NaN</td>\n      <td>NaN</td>\n      <td>NaN</td>\n      <td>NaN</td>\n      <td>NaN</td>\n      <td>NaN</td>\n      <td>231.949997</td>\n      <td>233.610001</td>\n      <td>231.919998</td>\n      <td>...</td>\n      <td>NaN</td>\n      <td>NaN</td>\n      <td>NaN</td>\n      <td>NaN</td>\n      <td>NaN</td>\n      <td>NaN</td>\n      <td>NaN</td>\n      <td>NaN</td>\n      <td>NaN</td>\n      <td>NaN</td>\n    </tr>\n    <tr>\n      <th>3131</th>\n      <td>2024-08-30</td>\n      <td>NaN</td>\n      <td>NaN</td>\n      <td>NaN</td>\n      <td>NaN</td>\n      <td>NaN</td>\n      <td>NaN</td>\n      <td>232.529999</td>\n      <td>232.860001</td>\n      <td>230.550003</td>\n      <td>...</td>\n      <td>NaN</td>\n      <td>NaN</td>\n      <td>NaN</td>\n      <td>NaN</td>\n      <td>NaN</td>\n      <td>NaN</td>\n      <td>NaN</td>\n      <td>NaN</td>\n      <td>NaN</td>\n      <td>NaN</td>\n    </tr>\n  </tbody>\n</table>\n<p>2868 rows × 31 columns</p>\n</div>"
     },
     "execution_count": 228,
     "metadata": {},
     "output_type": "execute_result"
    }
   ],
   "source": [
    "cleaned_df = merged_df.dropna(axis=1, how='all')\n",
    "cleaned_df"
   ]
  },
  {
   "cell_type": "code",
   "execution_count": 229,
   "id": "6dc8a367651d4f9",
   "metadata": {
    "collapsed": false,
    "ExecuteTime": {
     "end_time": "2024-09-06T10:26:18.281497Z",
     "start_time": "2024-09-06T10:26:18.230116Z"
    }
   },
   "outputs": [
    {
     "name": "stderr",
     "output_type": "stream",
     "text": [
      "/var/folders/zp/tjm6hdl95rjgm9v39jqzvwb00000gq/T/ipykernel_7110/646398149.py:4: FutureWarning: DataFrame.fillna with 'method' is deprecated and will raise in a future version. Use obj.ffill() or obj.bfill() instead.\n",
      "  cleaned_df[sunday_nan_columns] = cleaned_df[sunday_nan_columns].fillna(method='ffill')\n",
      "/var/folders/zp/tjm6hdl95rjgm9v39jqzvwb00000gq/T/ipykernel_7110/646398149.py:4: SettingWithCopyWarning: \n",
      "A value is trying to be set on a copy of a slice from a DataFrame.\n",
      "Try using .loc[row_indexer,col_indexer] = value instead\n",
      "\n",
      "See the caveats in the documentation: https://pandas.pydata.org/pandas-docs/stable/user_guide/indexing.html#returning-a-view-versus-a-copy\n",
      "  cleaned_df[sunday_nan_columns] = cleaned_df[sunday_nan_columns].fillna(method='ffill')\n",
      "/var/folders/zp/tjm6hdl95rjgm9v39jqzvwb00000gq/T/ipykernel_7110/646398149.py:5: SettingWithCopyWarning: \n",
      "A value is trying to be set on a copy of a slice from a DataFrame.\n",
      "Try using .loc[row_indexer,col_indexer] = value instead\n",
      "\n",
      "See the caveats in the documentation: https://pandas.pydata.org/pandas-docs/stable/user_guide/indexing.html#returning-a-view-versus-a-copy\n",
      "  cleaned_df['is_holiday'] = 0\n"
     ]
    },
    {
     "data": {
      "text/plain": "           Date  crude_oil_Price  crude_oil_Open  crude_oil_High  \\\n264  2014-01-01            98.70           98.61           98.76   \n265  2014-01-02            95.44           98.50           98.97   \n266  2014-01-03            93.96           95.47           95.74   \n267  2014-01-06            93.43           94.18           94.59   \n268  2014-01-07            93.67           93.60           94.22   \n...         ...              ...             ...             ...   \n3127 2024-08-26            75.56           77.28           77.69   \n3128 2024-08-27            75.56           77.28           77.69   \n3129 2024-08-28            75.56           77.28           77.69   \n3130 2024-08-29            75.56           77.28           77.69   \n3131 2024-08-30            75.56           77.28           77.69   \n\n      crude_oil_Low  crude_oil_Vol.  crude_oil_Change %   gold_Open  \\\n264           98.54             NaN                0.28         NaN   \n265           95.34        251250.0               -3.30  117.930000   \n266           93.86        215520.0               -1.55  118.639999   \n267           93.20        189380.0               -0.56  119.760002   \n268           93.35        177180.0                0.26  118.459999   \n...             ...             ...                 ...         ...   \n3127          75.52        365120.0               -2.21  233.449997   \n3128          75.52        365120.0               -2.21  231.690002   \n3129          75.52        365120.0               -2.21  232.000000   \n3130          75.52        365120.0               -2.21  231.949997   \n3131          75.52        365120.0               -2.21  232.529999   \n\n       gold_High    gold_Low  ...  silver_Vol.  silver_Change %  \\\n264          NaN         NaN  ...          NaN              NaN   \n265   118.730003  117.750000  ...      44690.0             3.91   \n266   119.620003  118.589996  ...      30030.0             0.41   \n267   120.389999  117.110001  ...      38850.0            -0.53   \n268   118.919998  118.129997  ...      38360.0            -1.57   \n...          ...         ...  ...          ...              ...   \n3127  233.500000  232.059998  ...      61460.0            -1.93   \n3128  233.470001  231.570007  ...      61460.0            -1.93   \n3129  232.020004  230.729996  ...      61460.0            -1.93   \n3130  233.610001  231.919998  ...      61460.0            -1.93   \n3131  232.860001  230.550003  ...      61460.0            -1.93   \n\n      dollar_rate_Price  dollar_rate_Open  dollar_rate_High  dollar_rate_Low  \\\n264               80.03             80.21             80.24            80.10   \n265               80.63             80.12             80.71            80.08   \n266               80.79             80.57             80.89            80.49   \n267               80.65             80.86             80.91            80.54   \n268               80.83             80.69             80.95            80.60   \n...                 ...               ...               ...              ...   \n3127             104.66            104.37            104.67           104.14   \n3128             104.66            104.37            104.67           104.14   \n3129             104.66            104.37            104.67           104.14   \n3130             104.66            104.37            104.67           104.14   \n3131             104.66            104.37            104.67           104.14   \n\n      dollar_rate_Change %  cpi_CPI  ppi_PPI  is_holiday  \n264                   0.00  235.288  203.800           1  \n265                   0.75  235.288  203.800           0  \n266                   0.20  235.288  203.800           0  \n267                  -0.17  235.288  203.800           0  \n268                   0.22  235.288  203.800           0  \n...                    ...      ...      ...         ...  \n3127                  0.27  313.049  255.419           0  \n3128                  0.27  313.049  255.419           0  \n3129                  0.27  313.049  255.419           0  \n3130                  0.27  313.049  255.419           0  \n3131                  0.27  313.049  255.419           0  \n\n[2868 rows x 32 columns]",
      "text/html": "<div>\n<style scoped>\n    .dataframe tbody tr th:only-of-type {\n        vertical-align: middle;\n    }\n\n    .dataframe tbody tr th {\n        vertical-align: top;\n    }\n\n    .dataframe thead th {\n        text-align: right;\n    }\n</style>\n<table border=\"1\" class=\"dataframe\">\n  <thead>\n    <tr style=\"text-align: right;\">\n      <th></th>\n      <th>Date</th>\n      <th>crude_oil_Price</th>\n      <th>crude_oil_Open</th>\n      <th>crude_oil_High</th>\n      <th>crude_oil_Low</th>\n      <th>crude_oil_Vol.</th>\n      <th>crude_oil_Change %</th>\n      <th>gold_Open</th>\n      <th>gold_High</th>\n      <th>gold_Low</th>\n      <th>...</th>\n      <th>silver_Vol.</th>\n      <th>silver_Change %</th>\n      <th>dollar_rate_Price</th>\n      <th>dollar_rate_Open</th>\n      <th>dollar_rate_High</th>\n      <th>dollar_rate_Low</th>\n      <th>dollar_rate_Change %</th>\n      <th>cpi_CPI</th>\n      <th>ppi_PPI</th>\n      <th>is_holiday</th>\n    </tr>\n  </thead>\n  <tbody>\n    <tr>\n      <th>264</th>\n      <td>2014-01-01</td>\n      <td>98.70</td>\n      <td>98.61</td>\n      <td>98.76</td>\n      <td>98.54</td>\n      <td>NaN</td>\n      <td>0.28</td>\n      <td>NaN</td>\n      <td>NaN</td>\n      <td>NaN</td>\n      <td>...</td>\n      <td>NaN</td>\n      <td>NaN</td>\n      <td>80.03</td>\n      <td>80.21</td>\n      <td>80.24</td>\n      <td>80.10</td>\n      <td>0.00</td>\n      <td>235.288</td>\n      <td>203.800</td>\n      <td>1</td>\n    </tr>\n    <tr>\n      <th>265</th>\n      <td>2014-01-02</td>\n      <td>95.44</td>\n      <td>98.50</td>\n      <td>98.97</td>\n      <td>95.34</td>\n      <td>251250.0</td>\n      <td>-3.30</td>\n      <td>117.930000</td>\n      <td>118.730003</td>\n      <td>117.750000</td>\n      <td>...</td>\n      <td>44690.0</td>\n      <td>3.91</td>\n      <td>80.63</td>\n      <td>80.12</td>\n      <td>80.71</td>\n      <td>80.08</td>\n      <td>0.75</td>\n      <td>235.288</td>\n      <td>203.800</td>\n      <td>0</td>\n    </tr>\n    <tr>\n      <th>266</th>\n      <td>2014-01-03</td>\n      <td>93.96</td>\n      <td>95.47</td>\n      <td>95.74</td>\n      <td>93.86</td>\n      <td>215520.0</td>\n      <td>-1.55</td>\n      <td>118.639999</td>\n      <td>119.620003</td>\n      <td>118.589996</td>\n      <td>...</td>\n      <td>30030.0</td>\n      <td>0.41</td>\n      <td>80.79</td>\n      <td>80.57</td>\n      <td>80.89</td>\n      <td>80.49</td>\n      <td>0.20</td>\n      <td>235.288</td>\n      <td>203.800</td>\n      <td>0</td>\n    </tr>\n    <tr>\n      <th>267</th>\n      <td>2014-01-06</td>\n      <td>93.43</td>\n      <td>94.18</td>\n      <td>94.59</td>\n      <td>93.20</td>\n      <td>189380.0</td>\n      <td>-0.56</td>\n      <td>119.760002</td>\n      <td>120.389999</td>\n      <td>117.110001</td>\n      <td>...</td>\n      <td>38850.0</td>\n      <td>-0.53</td>\n      <td>80.65</td>\n      <td>80.86</td>\n      <td>80.91</td>\n      <td>80.54</td>\n      <td>-0.17</td>\n      <td>235.288</td>\n      <td>203.800</td>\n      <td>0</td>\n    </tr>\n    <tr>\n      <th>268</th>\n      <td>2014-01-07</td>\n      <td>93.67</td>\n      <td>93.60</td>\n      <td>94.22</td>\n      <td>93.35</td>\n      <td>177180.0</td>\n      <td>0.26</td>\n      <td>118.459999</td>\n      <td>118.919998</td>\n      <td>118.129997</td>\n      <td>...</td>\n      <td>38360.0</td>\n      <td>-1.57</td>\n      <td>80.83</td>\n      <td>80.69</td>\n      <td>80.95</td>\n      <td>80.60</td>\n      <td>0.22</td>\n      <td>235.288</td>\n      <td>203.800</td>\n      <td>0</td>\n    </tr>\n    <tr>\n      <th>...</th>\n      <td>...</td>\n      <td>...</td>\n      <td>...</td>\n      <td>...</td>\n      <td>...</td>\n      <td>...</td>\n      <td>...</td>\n      <td>...</td>\n      <td>...</td>\n      <td>...</td>\n      <td>...</td>\n      <td>...</td>\n      <td>...</td>\n      <td>...</td>\n      <td>...</td>\n      <td>...</td>\n      <td>...</td>\n      <td>...</td>\n      <td>...</td>\n      <td>...</td>\n      <td>...</td>\n    </tr>\n    <tr>\n      <th>3127</th>\n      <td>2024-08-26</td>\n      <td>75.56</td>\n      <td>77.28</td>\n      <td>77.69</td>\n      <td>75.52</td>\n      <td>365120.0</td>\n      <td>-2.21</td>\n      <td>233.449997</td>\n      <td>233.500000</td>\n      <td>232.059998</td>\n      <td>...</td>\n      <td>61460.0</td>\n      <td>-1.93</td>\n      <td>104.66</td>\n      <td>104.37</td>\n      <td>104.67</td>\n      <td>104.14</td>\n      <td>0.27</td>\n      <td>313.049</td>\n      <td>255.419</td>\n      <td>0</td>\n    </tr>\n    <tr>\n      <th>3128</th>\n      <td>2024-08-27</td>\n      <td>75.56</td>\n      <td>77.28</td>\n      <td>77.69</td>\n      <td>75.52</td>\n      <td>365120.0</td>\n      <td>-2.21</td>\n      <td>231.690002</td>\n      <td>233.470001</td>\n      <td>231.570007</td>\n      <td>...</td>\n      <td>61460.0</td>\n      <td>-1.93</td>\n      <td>104.66</td>\n      <td>104.37</td>\n      <td>104.67</td>\n      <td>104.14</td>\n      <td>0.27</td>\n      <td>313.049</td>\n      <td>255.419</td>\n      <td>0</td>\n    </tr>\n    <tr>\n      <th>3129</th>\n      <td>2024-08-28</td>\n      <td>75.56</td>\n      <td>77.28</td>\n      <td>77.69</td>\n      <td>75.52</td>\n      <td>365120.0</td>\n      <td>-2.21</td>\n      <td>232.000000</td>\n      <td>232.020004</td>\n      <td>230.729996</td>\n      <td>...</td>\n      <td>61460.0</td>\n      <td>-1.93</td>\n      <td>104.66</td>\n      <td>104.37</td>\n      <td>104.67</td>\n      <td>104.14</td>\n      <td>0.27</td>\n      <td>313.049</td>\n      <td>255.419</td>\n      <td>0</td>\n    </tr>\n    <tr>\n      <th>3130</th>\n      <td>2024-08-29</td>\n      <td>75.56</td>\n      <td>77.28</td>\n      <td>77.69</td>\n      <td>75.52</td>\n      <td>365120.0</td>\n      <td>-2.21</td>\n      <td>231.949997</td>\n      <td>233.610001</td>\n      <td>231.919998</td>\n      <td>...</td>\n      <td>61460.0</td>\n      <td>-1.93</td>\n      <td>104.66</td>\n      <td>104.37</td>\n      <td>104.67</td>\n      <td>104.14</td>\n      <td>0.27</td>\n      <td>313.049</td>\n      <td>255.419</td>\n      <td>0</td>\n    </tr>\n    <tr>\n      <th>3131</th>\n      <td>2024-08-30</td>\n      <td>75.56</td>\n      <td>77.28</td>\n      <td>77.69</td>\n      <td>75.52</td>\n      <td>365120.0</td>\n      <td>-2.21</td>\n      <td>232.529999</td>\n      <td>232.860001</td>\n      <td>230.550003</td>\n      <td>...</td>\n      <td>61460.0</td>\n      <td>-1.93</td>\n      <td>104.66</td>\n      <td>104.37</td>\n      <td>104.67</td>\n      <td>104.14</td>\n      <td>0.27</td>\n      <td>313.049</td>\n      <td>255.419</td>\n      <td>0</td>\n    </tr>\n  </tbody>\n</table>\n<p>2868 rows × 32 columns</p>\n</div>"
     },
     "execution_count": 229,
     "metadata": {},
     "output_type": "execute_result"
    }
   ],
   "source": [
    "# Filling NaNs of Sundays (there are Nans on Sundays in all colums except of soybean prices)\n",
    "sunday_nan_columns = [col for col in cleaned_df.columns if not col.startswith('soy')]\n",
    "sunday_nan_columns.remove('Date')\n",
    "cleaned_df[sunday_nan_columns] = cleaned_df[sunday_nan_columns].fillna(method='ffill')\n",
    "cleaned_df['is_holiday'] = 0\n",
    "# Update 'is_holiday' to 1 where 'soybean_Price' is NaN\n",
    "cleaned_df.loc[cleaned_df['gold_Close'].isna(), 'is_holiday'] = 1\n",
    "cleaned_df"
   ]
  },
  {
   "cell_type": "code",
   "execution_count": 181,
   "id": "f62c793c0ae7f781",
   "metadata": {
    "collapsed": false,
    "ExecuteTime": {
     "end_time": "2024-08-31T20:17:49.444026Z",
     "start_time": "2024-08-31T20:17:49.432835Z"
    }
   },
   "outputs": [
    {
     "name": "stdout",
     "output_type": "stream",
     "text": [
      "           Date  crude_oil_Price  crude_oil_Open  crude_oil_High  \\\n",
      "0    2013-01-01              NaN             NaN             NaN   \n",
      "1    2013-01-02            93.12           91.78           93.87   \n",
      "2    2013-01-03            92.92           92.91           93.30   \n",
      "3    2013-01-04            93.09           92.86           93.21   \n",
      "4    2013-01-06            93.09           92.86           93.21   \n",
      "...         ...              ...             ...             ...   \n",
      "3107 2024-08-26            75.56           77.28           77.69   \n",
      "3108 2024-08-27            75.56           77.28           77.69   \n",
      "3109 2024-08-28            75.56           77.28           77.69   \n",
      "3110 2024-08-29            75.56           77.28           77.69   \n",
      "3111 2024-08-30            75.56           77.28           77.69   \n",
      "\n",
      "      crude_oil_Low  crude_oil_Vol.  crude_oil_Change %   gold_Open  \\\n",
      "0               NaN             NaN                 NaN         NaN   \n",
      "1             91.56        203870.0                1.42         NaN   \n",
      "2             92.49        189810.0               -0.21         NaN   \n",
      "3             91.52        210750.0                0.18         NaN   \n",
      "4             91.52        210750.0                0.18         NaN   \n",
      "...             ...             ...                 ...         ...   \n",
      "3107          75.52        365120.0               -2.21  233.449997   \n",
      "3108          75.52        365120.0               -2.21  231.690002   \n",
      "3109          75.52        365120.0               -2.21  232.000000   \n",
      "3110          75.52        365120.0               -2.21  231.949997   \n",
      "3111          75.52        365120.0               -2.21  232.529999   \n",
      "\n",
      "       gold_High    gold_Low  ...  dollar_rate_High  dollar_rate_Low  \\\n",
      "0            NaN         NaN  ...             79.82            79.65   \n",
      "1            NaN         NaN  ...             79.93            79.28   \n",
      "2            NaN         NaN  ...             80.59            79.80   \n",
      "3            NaN         NaN  ...             80.87            80.41   \n",
      "4            NaN         NaN  ...             80.87            80.41   \n",
      "...          ...         ...  ...               ...              ...   \n",
      "3107  233.500000  232.059998  ...            104.67           104.14   \n",
      "3108  233.470001  231.570007  ...            104.67           104.14   \n",
      "3109  232.020004  230.729996  ...            104.67           104.14   \n",
      "3110  233.610001  231.919998  ...            104.67           104.14   \n",
      "3111  232.860001  230.550003  ...            104.67           104.14   \n",
      "\n",
      "      dollar_rate_Change %  soybean_Price  soybean_Open  soybean_High  \\\n",
      "0                     0.00            NaN           NaN           NaN   \n",
      "1                     0.09        1393.13       1432.63        1433.0   \n",
      "2                     0.68        1391.25       1393.13       1395.63   \n",
      "3                     0.15        1365.75       1391.38       1397.13   \n",
      "4                     0.15        1363.25       1367.13       1367.25   \n",
      "...                    ...            ...           ...           ...   \n",
      "3107                  0.27            NaN           NaN           NaN   \n",
      "3108                  0.27            NaN           NaN           NaN   \n",
      "3109                  0.27            NaN           NaN           NaN   \n",
      "3110                  0.27            NaN           NaN           NaN   \n",
      "3111                  0.27            NaN           NaN           NaN   \n",
      "\n",
      "      soybean_Low  soybean_Vol.  soybean_Change %  is_holiday  \n",
      "0             NaN           NaN               NaN           1  \n",
      "1         1386.38           NaN             -1.09           0  \n",
      "2         1372.63           NaN             -0.13           0  \n",
      "3         1356.13           NaN             -1.83           0  \n",
      "4         1357.63           NaN             -0.18           0  \n",
      "...           ...           ...               ...         ...  \n",
      "3107          NaN           NaN               NaN           1  \n",
      "3108          NaN           NaN               NaN           1  \n",
      "3109          NaN           NaN               NaN           1  \n",
      "3110          NaN           NaN               NaN           1  \n",
      "3111          NaN           NaN               NaN           1  \n",
      "\n",
      "[3112 rows x 42 columns]\n"
     ]
    }
   ],
   "source": [
    "print(cleaned_df)"
   ]
  },
  {
   "cell_type": "code",
   "execution_count": 183,
   "id": "e2dcf83d750172c5",
   "metadata": {
    "collapsed": false,
    "ExecuteTime": {
     "end_time": "2024-08-31T20:17:49.469396Z",
     "start_time": "2024-08-31T20:17:49.453143Z"
    }
   },
   "outputs": [
    {
     "name": "stderr",
     "output_type": "stream",
     "text": [
      "/var/folders/zp/tjm6hdl95rjgm9v39jqzvwb00000gq/T/ipykernel_7110/2874835464.py:1: SettingWithCopyWarning: \n",
      "A value is trying to be set on a copy of a slice from a DataFrame.\n",
      "Try using .loc[row_indexer,col_indexer] = value instead\n",
      "\n",
      "See the caveats in the documentation: https://pandas.pydata.org/pandas-docs/stable/user_guide/indexing.html#returning-a-view-versus-a-copy\n",
      "  cleaned_df['Date'] = pd.to_datetime(cleaned_df['Date'])\n",
      "/var/folders/zp/tjm6hdl95rjgm9v39jqzvwb00000gq/T/ipykernel_7110/2874835464.py:2: SettingWithCopyWarning: \n",
      "A value is trying to be set on a copy of a slice from a DataFrame.\n",
      "Try using .loc[row_indexer,col_indexer] = value instead\n",
      "\n",
      "See the caveats in the documentation: https://pandas.pydata.org/pandas-docs/stable/user_guide/indexing.html#returning-a-view-versus-a-copy\n",
      "  filtered_foodprice_df['Date'] = pd.to_datetime(filtered_foodprice_df['Date'], format='%Y-%m')\n",
      "/var/folders/zp/tjm6hdl95rjgm9v39jqzvwb00000gq/T/ipykernel_7110/2874835464.py:7: SettingWithCopyWarning: \n",
      "A value is trying to be set on a copy of a slice from a DataFrame.\n",
      "Try using .loc[row_indexer,col_indexer] = value instead\n",
      "\n",
      "See the caveats in the documentation: https://pandas.pydata.org/pandas-docs/stable/user_guide/indexing.html#returning-a-view-versus-a-copy\n",
      "  filtered_foodprice_df['YearMonth'] = filtered_foodprice_df['Date'].dt.to_period('M')\n",
      "/var/folders/zp/tjm6hdl95rjgm9v39jqzvwb00000gq/T/ipykernel_7110/2874835464.py:16: SettingWithCopyWarning: \n",
      "A value is trying to be set on a copy of a slice from a DataFrame\n",
      "\n",
      "See the caveats in the documentation: https://pandas.pydata.org/pandas-docs/stable/user_guide/indexing.html#returning-a-view-versus-a-copy\n",
      "  filtered_foodprice_df.drop(columns='Date', inplace=True)\n"
     ]
    }
   ],
   "source": [
    "\"\"\"cleaned_df['Date'] = pd.to_datetime(cleaned_df['Date'])\n",
    "filtered_foodprice_df['Date'] = pd.to_datetime(filtered_foodprice_df['Date'], format='%Y-%m')\n",
    "\n",
    "cleaned_df['YearMonth'] = cleaned_df['Date'].dt.to_period('M')\n",
    "\n",
    "# Extract year-month from monthly data\n",
    "filtered_foodprice_df['YearMonth'] = filtered_foodprice_df['Date'].dt.to_period('M')\n",
    "cpi_df['DATE'] = pd.to_datetime(cpi_df['DATE'], format='%Y-%m')\n",
    "ppi_df['DATE'] = pd.to_datetime(ppi_df['DATE'], format='%Y-%m')\n",
    "\n",
    "# Extract year-month from CPI and PPI data\n",
    "cpi_df['YearMonth'] = cpi_df['DATE'].dt.to_period('M')\n",
    "ppi_df['YearMonth'] = ppi_df['DATE'].dt.to_period('M')\n",
    "cpi_df = cpi_df[['YearMonth', 'CPI']]\n",
    "ppi_df = ppi_df[['YearMonth', 'PPI']]\n",
    "filtered_foodprice_df.drop(columns='Date', inplace=True)\n",
    "\n",
    "# Merge CPI and PPI data with all_data_df\n",
    "all_data_df = pd.merge(cleaned_df, cpi_df, on='YearMonth', how='left')\n",
    "all_data_df = pd.merge(all_data_df, ppi_df, on='YearMonth', how='left')\n",
    "# Merge DataFrames on YearMonth\n",
    "#all_data_df = pd.merge(all_data_df, filtered_foodprice_df, on='YearMonth', how='left')\n",
    "\n",
    "# Drop the temporary YearMonth column\n",
    "all_data_df.drop(columns='YearMonth', inplace=True)\"\"\"\n"
   ]
  },
  {
   "cell_type": "code",
   "execution_count": 236,
   "id": "c33716c9d5cb253d",
   "metadata": {
    "collapsed": false,
    "ExecuteTime": {
     "end_time": "2024-09-06T10:32:16.486694Z",
     "start_time": "2024-09-06T10:32:16.479247Z"
    }
   },
   "outputs": [],
   "source": [
    "all_data_df = cleaned_df"
   ]
  },
  {
   "cell_type": "code",
   "execution_count": 185,
   "id": "65ae23c6",
   "metadata": {
    "ExecuteTime": {
     "end_time": "2024-08-31T20:17:49.571313Z",
     "start_time": "2024-08-31T20:17:49.496937Z"
    }
   },
   "outputs": [],
   "source": [
    "all_data_df.to_csv('data collection/all_data.csv', index=False)"
   ]
  },
  {
   "cell_type": "code",
   "outputs": [
    {
     "name": "stderr",
     "output_type": "stream",
     "text": [
      "/var/folders/zp/tjm6hdl95rjgm9v39jqzvwb00000gq/T/ipykernel_7110/1859751631.py:4: SettingWithCopyWarning: \n",
      "A value is trying to be set on a copy of a slice from a DataFrame.\n",
      "Try using .loc[row_indexer,col_indexer] = value instead\n",
      "\n",
      "See the caveats in the documentation: https://pandas.pydata.org/pandas-docs/stable/user_guide/indexing.html#returning-a-view-versus-a-copy\n",
      "  df['Date'] = pd.to_datetime(df['Date'])\n"
     ]
    }
   ],
   "source": [
    "# Load your dataset (adjust the path if needed)\n",
    "df = all_data_df\n",
    "# Set the Date column as the index\n",
    "df['Date'] = pd.to_datetime(df['Date'])\n",
    "df.set_index('Date', inplace=True)"
   ],
   "metadata": {
    "collapsed": false,
    "ExecuteTime": {
     "end_time": "2024-09-06T10:32:25.466580Z",
     "start_time": "2024-09-06T10:32:25.448049Z"
    }
   },
   "id": "767d74bfe21bb9fa",
   "execution_count": 237
  },
  {
   "cell_type": "code",
   "execution_count": 266,
   "id": "7602b5c19b1d865c",
   "metadata": {
    "collapsed": false,
    "ExecuteTime": {
     "end_time": "2024-09-06T11:13:41.324314Z",
     "start_time": "2024-09-06T11:13:15.058414Z"
    }
   },
   "outputs": [
    {
     "name": "stderr",
     "output_type": "stream",
     "text": [
      "/Library/Python/3.9/site-packages/statsmodels/tsa/base/tsa_model.py:473: ValueWarning: A date index has been provided, but it has no associated frequency information and so will be ignored when e.g. forecasting.\n",
      "  self._init_dates(dates, freq)\n",
      "/Library/Python/3.9/site-packages/statsmodels/tsa/base/tsa_model.py:473: ValueWarning: A date index has been provided, but it has no associated frequency information and so will be ignored when e.g. forecasting.\n",
      "  self._init_dates(dates, freq)\n",
      "/Library/Python/3.9/site-packages/statsmodels/tsa/base/tsa_model.py:473: ValueWarning: A date index has been provided, but it has no associated frequency information and so will be ignored when e.g. forecasting.\n",
      "  self._init_dates(dates, freq)\n",
      "/Library/Python/3.9/site-packages/statsmodels/tsa/statespace/sarimax.py:966: UserWarning: Non-stationary starting autoregressive parameters found. Using zeros as starting parameters.\n",
      "  warn('Non-stationary starting autoregressive parameters'\n",
      "/Library/Python/3.9/site-packages/statsmodels/tsa/statespace/sarimax.py:978: UserWarning: Non-invertible starting MA parameters found. Using zeros as starting parameters.\n",
      "  warn('Non-invertible starting MA parameters found.'\n",
      "/Library/Python/3.9/site-packages/statsmodels/base/model.py:607: ConvergenceWarning: Maximum Likelihood optimization failed to converge. Check mle_retvals\n",
      "  warnings.warn(\"Maximum Likelihood optimization failed to \"\n",
      "/Library/Python/3.9/site-packages/statsmodels/tsa/base/tsa_model.py:836: ValueWarning: No supported index is available. Prediction results will be given with an integer index beginning at `start`.\n",
      "  return get_prediction_index(\n",
      "/Library/Python/3.9/site-packages/statsmodels/tsa/base/tsa_model.py:836: FutureWarning: No supported index is available. In the next version, calling this method in a model without a supported index will result in an exception.\n",
      "  return get_prediction_index(\n",
      "/Library/Python/3.9/site-packages/statsmodels/tsa/base/tsa_model.py:836: ValueWarning: No supported index is available. Prediction results will be given with an integer index beginning at `start`.\n",
      "  return get_prediction_index(\n",
      "/Library/Python/3.9/site-packages/statsmodels/tsa/base/tsa_model.py:836: ValueWarning: No supported index is available. Prediction results will be given with an integer index beginning at `start`.\n",
      "  return get_prediction_index(\n"
     ]
    },
    {
     "name": "stdout",
     "output_type": "stream",
     "text": [
      "                               SARIMAX Results                                \n",
      "==============================================================================\n",
      "Dep. Variable:             gold_Close   No. Observations:                 2293\n",
      "Model:                 ARIMA(7, 1, 2)   Log Likelihood               -3697.797\n",
      "Date:                Fri, 06 Sep 2024   AIC                           7415.594\n",
      "Time:                        14:13:20   BIC                           7472.965\n",
      "Sample:                             0   HQIC                          7436.514\n",
      "                               - 2293                                         \n",
      "Covariance Type:                  opg                                         \n",
      "==============================================================================\n",
      "                 coef    std err          z      P>|z|      [0.025      0.975]\n",
      "------------------------------------------------------------------------------\n",
      "ar.L1          0.1386      0.016      8.509      0.000       0.107       0.171\n",
      "ar.L2         -1.0128      0.015    -66.406      0.000      -1.043      -0.983\n",
      "ar.L3          0.0164      0.023      0.705      0.481      -0.029       0.062\n",
      "ar.L4         -0.0336      0.022     -1.522      0.128      -0.077       0.010\n",
      "ar.L5         -0.0362      0.022     -1.636      0.102      -0.080       0.007\n",
      "ar.L6         -0.0126      0.016     -0.804      0.421      -0.043       0.018\n",
      "ar.L7         -0.0475      0.015     -3.083      0.002      -0.078      -0.017\n",
      "ma.L1         -0.1256      0.004    -33.361      0.000      -0.133      -0.118\n",
      "ma.L2          0.9984      0.006    173.327      0.000       0.987       1.010\n",
      "sigma2         1.4760      0.025     58.647      0.000       1.427       1.525\n",
      "===================================================================================\n",
      "Ljung-Box (L1) (Q):                   0.00   Jarque-Bera (JB):              3336.49\n",
      "Prob(Q):                              0.97   Prob(JB):                         0.00\n",
      "Heteroskedasticity (H):               2.16   Skew:                            -0.47\n",
      "Prob(H) (two-sided):                  0.00   Kurtosis:                         8.83\n",
      "===================================================================================\n",
      "\n",
      "Warnings:\n",
      "[1] Covariance matrix calculated using the outer product of gradients (complex-step).\n",
      "0\n",
      "1\n",
      "2\n",
      "3\n",
      "4\n",
      "5\n",
      "6\n",
      "7\n",
      "8\n",
      "9\n",
      "10\n",
      "11\n",
      "12\n",
      "13\n",
      "14\n",
      "15\n",
      "16\n",
      "17\n",
      "18\n",
      "19\n",
      "20\n",
      "21\n",
      "22\n",
      "23\n",
      "24\n",
      "25\n",
      "26\n",
      "27\n",
      "28\n",
      "29\n",
      "30\n",
      "31\n",
      "32\n",
      "33\n",
      "34\n",
      "35\n",
      "36\n",
      "37\n",
      "38\n",
      "39\n",
      "40\n",
      "41\n",
      "42\n",
      "43\n",
      "44\n",
      "45\n",
      "46\n",
      "47\n",
      "48\n",
      "49\n",
      "50\n",
      "51\n",
      "52\n",
      "53\n",
      "54\n",
      "55\n",
      "56\n",
      "57\n",
      "58\n",
      "59\n",
      "60\n",
      "61\n",
      "62\n",
      "63\n",
      "64\n",
      "65\n",
      "66\n",
      "67\n",
      "68\n",
      "69\n",
      "70\n",
      "71\n",
      "72\n",
      "73\n",
      "74\n",
      "75\n",
      "76\n",
      "77\n",
      "78\n",
      "79\n",
      "80\n",
      "81\n",
      "82\n",
      "83\n",
      "84\n",
      "85\n",
      "86\n",
      "87\n",
      "88\n",
      "89\n",
      "90\n",
      "91\n",
      "92\n",
      "93\n",
      "94\n",
      "95\n",
      "96\n",
      "97\n",
      "98\n",
      "99\n",
      "100\n",
      "101\n",
      "102\n",
      "103\n",
      "104\n",
      "105\n",
      "106\n",
      "107\n",
      "108\n",
      "109\n",
      "110\n",
      "111\n",
      "112\n",
      "113\n",
      "114\n",
      "115\n",
      "116\n",
      "117\n",
      "118\n",
      "119\n",
      "120\n",
      "121\n",
      "122\n",
      "123\n",
      "124\n",
      "125\n",
      "126\n",
      "127\n",
      "128\n",
      "129\n",
      "130\n",
      "131\n",
      "132\n",
      "133\n",
      "134\n",
      "135\n",
      "136\n",
      "137\n",
      "138\n",
      "139\n",
      "140\n",
      "141\n",
      "142\n",
      "143\n",
      "144\n",
      "145\n",
      "146\n",
      "147\n",
      "148\n",
      "149\n",
      "150\n",
      "151\n",
      "152\n",
      "153\n",
      "154\n",
      "155\n",
      "156\n",
      "157\n",
      "158\n",
      "159\n",
      "160\n",
      "161\n",
      "162\n",
      "163\n",
      "164\n",
      "165\n",
      "166\n",
      "167\n",
      "168\n",
      "169\n",
      "170\n",
      "171\n",
      "172\n",
      "173\n",
      "174\n",
      "175\n",
      "176\n",
      "177\n",
      "178\n",
      "179\n",
      "180\n",
      "181\n",
      "182\n",
      "183\n",
      "184\n",
      "185\n",
      "186\n",
      "187\n",
      "188\n",
      "189\n",
      "190\n",
      "191\n",
      "192\n",
      "193\n",
      "194\n",
      "195\n",
      "196\n",
      "197\n",
      "198\n",
      "199\n",
      "200\n",
      "201\n",
      "202\n",
      "203\n",
      "204\n",
      "205\n",
      "206\n",
      "207\n",
      "208\n",
      "209\n",
      "210\n",
      "211\n",
      "212\n",
      "213\n",
      "214\n",
      "215\n",
      "216\n",
      "217\n",
      "218\n",
      "219\n",
      "220\n",
      "221\n",
      "222\n",
      "223\n",
      "224\n",
      "225\n",
      "226\n",
      "227\n",
      "228\n",
      "229\n",
      "230\n",
      "231\n",
      "232\n",
      "233\n",
      "234\n",
      "235\n",
      "236\n",
      "237\n",
      "238\n",
      "239\n",
      "240\n",
      "241\n",
      "242\n",
      "243\n",
      "244\n",
      "245\n",
      "246\n",
      "247\n",
      "248\n",
      "249\n",
      "250\n",
      "251\n",
      "252\n",
      "253\n",
      "254\n",
      "255\n",
      "256\n",
      "257\n",
      "258\n",
      "259\n",
      "260\n",
      "261\n",
      "262\n",
      "263\n",
      "264\n",
      "265\n",
      "266\n",
      "267\n",
      "268\n",
      "269\n",
      "270\n",
      "271\n",
      "272\n",
      "273\n",
      "274\n",
      "275\n",
      "276\n",
      "277\n",
      "278\n",
      "279\n",
      "280\n",
      "281\n",
      "282\n",
      "283\n",
      "284\n",
      "285\n",
      "286\n",
      "287\n",
      "288\n",
      "289\n",
      "290\n",
      "291\n",
      "292\n",
      "293\n",
      "294\n",
      "295\n",
      "296\n",
      "297\n",
      "298\n",
      "299\n",
      "300\n",
      "301\n",
      "302\n",
      "303\n",
      "304\n",
      "305\n",
      "306\n",
      "307\n",
      "308\n",
      "309\n",
      "310\n",
      "311\n",
      "312\n",
      "313\n",
      "314\n",
      "315\n",
      "316\n",
      "317\n",
      "318\n",
      "319\n",
      "320\n",
      "321\n",
      "322\n",
      "323\n",
      "324\n",
      "325\n",
      "326\n",
      "327\n",
      "328\n",
      "329\n",
      "330\n",
      "331\n",
      "332\n",
      "333\n",
      "334\n",
      "335\n",
      "336\n",
      "337\n",
      "338\n",
      "339\n",
      "340\n",
      "341\n",
      "342\n",
      "343\n",
      "344\n",
      "345\n",
      "346\n",
      "347\n",
      "348\n",
      "349\n",
      "350\n",
      "351\n",
      "352\n",
      "353\n",
      "354\n",
      "355\n",
      "356\n",
      "357\n",
      "358\n",
      "359\n",
      "360\n",
      "361\n",
      "362\n",
      "363\n",
      "364\n",
      "365\n",
      "366\n",
      "367\n",
      "368\n",
      "369\n",
      "370\n",
      "371\n",
      "372\n",
      "373\n",
      "374\n",
      "375\n",
      "376\n",
      "377\n",
      "378\n",
      "379\n",
      "380\n",
      "381\n",
      "382\n",
      "383\n",
      "384\n",
      "385\n",
      "386\n",
      "387\n",
      "388\n",
      "389\n",
      "390\n",
      "391\n",
      "392\n",
      "393\n",
      "394\n",
      "395\n",
      "396\n",
      "397\n",
      "398\n",
      "399\n",
      "400\n",
      "401\n",
      "402\n",
      "403\n",
      "404\n",
      "405\n",
      "406\n",
      "407\n",
      "408\n",
      "409\n",
      "410\n",
      "411\n",
      "412\n",
      "413\n",
      "414\n",
      "415\n",
      "416\n",
      "417\n",
      "418\n",
      "419\n",
      "420\n",
      "421\n",
      "422\n",
      "423\n",
      "424\n",
      "425\n",
      "426\n",
      "427\n",
      "428\n",
      "429\n",
      "430\n",
      "431\n",
      "432\n",
      "433\n",
      "434\n",
      "435\n",
      "436\n",
      "437\n",
      "438\n",
      "439\n",
      "440\n",
      "441\n",
      "442\n",
      "443\n",
      "444\n",
      "445\n",
      "446\n",
      "447\n",
      "448\n",
      "449\n",
      "450\n",
      "451\n",
      "452\n",
      "453\n",
      "454\n",
      "455\n",
      "456\n",
      "457\n",
      "458\n",
      "459\n",
      "460\n",
      "461\n",
      "462\n",
      "463\n",
      "464\n",
      "465\n",
      "466\n",
      "467\n",
      "468\n",
      "469\n",
      "470\n",
      "471\n",
      "472\n",
      "473\n",
      "474\n",
      "475\n",
      "476\n",
      "477\n",
      "478\n",
      "479\n",
      "480\n",
      "481\n",
      "482\n",
      "483\n",
      "484\n",
      "485\n",
      "486\n",
      "487\n",
      "488\n",
      "489\n",
      "490\n",
      "491\n",
      "492\n",
      "493\n",
      "494\n",
      "495\n",
      "496\n",
      "497\n",
      "498\n",
      "499\n",
      "500\n",
      "501\n",
      "502\n",
      "503\n",
      "504\n",
      "505\n",
      "506\n",
      "507\n",
      "508\n",
      "509\n",
      "510\n",
      "511\n",
      "512\n",
      "513\n",
      "514\n",
      "515\n",
      "516\n",
      "517\n",
      "518\n",
      "519\n",
      "520\n",
      "521\n",
      "522\n",
      "523\n",
      "524\n",
      "525\n",
      "526\n",
      "527\n",
      "528\n",
      "529\n",
      "530\n",
      "531\n",
      "532\n",
      "533\n",
      "534\n",
      "535\n",
      "536\n",
      "537\n",
      "538\n",
      "539\n",
      "540\n",
      "541\n",
      "542\n",
      "543\n",
      "544\n",
      "545\n",
      "546\n",
      "547\n",
      "548\n",
      "549\n",
      "550\n",
      "551\n",
      "552\n",
      "553\n",
      "554\n",
      "555\n",
      "556\n",
      "557\n",
      "558\n",
      "559\n",
      "560\n",
      "561\n",
      "562\n",
      "563\n",
      "564\n",
      "565\n",
      "566\n",
      "567\n",
      "568\n",
      "569\n",
      "570\n",
      "571\n",
      "572\n",
      "573\n",
      "            gold_Close  Predictions\n",
      "Date                               \n",
      "2022-07-21  160.270004   157.819554\n",
      "2022-07-22  160.669998   160.108804\n",
      "2022-07-25  160.229996   160.911654\n",
      "2022-07-26  160.039993   160.496334\n",
      "2022-07-27  161.669998   159.810201\n",
      "...                ...          ...\n",
      "2024-08-26  232.759995   232.401146\n",
      "2024-08-27  233.389999   232.472128\n",
      "2024-08-28  231.750000   233.126219\n",
      "2024-08-29  232.949997   231.961208\n",
      "2024-08-30  231.289993   233.218531\n",
      "\n",
      "[574 rows x 2 columns]\n"
     ]
    },
    {
     "name": "stderr",
     "output_type": "stream",
     "text": [
      "/var/folders/zp/tjm6hdl95rjgm9v39jqzvwb00000gq/T/ipykernel_7110/1704447799.py:35: FutureWarning: Calling float on a single element Series is deprecated and will raise a TypeError in the future. Use float(ser.iloc[0]) instead\n",
      "  predictions = [float(pred) for pred in predictions]\n"
     ]
    },
    {
     "data": {
      "text/plain": "<Figure size 1200x600 with 1 Axes>",
      "image/png": "[encoded data removed]"
     },
     "metadata": {},
     "output_type": "display_data"
    },
    {
     "name": "stdout",
     "output_type": "stream",
     "text": [
      "Root Mean Square Error: 1.6742261525473574\n",
      "Mean Absolute Error: 1.24457523317401\n"
     ]
    }
   ],
   "source": [
    "import pandas as pd\n",
    "import numpy as np\n",
    "from statsmodels.tsa.arima.model import ARIMA\n",
    "import matplotlib.pyplot as plt\n",
    "from sklearn.metrics import mean_squared_error, mean_absolute_error\n",
    "# Use only the gold_Price column for the ARIMA model\n",
    "gold_prices = df['gold_Close'].dropna()  # Drop missing values\n",
    "\n",
    "# Split the data into training and testing sets\n",
    "train_size = int(len(gold_prices) * 0.8)  # 80% training, 20% testing\n",
    "train_data, test_data = gold_prices[:train_size], gold_prices[train_size:]\n",
    "\n",
    "# Define and fit the ARIMA model (p, d, q)\n",
    "# p=4 - looking 4 days back\n",
    "# d=1 - using the differences (?)\n",
    "# q=2 - using 2 last errors (?)\n",
    "model = ARIMA(train_data, order=(7, 1, 2)) \n",
    "model_fit = model.fit()\n",
    "# Print the model summary\n",
    "print(model_fit.summary())\n",
    "\n",
    "# Forecasting one day ahead using the true data each time\n",
    "history = list(train_data)  # Create a list from the training data\n",
    "predictions = []\n",
    "\n",
    "for t in range(len(test_data)):\n",
    "    print(t)\n",
    "    yhat = model_fit.forecast(steps=1)\n",
    "    predictions.append(yhat)\n",
    "    history.append(test_data.iloc[t])\n",
    "    model_fit = model_fit.append([test_data.iloc[t]])\n",
    "    #model_fit = model_fit.append([yhat])\n",
    "\n",
    "# Convert predictions to a list of numbers\n",
    "predictions = [float(pred) for pred in predictions]\n",
    "\n",
    "# Convert predictions to a DataFrame for easier plotting\n",
    "pred_index = gold_prices.index[train_size:]  # Create an index for predictions\n",
    "predictions_df = pd.DataFrame(predictions, index=pred_index, columns=['Predictions'])\n",
    "\n",
    "# Combine predictions and actual test data\n",
    "test_data = test_data.to_frame()\n",
    "test_data = test_data.join(predictions_df)\n",
    "print(test_data)\n",
    "# Plotting the results\n",
    "plt.figure(figsize=(12,6))\n",
    "plt.plot(train_data, label='Training Data')\n",
    "plt.plot(test_data.index, test_data['gold_Close'], color='blue', label='Actual Gold Price')\n",
    "plt.plot(test_data.index, test_data['Predictions'], color='red', linestyle='--', label='Predicted Gold Price')\n",
    "plt.title('Gold Price Prediction')\n",
    "plt.xlabel('Date')\n",
    "plt.ylabel('Gold Price')\n",
    "plt.legend()\n",
    "plt.show()\n",
    "\n",
    "# Evaluate the model\n",
    "rmse = np.sqrt(mean_squared_error(test_data['gold_Close'], test_data['Predictions']))\n",
    "mae = mean_absolute_error(test_data['gold_Close'], test_data['Predictions'])\n",
    "\n",
    "print(f\"Root Mean Square Error: {rmse}\")\n",
    "print(f\"Mean Absolute Error: {mae}\")"
   ]
  },
  {
   "cell_type": "markdown",
   "source": [
    "LR: \n",
    "Mean Absolute Error (MAE): 1.2008843431040424\n",
    "Root Mean Squared Error (RMSE): 1.635357918772382"
   ],
   "metadata": {
    "collapsed": false
   },
   "id": "df0fb1b0532aa1a9"
  },
  {
   "cell_type": "code",
   "outputs": [
    {
     "data": {
      "text/plain": "Timestamp('2022-07-25 00:00:00')"
     },
     "execution_count": 188,
     "metadata": {},
     "output_type": "execute_result"
    }
   ],
   "source": [
    "pred_index"
   ],
   "metadata": {
    "collapsed": false,
    "ExecuteTime": {
     "end_time": "2024-08-31T20:19:44.455278Z",
     "start_time": "2024-08-31T20:19:44.441088Z"
    }
   },
   "id": "5002f2fbeae5a28a",
   "execution_count": 188
  },
  {
   "cell_type": "code",
   "outputs": [],
   "source": [
    "import pandas as pd\n",
    "import numpy as np\n",
    "from statsmodels.tsa.arima.model import ARIMA\n",
    "\n",
    "# Initialize predictions list\n",
    "predictions = []\n",
    "\n",
    "# Copy the initial train_data\n",
    "current_data = train_data.copy()\n",
    "\n",
    "# Forecast one step at a time\n",
    "for i in range(len(test_data[:50])):\n",
    "    # Fit the model on the current data\n",
    "    model = ARIMA(current_data, order=(4, 1, 2))\n",
    "    model_fit = model.fit()\n",
    "    \n",
    "    # Forecast the next step\n",
    "    forecast = model_fit.forecast(steps=1)\n",
    "    predictions.append(forecast)\n",
    "    \n",
    "    # Update current_data with the forecasted value\n",
    "    # Convert forecast to a DataFrame and concatenate\n",
    "    forecast_series = pd.Series(forecast, index=[test_data[:50].index[i]])\n",
    "    current_data = pd.concat([current_data, forecast_series])\n",
    "    \n",
    "    \n",
    "    # If the dataset is large, consider trimming it to keep a manageable size\n",
    "print(predictions)\n",
    "# Convert predictions to DataFrame\n",
    "predictions_df = pd.DataFrame(predictions, index=test_data[:50].index, columns=['Predictions'])\n",
    "# Check the result\n",
    "print('Predictions DataFrame:')\n",
    "print(predictions_df.head())\n"
   ],
   "metadata": {
    "collapsed": false,
    "ExecuteTime": {
     "end_time": "2024-08-31T20:18:02.521862Z",
     "start_time": "2024-08-31T20:18:02.521752Z"
    }
   },
   "id": "46da1953f4fe3fd2",
   "execution_count": null
  },
  {
   "cell_type": "code",
   "outputs": [],
   "source": [
    "predictions[0]"
   ],
   "metadata": {
    "collapsed": false
   },
   "id": "ec11567535c7030e",
   "execution_count": null
  },
  {
   "cell_type": "code",
   "outputs": [],
   "source": [
    "plt.figure(figsize=(12,6))\n",
    "plt.plot(train_data, label='Training Data')\n",
    "plt.plot(test_data.index, test_data['gold_Price'], color='blue', label='Actual Gold Price')\n",
    "plt.plot(test_data.index, test_data['Predictions'], color='red', label='Predicted Gold Price')\n",
    "plt.title('Gold Price Prediction')\n",
    "plt.xlabel('Date')\n",
    "plt.ylim(1800, 2000)\n",
    "plt.ylabel('Gold Price')\n",
    "plt.legend()\n",
    "plt.show()"
   ],
   "metadata": {
    "collapsed": false
   },
   "id": "47ee1fd401e7172"
  },
  {
   "cell_type": "code",
   "outputs": [],
   "source": [
    "import pandas as pd\n",
    "import numpy as np\n",
    "\n",
    "# Sample data\n",
    "dates = pd.date_range(start='2024-01-01', periods=10, freq='D')\n",
    "gold_prices = pd.Series(np.random.randn(10), index=dates)\n",
    "train_size = 7\n",
    "predictions = np.random.randn(len(gold_prices) - train_size)\n",
    "print(predictions)\n",
    "\n",
    "# Index for predictions\n",
    "index_for_predictions = gold_prices.index[train_size:]\n",
    "\n",
    "# Debug output\n",
    "print(\"Index for predictions:\")\n",
    "print(index_for_predictions)\n",
    "print(\"Predictions:\")\n",
    "print(predictions)\n",
    "\n",
    "# Create DataFrame\n",
    "predictions_df = pd.DataFrame(predictions, index=index_for_predictions, columns=['Predictions'])\n",
    "print(\"Predictions DataFrame:\")\n",
    "print(predictions_df)\n"
   ],
   "metadata": {
    "collapsed": false
   },
   "id": "a45d5c26d6687574",
   "execution_count": null
  },
  {
   "cell_type": "code",
   "execution_count": null,
   "id": "e55d730b3f85f44d",
   "metadata": {},
   "outputs": [],
   "source": [
    "all_data_df.to_csv('all_data.csv', index=False)"
   ]
  },
  {
   "cell_type": "code",
   "execution_count": null,
   "id": "408f21fe1f429b93",
   "metadata": {
    "collapsed": false,
    "pycharm": {
     "name": "#%%\n"
    }
   },
   "outputs": [],
   "source": [
    "all_data_df['gold_price_in_7_days'] = all_data_df['gold_Price'].shift(-7)\n",
    "all_data_df['gold_price_in_30_days'] = all_data_df['gold_Price'].shift(-30)"
   ]
  },
  {
   "cell_type": "code",
   "execution_count": null,
   "id": "2fada65798de6404",
   "metadata": {
    "collapsed": false,
    "pycharm": {
     "name": "#%%\n"
    }
   },
   "outputs": [],
   "source": [
    "len(all_data_df)"
   ]
  },
  {
   "cell_type": "code",
   "execution_count": null,
   "id": "32d3bcf168c48b2",
   "metadata": {},
   "outputs": [],
   "source": [
    "from sklearn.model_selection import train_test_split\n",
    "from sklearn.linear_model import LinearRegression\n",
    "from sklearn.metrics import mean_squared_error, r2_score\n",
    "\n",
    "df_clean = all_data_df.loc[:, ~all_data_df.columns.str.contains(r'corn|soybean|Dairy|Sugar|Meat|Food|Cereals|Oils|CPI|PPI')]\n",
    "df_clean = df_clean.dropna()\n",
    "\n"
   ]
  },
  {
   "cell_type": "code",
   "execution_count": 238,
   "id": "c5aaa10d",
   "metadata": {
    "ExecuteTime": {
     "end_time": "2024-09-06T10:37:55.728048Z",
     "start_time": "2024-09-06T10:37:55.673618Z"
    }
   },
   "outputs": [
    {
     "name": "stderr",
     "output_type": "stream",
     "text": [
      "/var/folders/zp/tjm6hdl95rjgm9v39jqzvwb00000gq/T/ipykernel_7110/1155766837.py:1: SettingWithCopyWarning: \n",
      "A value is trying to be set on a copy of a slice from a DataFrame.\n",
      "Try using .loc[row_indexer,col_indexer] = value instead\n",
      "\n",
      "See the caveats in the documentation: https://pandas.pydata.org/pandas-docs/stable/user_guide/indexing.html#returning-a-view-versus-a-copy\n",
      "  all_data_df['gold_price_to_predict'] = all_data_df['gold_Close'].shift(-1)\n"
     ]
    },
    {
     "data": {
      "text/plain": "            crude_oil_Price  crude_oil_Open  crude_oil_High  crude_oil_Low  \\\nDate                                                                         \n2014-01-01            98.70           98.61           98.76          98.54   \n2014-01-02            95.44           98.50           98.97          95.34   \n2014-01-03            93.96           95.47           95.74          93.86   \n2014-01-06            93.43           94.18           94.59          93.20   \n2014-01-07            93.67           93.60           94.22          93.35   \n...                     ...             ...             ...            ...   \n2024-08-26            75.56           77.28           77.69          75.52   \n2024-08-27            75.56           77.28           77.69          75.52   \n2024-08-28            75.56           77.28           77.69          75.52   \n2024-08-29            75.56           77.28           77.69          75.52   \n2024-08-30            75.56           77.28           77.69          75.52   \n\n            crude_oil_Vol.  crude_oil_Change %   gold_Open   gold_High  \\\nDate                                                                     \n2014-01-01             NaN                0.28         NaN         NaN   \n2014-01-02        251250.0               -3.30  117.930000  118.730003   \n2014-01-03        215520.0               -1.55  118.639999  119.620003   \n2014-01-06        189380.0               -0.56  119.760002  120.389999   \n2014-01-07        177180.0                0.26  118.459999  118.919998   \n...                    ...                 ...         ...         ...   \n2024-08-26        365120.0               -2.21  233.449997  233.500000   \n2024-08-27        365120.0               -2.21  231.690002  233.470001   \n2024-08-28        365120.0               -2.21  232.000000  232.020004   \n2024-08-29        365120.0               -2.21  231.949997  233.610001   \n2024-08-30        365120.0               -2.21  232.529999  232.860001   \n\n              gold_Low  gold_Close  ...  dollar_rate_High  dollar_rate_Low  \\\nDate                                ...                                      \n2014-01-01         NaN         NaN  ...             80.24            80.10   \n2014-01-02  117.750000  118.000000  ...             80.71            80.08   \n2014-01-03  118.589996  119.290001  ...             80.89            80.49   \n2014-01-06  117.110001  119.500000  ...             80.91            80.54   \n2014-01-07  118.129997  118.820000  ...             80.95            80.60   \n...                ...         ...  ...               ...              ...   \n2024-08-26  232.059998  232.759995  ...            104.67           104.14   \n2024-08-27  231.570007  233.389999  ...            104.67           104.14   \n2024-08-28  230.729996  231.750000  ...            104.67           104.14   \n2024-08-29  231.919998  232.949997  ...            104.67           104.14   \n2024-08-30  230.550003  231.289993  ...            104.67           104.14   \n\n            dollar_rate_Change %  cpi_CPI  ppi_PPI  is_holiday  \\\nDate                                                             \n2014-01-01                  0.00  235.288  203.800           1   \n2014-01-02                  0.75  235.288  203.800           0   \n2014-01-03                  0.20  235.288  203.800           0   \n2014-01-06                 -0.17  235.288  203.800           0   \n2014-01-07                  0.22  235.288  203.800           0   \n...                          ...      ...      ...         ...   \n2024-08-26                  0.27  313.049  255.419           0   \n2024-08-27                  0.27  313.049  255.419           0   \n2024-08-28                  0.27  313.049  255.419           0   \n2024-08-29                  0.27  313.049  255.419           0   \n2024-08-30                  0.27  313.049  255.419           0   \n\n            gold_price_to_predict  gold_price_yesterday  gold_price_2days  \\\nDate                                                                        \n2014-01-01             118.000000                   NaN               NaN   \n2014-01-02             119.290001                   NaN               NaN   \n2014-01-03             119.500000            118.000000               NaN   \n2014-01-06             118.820000            119.290001        118.000000   \n2014-01-07             118.120003            119.500000        119.290001   \n...                           ...                   ...               ...   \n2024-08-26             233.389999            232.020004        229.369995   \n2024-08-27             231.750000            232.759995        232.020004   \n2024-08-28             232.949997            233.389999        232.759995   \n2024-08-29             231.289993            231.750000        233.389999   \n2024-08-30                    NaN            232.949997        231.750000   \n\n            gold_price_3days  \nDate                          \n2014-01-01               NaN  \n2014-01-02               NaN  \n2014-01-03               NaN  \n2014-01-06               NaN  \n2014-01-07        118.000000  \n...                      ...  \n2024-08-26        232.149994  \n2024-08-27        229.369995  \n2024-08-28        232.020004  \n2024-08-29        232.759995  \n2024-08-30        233.389999  \n\n[2868 rows x 35 columns]",
      "text/html": "<div>\n<style scoped>\n    .dataframe tbody tr th:only-of-type {\n        vertical-align: middle;\n    }\n\n    .dataframe tbody tr th {\n        vertical-align: top;\n    }\n\n    .dataframe thead th {\n        text-align: right;\n    }\n</style>\n<table border=\"1\" class=\"dataframe\">\n  <thead>\n    <tr style=\"text-align: right;\">\n      <th></th>\n      <th>crude_oil_Price</th>\n      <th>crude_oil_Open</th>\n      <th>crude_oil_High</th>\n      <th>crude_oil_Low</th>\n      <th>crude_oil_Vol.</th>\n      <th>crude_oil_Change %</th>\n      <th>gold_Open</th>\n      <th>gold_High</th>\n      <th>gold_Low</th>\n      <th>gold_Close</th>\n      <th>...</th>\n      <th>dollar_rate_High</th>\n      <th>dollar_rate_Low</th>\n      <th>dollar_rate_Change %</th>\n      <th>cpi_CPI</th>\n      <th>ppi_PPI</th>\n      <th>is_holiday</th>\n      <th>gold_price_to_predict</th>\n      <th>gold_price_yesterday</th>\n      <th>gold_price_2days</th>\n      <th>gold_price_3days</th>\n    </tr>\n    <tr>\n      <th>Date</th>\n      <th></th>\n      <th></th>\n      <th></th>\n      <th></th>\n      <th></th>\n      <th></th>\n      <th></th>\n      <th></th>\n      <th></th>\n      <th></th>\n      <th></th>\n      <th></th>\n      <th></th>\n      <th></th>\n      <th></th>\n      <th></th>\n      <th></th>\n      <th></th>\n      <th></th>\n      <th></th>\n      <th></th>\n    </tr>\n  </thead>\n  <tbody>\n    <tr>\n      <th>2014-01-01</th>\n      <td>98.70</td>\n      <td>98.61</td>\n      <td>98.76</td>\n      <td>98.54</td>\n      <td>NaN</td>\n      <td>0.28</td>\n      <td>NaN</td>\n      <td>NaN</td>\n      <td>NaN</td>\n      <td>NaN</td>\n      <td>...</td>\n      <td>80.24</td>\n      <td>80.10</td>\n      <td>0.00</td>\n      <td>235.288</td>\n      <td>203.800</td>\n      <td>1</td>\n      <td>118.000000</td>\n      <td>NaN</td>\n      <td>NaN</td>\n      <td>NaN</td>\n    </tr>\n    <tr>\n      <th>2014-01-02</th>\n      <td>95.44</td>\n      <td>98.50</td>\n      <td>98.97</td>\n      <td>95.34</td>\n      <td>251250.0</td>\n      <td>-3.30</td>\n      <td>117.930000</td>\n      <td>118.730003</td>\n      <td>117.750000</td>\n      <td>118.000000</td>\n      <td>...</td>\n      <td>80.71</td>\n      <td>80.08</td>\n      <td>0.75</td>\n      <td>235.288</td>\n      <td>203.800</td>\n      <td>0</td>\n      <td>119.290001</td>\n      <td>NaN</td>\n      <td>NaN</td>\n      <td>NaN</td>\n    </tr>\n    <tr>\n      <th>2014-01-03</th>\n      <td>93.96</td>\n      <td>95.47</td>\n      <td>95.74</td>\n      <td>93.86</td>\n      <td>215520.0</td>\n      <td>-1.55</td>\n      <td>118.639999</td>\n      <td>119.620003</td>\n      <td>118.589996</td>\n      <td>119.290001</td>\n      <td>...</td>\n      <td>80.89</td>\n      <td>80.49</td>\n      <td>0.20</td>\n      <td>235.288</td>\n      <td>203.800</td>\n      <td>0</td>\n      <td>119.500000</td>\n      <td>118.000000</td>\n      <td>NaN</td>\n      <td>NaN</td>\n    </tr>\n    <tr>\n      <th>2014-01-06</th>\n      <td>93.43</td>\n      <td>94.18</td>\n      <td>94.59</td>\n      <td>93.20</td>\n      <td>189380.0</td>\n      <td>-0.56</td>\n      <td>119.760002</td>\n      <td>120.389999</td>\n      <td>117.110001</td>\n      <td>119.500000</td>\n      <td>...</td>\n      <td>80.91</td>\n      <td>80.54</td>\n      <td>-0.17</td>\n      <td>235.288</td>\n      <td>203.800</td>\n      <td>0</td>\n      <td>118.820000</td>\n      <td>119.290001</td>\n      <td>118.000000</td>\n      <td>NaN</td>\n    </tr>\n    <tr>\n      <th>2014-01-07</th>\n      <td>93.67</td>\n      <td>93.60</td>\n      <td>94.22</td>\n      <td>93.35</td>\n      <td>177180.0</td>\n      <td>0.26</td>\n      <td>118.459999</td>\n      <td>118.919998</td>\n      <td>118.129997</td>\n      <td>118.820000</td>\n      <td>...</td>\n      <td>80.95</td>\n      <td>80.60</td>\n      <td>0.22</td>\n      <td>235.288</td>\n      <td>203.800</td>\n      <td>0</td>\n      <td>118.120003</td>\n      <td>119.500000</td>\n      <td>119.290001</td>\n      <td>118.000000</td>\n    </tr>\n    <tr>\n      <th>...</th>\n      <td>...</td>\n      <td>...</td>\n      <td>...</td>\n      <td>...</td>\n      <td>...</td>\n      <td>...</td>\n      <td>...</td>\n      <td>...</td>\n      <td>...</td>\n      <td>...</td>\n      <td>...</td>\n      <td>...</td>\n      <td>...</td>\n      <td>...</td>\n      <td>...</td>\n      <td>...</td>\n      <td>...</td>\n      <td>...</td>\n      <td>...</td>\n      <td>...</td>\n      <td>...</td>\n    </tr>\n    <tr>\n      <th>2024-08-26</th>\n      <td>75.56</td>\n      <td>77.28</td>\n      <td>77.69</td>\n      <td>75.52</td>\n      <td>365120.0</td>\n      <td>-2.21</td>\n      <td>233.449997</td>\n      <td>233.500000</td>\n      <td>232.059998</td>\n      <td>232.759995</td>\n      <td>...</td>\n      <td>104.67</td>\n      <td>104.14</td>\n      <td>0.27</td>\n      <td>313.049</td>\n      <td>255.419</td>\n      <td>0</td>\n      <td>233.389999</td>\n      <td>232.020004</td>\n      <td>229.369995</td>\n      <td>232.149994</td>\n    </tr>\n    <tr>\n      <th>2024-08-27</th>\n      <td>75.56</td>\n      <td>77.28</td>\n      <td>77.69</td>\n      <td>75.52</td>\n      <td>365120.0</td>\n      <td>-2.21</td>\n      <td>231.690002</td>\n      <td>233.470001</td>\n      <td>231.570007</td>\n      <td>233.389999</td>\n      <td>...</td>\n      <td>104.67</td>\n      <td>104.14</td>\n      <td>0.27</td>\n      <td>313.049</td>\n      <td>255.419</td>\n      <td>0</td>\n      <td>231.750000</td>\n      <td>232.759995</td>\n      <td>232.020004</td>\n      <td>229.369995</td>\n    </tr>\n    <tr>\n      <th>2024-08-28</th>\n      <td>75.56</td>\n      <td>77.28</td>\n      <td>77.69</td>\n      <td>75.52</td>\n      <td>365120.0</td>\n      <td>-2.21</td>\n      <td>232.000000</td>\n      <td>232.020004</td>\n      <td>230.729996</td>\n      <td>231.750000</td>\n      <td>...</td>\n      <td>104.67</td>\n      <td>104.14</td>\n      <td>0.27</td>\n      <td>313.049</td>\n      <td>255.419</td>\n      <td>0</td>\n      <td>232.949997</td>\n      <td>233.389999</td>\n      <td>232.759995</td>\n      <td>232.020004</td>\n    </tr>\n    <tr>\n      <th>2024-08-29</th>\n      <td>75.56</td>\n      <td>77.28</td>\n      <td>77.69</td>\n      <td>75.52</td>\n      <td>365120.0</td>\n      <td>-2.21</td>\n      <td>231.949997</td>\n      <td>233.610001</td>\n      <td>231.919998</td>\n      <td>232.949997</td>\n      <td>...</td>\n      <td>104.67</td>\n      <td>104.14</td>\n      <td>0.27</td>\n      <td>313.049</td>\n      <td>255.419</td>\n      <td>0</td>\n      <td>231.289993</td>\n      <td>231.750000</td>\n      <td>233.389999</td>\n      <td>232.759995</td>\n    </tr>\n    <tr>\n      <th>2024-08-30</th>\n      <td>75.56</td>\n      <td>77.28</td>\n      <td>77.69</td>\n      <td>75.52</td>\n      <td>365120.0</td>\n      <td>-2.21</td>\n      <td>232.529999</td>\n      <td>232.860001</td>\n      <td>230.550003</td>\n      <td>231.289993</td>\n      <td>...</td>\n      <td>104.67</td>\n      <td>104.14</td>\n      <td>0.27</td>\n      <td>313.049</td>\n      <td>255.419</td>\n      <td>0</td>\n      <td>NaN</td>\n      <td>232.949997</td>\n      <td>231.750000</td>\n      <td>233.389999</td>\n    </tr>\n  </tbody>\n</table>\n<p>2868 rows × 35 columns</p>\n</div>"
     },
     "execution_count": 238,
     "metadata": {},
     "output_type": "execute_result"
    }
   ],
   "source": [
    "all_data_df['gold_price_to_predict'] = all_data_df['gold_Close'].shift(-1)\n",
    "all_data_df['gold_price_yesterday'] = all_data_df['gold_Close'].shift(1)\n",
    "all_data_df['gold_price_2days'] = all_data_df['gold_Close'].shift(2)\n",
    "all_data_df['gold_price_3days'] = all_data_df['gold_Close'].shift(3)\n",
    "all_data_df"
   ]
  },
  {
   "cell_type": "code",
   "outputs": [
    {
     "data": {
      "text/plain": "            crude_oil_Price  crude_oil_Open  crude_oil_High  crude_oil_Low  \\\nDate                                                                         \n2013-01-01              NaN             NaN             NaN            NaN   \n2013-01-02            93.12           91.78           93.87          91.56   \n2013-01-03            92.92           92.91           93.30          92.49   \n2013-01-04            93.09           92.86           93.21          91.52   \n2013-01-06            93.09           92.86           93.21          91.52   \n...                     ...             ...             ...            ...   \n2024-08-26            75.56           77.28           77.69          75.52   \n2024-08-27            75.56           77.28           77.69          75.52   \n2024-08-28            75.56           77.28           77.69          75.52   \n2024-08-29            75.56           77.28           77.69          75.52   \n2024-08-30            75.56           77.28           77.69          75.52   \n\n            crude_oil_Vol.  crude_oil_Change %   gold_Open   gold_High  \\\nDate                                                                     \n2013-01-01             NaN                 NaN         NaN         NaN   \n2013-01-02        203870.0                1.42         NaN         NaN   \n2013-01-03        189810.0               -0.21         NaN         NaN   \n2013-01-04        210750.0                0.18         NaN         NaN   \n2013-01-06        210750.0                0.18         NaN         NaN   \n...                    ...                 ...         ...         ...   \n2024-08-26        365120.0               -2.21  233.449997  233.500000   \n2024-08-27        365120.0               -2.21  231.690002  233.470001   \n2024-08-28        365120.0               -2.21  232.000000  232.020004   \n2024-08-29        365120.0               -2.21  231.949997  233.610001   \n2024-08-30        365120.0               -2.21  232.529999  232.860001   \n\n              gold_Low  gold_Close  ...  soybean_Price  soybean_Open  \\\nDate                                ...                                \n2013-01-01         NaN         NaN  ...            NaN           NaN   \n2013-01-02         NaN         NaN  ...        1393.13       1432.63   \n2013-01-03         NaN         NaN  ...        1391.25       1393.13   \n2013-01-04         NaN         NaN  ...        1365.75       1391.38   \n2013-01-06         NaN         NaN  ...        1363.25       1367.13   \n...                ...         ...  ...            ...           ...   \n2024-08-26  232.059998  232.759995  ...            NaN           NaN   \n2024-08-27  231.570007  233.389999  ...            NaN           NaN   \n2024-08-28  230.729996  231.750000  ...            NaN           NaN   \n2024-08-29  231.919998  232.949997  ...            NaN           NaN   \n2024-08-30  230.550003  231.289993  ...            NaN           NaN   \n\n            soybean_High  soybean_Low  soybean_Vol.  soybean_Change %  \\\nDate                                                                    \n2013-01-01           NaN          NaN           NaN               NaN   \n2013-01-02        1433.0      1386.38           NaN             -1.09   \n2013-01-03       1395.63      1372.63           NaN             -0.13   \n2013-01-04       1397.13      1356.13           NaN             -1.83   \n2013-01-06       1367.25      1357.63           NaN             -0.18   \n...                  ...          ...           ...               ...   \n2024-08-26           NaN          NaN           NaN               NaN   \n2024-08-27           NaN          NaN           NaN               NaN   \n2024-08-28           NaN          NaN           NaN               NaN   \n2024-08-29           NaN          NaN           NaN               NaN   \n2024-08-30           NaN          NaN           NaN               NaN   \n\n            is_holiday      CPI    PPI  gold_price_shifted  \nDate                                                        \n2013-01-01           1  231.679  202.5                 NaN  \n2013-01-02           0  231.679  202.5                 NaN  \n2013-01-03           0  231.679  202.5                 NaN  \n2013-01-04           0  231.679  202.5                 NaN  \n2013-01-06           0  231.679  202.5                 NaN  \n...                ...      ...    ...                 ...  \n2024-08-26           1      NaN    NaN          233.389999  \n2024-08-27           1      NaN    NaN          231.750000  \n2024-08-28           1      NaN    NaN          232.949997  \n2024-08-29           1      NaN    NaN          231.289993  \n2024-08-30           1      NaN    NaN                 NaN  \n\n[3112 rows x 44 columns]",
      "text/html": "<div>\n<style scoped>\n    .dataframe tbody tr th:only-of-type {\n        vertical-align: middle;\n    }\n\n    .dataframe tbody tr th {\n        vertical-align: top;\n    }\n\n    .dataframe thead th {\n        text-align: right;\n    }\n</style>\n<table border=\"1\" class=\"dataframe\">\n  <thead>\n    <tr style=\"text-align: right;\">\n      <th></th>\n      <th>crude_oil_Price</th>\n      <th>crude_oil_Open</th>\n      <th>crude_oil_High</th>\n      <th>crude_oil_Low</th>\n      <th>crude_oil_Vol.</th>\n      <th>crude_oil_Change %</th>\n      <th>gold_Open</th>\n      <th>gold_High</th>\n      <th>gold_Low</th>\n      <th>gold_Close</th>\n      <th>...</th>\n      <th>soybean_Price</th>\n      <th>soybean_Open</th>\n      <th>soybean_High</th>\n      <th>soybean_Low</th>\n      <th>soybean_Vol.</th>\n      <th>soybean_Change %</th>\n      <th>is_holiday</th>\n      <th>CPI</th>\n      <th>PPI</th>\n      <th>gold_price_shifted</th>\n    </tr>\n    <tr>\n      <th>Date</th>\n      <th></th>\n      <th></th>\n      <th></th>\n      <th></th>\n      <th></th>\n      <th></th>\n      <th></th>\n      <th></th>\n      <th></th>\n      <th></th>\n      <th></th>\n      <th></th>\n      <th></th>\n      <th></th>\n      <th></th>\n      <th></th>\n      <th></th>\n      <th></th>\n      <th></th>\n      <th></th>\n      <th></th>\n    </tr>\n  </thead>\n  <tbody>\n    <tr>\n      <th>2013-01-01</th>\n      <td>NaN</td>\n      <td>NaN</td>\n      <td>NaN</td>\n      <td>NaN</td>\n      <td>NaN</td>\n      <td>NaN</td>\n      <td>NaN</td>\n      <td>NaN</td>\n      <td>NaN</td>\n      <td>NaN</td>\n      <td>...</td>\n      <td>NaN</td>\n      <td>NaN</td>\n      <td>NaN</td>\n      <td>NaN</td>\n      <td>NaN</td>\n      <td>NaN</td>\n      <td>1</td>\n      <td>231.679</td>\n      <td>202.5</td>\n      <td>NaN</td>\n    </tr>\n    <tr>\n      <th>2013-01-02</th>\n      <td>93.12</td>\n      <td>91.78</td>\n      <td>93.87</td>\n      <td>91.56</td>\n      <td>203870.0</td>\n      <td>1.42</td>\n      <td>NaN</td>\n      <td>NaN</td>\n      <td>NaN</td>\n      <td>NaN</td>\n      <td>...</td>\n      <td>1393.13</td>\n      <td>1432.63</td>\n      <td>1433.0</td>\n      <td>1386.38</td>\n      <td>NaN</td>\n      <td>-1.09</td>\n      <td>0</td>\n      <td>231.679</td>\n      <td>202.5</td>\n      <td>NaN</td>\n    </tr>\n    <tr>\n      <th>2013-01-03</th>\n      <td>92.92</td>\n      <td>92.91</td>\n      <td>93.30</td>\n      <td>92.49</td>\n      <td>189810.0</td>\n      <td>-0.21</td>\n      <td>NaN</td>\n      <td>NaN</td>\n      <td>NaN</td>\n      <td>NaN</td>\n      <td>...</td>\n      <td>1391.25</td>\n      <td>1393.13</td>\n      <td>1395.63</td>\n      <td>1372.63</td>\n      <td>NaN</td>\n      <td>-0.13</td>\n      <td>0</td>\n      <td>231.679</td>\n      <td>202.5</td>\n      <td>NaN</td>\n    </tr>\n    <tr>\n      <th>2013-01-04</th>\n      <td>93.09</td>\n      <td>92.86</td>\n      <td>93.21</td>\n      <td>91.52</td>\n      <td>210750.0</td>\n      <td>0.18</td>\n      <td>NaN</td>\n      <td>NaN</td>\n      <td>NaN</td>\n      <td>NaN</td>\n      <td>...</td>\n      <td>1365.75</td>\n      <td>1391.38</td>\n      <td>1397.13</td>\n      <td>1356.13</td>\n      <td>NaN</td>\n      <td>-1.83</td>\n      <td>0</td>\n      <td>231.679</td>\n      <td>202.5</td>\n      <td>NaN</td>\n    </tr>\n    <tr>\n      <th>2013-01-06</th>\n      <td>93.09</td>\n      <td>92.86</td>\n      <td>93.21</td>\n      <td>91.52</td>\n      <td>210750.0</td>\n      <td>0.18</td>\n      <td>NaN</td>\n      <td>NaN</td>\n      <td>NaN</td>\n      <td>NaN</td>\n      <td>...</td>\n      <td>1363.25</td>\n      <td>1367.13</td>\n      <td>1367.25</td>\n      <td>1357.63</td>\n      <td>NaN</td>\n      <td>-0.18</td>\n      <td>0</td>\n      <td>231.679</td>\n      <td>202.5</td>\n      <td>NaN</td>\n    </tr>\n    <tr>\n      <th>...</th>\n      <td>...</td>\n      <td>...</td>\n      <td>...</td>\n      <td>...</td>\n      <td>...</td>\n      <td>...</td>\n      <td>...</td>\n      <td>...</td>\n      <td>...</td>\n      <td>...</td>\n      <td>...</td>\n      <td>...</td>\n      <td>...</td>\n      <td>...</td>\n      <td>...</td>\n      <td>...</td>\n      <td>...</td>\n      <td>...</td>\n      <td>...</td>\n      <td>...</td>\n      <td>...</td>\n    </tr>\n    <tr>\n      <th>2024-08-26</th>\n      <td>75.56</td>\n      <td>77.28</td>\n      <td>77.69</td>\n      <td>75.52</td>\n      <td>365120.0</td>\n      <td>-2.21</td>\n      <td>233.449997</td>\n      <td>233.500000</td>\n      <td>232.059998</td>\n      <td>232.759995</td>\n      <td>...</td>\n      <td>NaN</td>\n      <td>NaN</td>\n      <td>NaN</td>\n      <td>NaN</td>\n      <td>NaN</td>\n      <td>NaN</td>\n      <td>1</td>\n      <td>NaN</td>\n      <td>NaN</td>\n      <td>233.389999</td>\n    </tr>\n    <tr>\n      <th>2024-08-27</th>\n      <td>75.56</td>\n      <td>77.28</td>\n      <td>77.69</td>\n      <td>75.52</td>\n      <td>365120.0</td>\n      <td>-2.21</td>\n      <td>231.690002</td>\n      <td>233.470001</td>\n      <td>231.570007</td>\n      <td>233.389999</td>\n      <td>...</td>\n      <td>NaN</td>\n      <td>NaN</td>\n      <td>NaN</td>\n      <td>NaN</td>\n      <td>NaN</td>\n      <td>NaN</td>\n      <td>1</td>\n      <td>NaN</td>\n      <td>NaN</td>\n      <td>231.750000</td>\n    </tr>\n    <tr>\n      <th>2024-08-28</th>\n      <td>75.56</td>\n      <td>77.28</td>\n      <td>77.69</td>\n      <td>75.52</td>\n      <td>365120.0</td>\n      <td>-2.21</td>\n      <td>232.000000</td>\n      <td>232.020004</td>\n      <td>230.729996</td>\n      <td>231.750000</td>\n      <td>...</td>\n      <td>NaN</td>\n      <td>NaN</td>\n      <td>NaN</td>\n      <td>NaN</td>\n      <td>NaN</td>\n      <td>NaN</td>\n      <td>1</td>\n      <td>NaN</td>\n      <td>NaN</td>\n      <td>232.949997</td>\n    </tr>\n    <tr>\n      <th>2024-08-29</th>\n      <td>75.56</td>\n      <td>77.28</td>\n      <td>77.69</td>\n      <td>75.52</td>\n      <td>365120.0</td>\n      <td>-2.21</td>\n      <td>231.949997</td>\n      <td>233.610001</td>\n      <td>231.919998</td>\n      <td>232.949997</td>\n      <td>...</td>\n      <td>NaN</td>\n      <td>NaN</td>\n      <td>NaN</td>\n      <td>NaN</td>\n      <td>NaN</td>\n      <td>NaN</td>\n      <td>1</td>\n      <td>NaN</td>\n      <td>NaN</td>\n      <td>231.289993</td>\n    </tr>\n    <tr>\n      <th>2024-08-30</th>\n      <td>75.56</td>\n      <td>77.28</td>\n      <td>77.69</td>\n      <td>75.52</td>\n      <td>365120.0</td>\n      <td>-2.21</td>\n      <td>232.529999</td>\n      <td>232.860001</td>\n      <td>230.550003</td>\n      <td>231.289993</td>\n      <td>...</td>\n      <td>NaN</td>\n      <td>NaN</td>\n      <td>NaN</td>\n      <td>NaN</td>\n      <td>NaN</td>\n      <td>NaN</td>\n      <td>1</td>\n      <td>NaN</td>\n      <td>NaN</td>\n      <td>NaN</td>\n    </tr>\n  </tbody>\n</table>\n<p>3112 rows × 44 columns</p>\n</div>"
     },
     "execution_count": 195,
     "metadata": {},
     "output_type": "execute_result"
    }
   ],
   "source": [
    "all_data_df"
   ],
   "metadata": {
    "collapsed": false,
    "ExecuteTime": {
     "end_time": "2024-09-06T10:00:09.592477Z",
     "start_time": "2024-09-06T10:00:09.550799Z"
    }
   },
   "id": "ce24c88eac51980d",
   "execution_count": 195
  },
  {
   "cell_type": "code",
   "outputs": [],
   "source": [],
   "metadata": {
    "collapsed": false
   },
   "id": "1d3e932d6c81f305"
  },
  {
   "cell_type": "code",
   "execution_count": 259,
   "id": "53e9fbc5",
   "metadata": {
    "ExecuteTime": {
     "end_time": "2024-09-06T11:03:31.681819Z",
     "start_time": "2024-09-06T11:03:31.662723Z"
    }
   },
   "outputs": [],
   "source": [
    "X = all_data_df.drop(columns=['gold_price_to_predict'])\n",
    "\n",
    "# Extract y\n",
    "y = all_data_df['gold_price_to_predict']\n",
    "\n",
    "# Perform the train-test split\n",
    "X_train, X_test, y_train, y_test = train_test_split(X, y, test_size=0.2, shuffle=False)"
   ]
  },
  {
   "cell_type": "code",
   "outputs": [
    {
     "data": {
      "text/plain": "            crude_oil_Price  crude_oil_Open  crude_oil_High  crude_oil_Low  \\\nDate                                                                         \n2014-01-01            98.70           98.61           98.76          98.54   \n2014-01-02            95.44           98.50           98.97          95.34   \n2014-01-03            93.96           95.47           95.74          93.86   \n2014-01-06            93.43           94.18           94.59          93.20   \n2014-01-07            93.67           93.60           94.22          93.35   \n...                     ...             ...             ...            ...   \n2022-07-14            95.78           96.57           97.00          90.56   \n2022-07-15            97.59           96.39           99.03          94.57   \n2022-07-18           102.60           97.27          102.80          95.85   \n2022-07-19           104.22          102.00          104.46          99.85   \n2022-07-20           102.26          103.60          104.39         101.51   \n\n            crude_oil_Vol.  crude_oil_Change %   gold_Open   gold_High  \\\nDate                                                                     \n2014-01-01             NaN                0.28         NaN         NaN   \n2014-01-02        251250.0               -3.30  117.930000  118.730003   \n2014-01-03        215520.0               -1.55  118.639999  119.620003   \n2014-01-06        189380.0               -0.56  119.760002  120.389999   \n2014-01-07        177180.0                0.26  118.459999  118.919998   \n...                    ...                 ...         ...         ...   \n2022-07-14        387530.0               -0.54  159.020004  159.830002   \n2022-07-15        240770.0                1.89  159.009995  159.250000   \n2022-07-18         84670.0                5.13  160.080002  160.429993   \n2022-07-19         63150.0                1.58  159.470001  159.869995   \n2022-07-20         28960.0               -1.88  159.710007  159.820007   \n\n              gold_Low  gold_Close  ...  dollar_rate_Open  dollar_rate_High  \\\nDate                                ...                                       \n2014-01-01         NaN         NaN  ...             80.21             80.24   \n2014-01-02  117.750000  118.000000  ...             80.12             80.71   \n2014-01-03  118.589996  119.290001  ...             80.57             80.89   \n2014-01-06  117.110001  119.500000  ...             80.86             80.91   \n2014-01-07  118.129997  118.820000  ...             80.69             80.95   \n...                ...         ...  ...               ...               ...   \n2022-07-14  158.220001  159.330002  ...            108.14            109.29   \n2022-07-15  158.350006  159.009995  ...            108.67            108.71   \n2022-07-18  159.050003  159.160004  ...            107.98            108.04   \n2022-07-19  159.330002  159.539993  ...            107.49            107.63   \n2022-07-20  158.029999  158.039993  ...            106.67            107.25   \n\n            dollar_rate_Low  dollar_rate_Change %  cpi_CPI  ppi_PPI  \\\nDate                                                                  \n2014-01-01            80.10                  0.00  235.288  203.800   \n2014-01-02            80.08                  0.75  235.288  203.800   \n2014-01-03            80.49                  0.20  235.288  203.800   \n2014-01-06            80.54                 -0.17  235.288  203.800   \n2014-01-07            80.60                  0.22  235.288  203.800   \n...                     ...                   ...      ...      ...   \n2022-07-14           108.14                  0.54  294.977  272.274   \n2022-07-15           107.91                 -0.44  294.977  272.274   \n2022-07-18           106.89                 -0.64  294.977  272.274   \n2022-07-19           106.40                 -0.64  294.977  272.274   \n2022-07-20           106.39                  0.37  294.977  272.274   \n\n            is_holiday  gold_price_yesterday  gold_price_2days  \\\nDate                                                             \n2014-01-01           1                   NaN               NaN   \n2014-01-02           0                   NaN               NaN   \n2014-01-03           0            118.000000               NaN   \n2014-01-06           0            119.290001        118.000000   \n2014-01-07           0            119.500000        119.290001   \n...                ...                   ...               ...   \n2022-07-14           0            161.600006        160.830002   \n2022-07-15           0            159.330002        161.600006   \n2022-07-18           0            159.009995        159.330002   \n2022-07-19           0            159.160004        159.009995   \n2022-07-20           0            159.539993        159.160004   \n\n            gold_price_3days  \nDate                          \n2014-01-01               NaN  \n2014-01-02               NaN  \n2014-01-03               NaN  \n2014-01-06               NaN  \n2014-01-07        118.000000  \n...                      ...  \n2022-07-14        161.429993  \n2022-07-15        160.830002  \n2022-07-18        161.600006  \n2022-07-19        159.330002  \n2022-07-20        159.009995  \n\n[2294 rows x 34 columns]",
      "text/html": "<div>\n<style scoped>\n    .dataframe tbody tr th:only-of-type {\n        vertical-align: middle;\n    }\n\n    .dataframe tbody tr th {\n        vertical-align: top;\n    }\n\n    .dataframe thead th {\n        text-align: right;\n    }\n</style>\n<table border=\"1\" class=\"dataframe\">\n  <thead>\n    <tr style=\"text-align: right;\">\n      <th></th>\n      <th>crude_oil_Price</th>\n      <th>crude_oil_Open</th>\n      <th>crude_oil_High</th>\n      <th>crude_oil_Low</th>\n      <th>crude_oil_Vol.</th>\n      <th>crude_oil_Change %</th>\n      <th>gold_Open</th>\n      <th>gold_High</th>\n      <th>gold_Low</th>\n      <th>gold_Close</th>\n      <th>...</th>\n      <th>dollar_rate_Open</th>\n      <th>dollar_rate_High</th>\n      <th>dollar_rate_Low</th>\n      <th>dollar_rate_Change %</th>\n      <th>cpi_CPI</th>\n      <th>ppi_PPI</th>\n      <th>is_holiday</th>\n      <th>gold_price_yesterday</th>\n      <th>gold_price_2days</th>\n      <th>gold_price_3days</th>\n    </tr>\n    <tr>\n      <th>Date</th>\n      <th></th>\n      <th></th>\n      <th></th>\n      <th></th>\n      <th></th>\n      <th></th>\n      <th></th>\n      <th></th>\n      <th></th>\n      <th></th>\n      <th></th>\n      <th></th>\n      <th></th>\n      <th></th>\n      <th></th>\n      <th></th>\n      <th></th>\n      <th></th>\n      <th></th>\n      <th></th>\n      <th></th>\n    </tr>\n  </thead>\n  <tbody>\n    <tr>\n      <th>2014-01-01</th>\n      <td>98.70</td>\n      <td>98.61</td>\n      <td>98.76</td>\n      <td>98.54</td>\n      <td>NaN</td>\n      <td>0.28</td>\n      <td>NaN</td>\n      <td>NaN</td>\n      <td>NaN</td>\n      <td>NaN</td>\n      <td>...</td>\n      <td>80.21</td>\n      <td>80.24</td>\n      <td>80.10</td>\n      <td>0.00</td>\n      <td>235.288</td>\n      <td>203.800</td>\n      <td>1</td>\n      <td>NaN</td>\n      <td>NaN</td>\n      <td>NaN</td>\n    </tr>\n    <tr>\n      <th>2014-01-02</th>\n      <td>95.44</td>\n      <td>98.50</td>\n      <td>98.97</td>\n      <td>95.34</td>\n      <td>251250.0</td>\n      <td>-3.30</td>\n      <td>117.930000</td>\n      <td>118.730003</td>\n      <td>117.750000</td>\n      <td>118.000000</td>\n      <td>...</td>\n      <td>80.12</td>\n      <td>80.71</td>\n      <td>80.08</td>\n      <td>0.75</td>\n      <td>235.288</td>\n      <td>203.800</td>\n      <td>0</td>\n      <td>NaN</td>\n      <td>NaN</td>\n      <td>NaN</td>\n    </tr>\n    <tr>\n      <th>2014-01-03</th>\n      <td>93.96</td>\n      <td>95.47</td>\n      <td>95.74</td>\n      <td>93.86</td>\n      <td>215520.0</td>\n      <td>-1.55</td>\n      <td>118.639999</td>\n      <td>119.620003</td>\n      <td>118.589996</td>\n      <td>119.290001</td>\n      <td>...</td>\n      <td>80.57</td>\n      <td>80.89</td>\n      <td>80.49</td>\n      <td>0.20</td>\n      <td>235.288</td>\n      <td>203.800</td>\n      <td>0</td>\n      <td>118.000000</td>\n      <td>NaN</td>\n      <td>NaN</td>\n    </tr>\n    <tr>\n      <th>2014-01-06</th>\n      <td>93.43</td>\n      <td>94.18</td>\n      <td>94.59</td>\n      <td>93.20</td>\n      <td>189380.0</td>\n      <td>-0.56</td>\n      <td>119.760002</td>\n      <td>120.389999</td>\n      <td>117.110001</td>\n      <td>119.500000</td>\n      <td>...</td>\n      <td>80.86</td>\n      <td>80.91</td>\n      <td>80.54</td>\n      <td>-0.17</td>\n      <td>235.288</td>\n      <td>203.800</td>\n      <td>0</td>\n      <td>119.290001</td>\n      <td>118.000000</td>\n      <td>NaN</td>\n    </tr>\n    <tr>\n      <th>2014-01-07</th>\n      <td>93.67</td>\n      <td>93.60</td>\n      <td>94.22</td>\n      <td>93.35</td>\n      <td>177180.0</td>\n      <td>0.26</td>\n      <td>118.459999</td>\n      <td>118.919998</td>\n      <td>118.129997</td>\n      <td>118.820000</td>\n      <td>...</td>\n      <td>80.69</td>\n      <td>80.95</td>\n      <td>80.60</td>\n      <td>0.22</td>\n      <td>235.288</td>\n      <td>203.800</td>\n      <td>0</td>\n      <td>119.500000</td>\n      <td>119.290001</td>\n      <td>118.000000</td>\n    </tr>\n    <tr>\n      <th>...</th>\n      <td>...</td>\n      <td>...</td>\n      <td>...</td>\n      <td>...</td>\n      <td>...</td>\n      <td>...</td>\n      <td>...</td>\n      <td>...</td>\n      <td>...</td>\n      <td>...</td>\n      <td>...</td>\n      <td>...</td>\n      <td>...</td>\n      <td>...</td>\n      <td>...</td>\n      <td>...</td>\n      <td>...</td>\n      <td>...</td>\n      <td>...</td>\n      <td>...</td>\n      <td>...</td>\n    </tr>\n    <tr>\n      <th>2022-07-14</th>\n      <td>95.78</td>\n      <td>96.57</td>\n      <td>97.00</td>\n      <td>90.56</td>\n      <td>387530.0</td>\n      <td>-0.54</td>\n      <td>159.020004</td>\n      <td>159.830002</td>\n      <td>158.220001</td>\n      <td>159.330002</td>\n      <td>...</td>\n      <td>108.14</td>\n      <td>109.29</td>\n      <td>108.14</td>\n      <td>0.54</td>\n      <td>294.977</td>\n      <td>272.274</td>\n      <td>0</td>\n      <td>161.600006</td>\n      <td>160.830002</td>\n      <td>161.429993</td>\n    </tr>\n    <tr>\n      <th>2022-07-15</th>\n      <td>97.59</td>\n      <td>96.39</td>\n      <td>99.03</td>\n      <td>94.57</td>\n      <td>240770.0</td>\n      <td>1.89</td>\n      <td>159.009995</td>\n      <td>159.250000</td>\n      <td>158.350006</td>\n      <td>159.009995</td>\n      <td>...</td>\n      <td>108.67</td>\n      <td>108.71</td>\n      <td>107.91</td>\n      <td>-0.44</td>\n      <td>294.977</td>\n      <td>272.274</td>\n      <td>0</td>\n      <td>159.330002</td>\n      <td>161.600006</td>\n      <td>160.830002</td>\n    </tr>\n    <tr>\n      <th>2022-07-18</th>\n      <td>102.60</td>\n      <td>97.27</td>\n      <td>102.80</td>\n      <td>95.85</td>\n      <td>84670.0</td>\n      <td>5.13</td>\n      <td>160.080002</td>\n      <td>160.429993</td>\n      <td>159.050003</td>\n      <td>159.160004</td>\n      <td>...</td>\n      <td>107.98</td>\n      <td>108.04</td>\n      <td>106.89</td>\n      <td>-0.64</td>\n      <td>294.977</td>\n      <td>272.274</td>\n      <td>0</td>\n      <td>159.009995</td>\n      <td>159.330002</td>\n      <td>161.600006</td>\n    </tr>\n    <tr>\n      <th>2022-07-19</th>\n      <td>104.22</td>\n      <td>102.00</td>\n      <td>104.46</td>\n      <td>99.85</td>\n      <td>63150.0</td>\n      <td>1.58</td>\n      <td>159.470001</td>\n      <td>159.869995</td>\n      <td>159.330002</td>\n      <td>159.539993</td>\n      <td>...</td>\n      <td>107.49</td>\n      <td>107.63</td>\n      <td>106.40</td>\n      <td>-0.64</td>\n      <td>294.977</td>\n      <td>272.274</td>\n      <td>0</td>\n      <td>159.160004</td>\n      <td>159.009995</td>\n      <td>159.330002</td>\n    </tr>\n    <tr>\n      <th>2022-07-20</th>\n      <td>102.26</td>\n      <td>103.60</td>\n      <td>104.39</td>\n      <td>101.51</td>\n      <td>28960.0</td>\n      <td>-1.88</td>\n      <td>159.710007</td>\n      <td>159.820007</td>\n      <td>158.029999</td>\n      <td>158.039993</td>\n      <td>...</td>\n      <td>106.67</td>\n      <td>107.25</td>\n      <td>106.39</td>\n      <td>0.37</td>\n      <td>294.977</td>\n      <td>272.274</td>\n      <td>0</td>\n      <td>159.539993</td>\n      <td>159.160004</td>\n      <td>159.009995</td>\n    </tr>\n  </tbody>\n</table>\n<p>2294 rows × 34 columns</p>\n</div>"
     },
     "execution_count": 260,
     "metadata": {},
     "output_type": "execute_result"
    }
   ],
   "source": [
    "X_train"
   ],
   "metadata": {
    "collapsed": false,
    "ExecuteTime": {
     "end_time": "2024-09-06T11:03:34.038356Z",
     "start_time": "2024-09-06T11:03:34.015379Z"
    }
   },
   "id": "d7fb415c2c6ca95a",
   "execution_count": 260
  },
  {
   "cell_type": "code",
   "execution_count": 265,
   "id": "370b9f3b85285bd0",
   "metadata": {
    "collapsed": false,
    "pycharm": {
     "name": "#%%\n"
    },
    "ExecuteTime": {
     "end_time": "2024-09-06T11:08:51.684262Z",
     "start_time": "2024-09-06T11:08:51.539260Z"
    }
   },
   "outputs": [
    {
     "name": "stdout",
     "output_type": "stream",
     "text": [
      "Linear Regression Model Summary\n",
      "Intercept: 0.8942773138994937\n",
      "Coefficients: [-1.27783821e-01 -9.97125887e-02  1.64038437e-01  6.44011822e-02\n",
      " -2.11175128e-07  1.20108213e-02  1.77980623e-02 -1.33847944e-01\n",
      "  9.26416491e-02  5.20095931e-01  5.20095931e-01  7.48899965e-09\n",
      "  1.23358993e-03 -1.85111747e-04 -1.62195633e-03  7.58639416e-04\n",
      " -5.72889832e-03 -1.61241491e-01  1.52980023e-01  2.70671242e-01\n",
      " -3.10323340e-01 -3.37250993e-06  2.13729826e-02  1.40609082e-01\n",
      " -2.80037533e-01  3.76724489e-02  8.53044698e-02 -1.46524877e-01\n",
      "  1.65354358e-02 -1.28223964e-02  0.00000000e+00 -4.28119139e-02\n",
      "  2.68295478e-02 -3.45463634e-03]\n",
      "Mean Squared Error (MSE): 2.6743955224915363\n",
      "Mean Absolute Error (MAE): 1.2008843431040424\n",
      "Root Mean Squared Error (RMSE): 1.635357918772382\n",
      "R-squared (R2): 0.9934277765319706\n"
     ]
    }
   ],
   "source": [
    "#data_len = len(df_clean)\n",
    "\"\"\"features = df_clean.loc[:, ~df_clean.columns.str.contains('gold')]\n",
    "gold = df_clean['gold_price_in_7_days']\n",
    "X_train = features.iloc[:int(data_len*0.8)]\n",
    "X_test = features.iloc[int(data_len*0.8):]\n",
    "y_train = gold.iloc[:int(data_len*0.8)]\n",
    "y_test = gold.iloc[int(data_len*0.8):]\"\"\"\n",
    "X_train_dropped = X_train.dropna()\n",
    "y_train_dropped = y_train[X_train_dropped.index]\n",
    "\n",
    "# Drop rows with NaN in X_test and y_test\n",
    "X_test_dropped = X_test.dropna()\n",
    "y_test_dropped = y_test.loc[X_test_dropped.index]  # Drop NaNs based on indices in X_test_dropped\n",
    "\n",
    "# Ensure that y_test_dropped does not contain NaN values\n",
    "X_test_dropped = X_test_dropped.dropna()\n",
    "y_test_dropped = y_test_dropped.dropna()\n",
    "\n",
    "# Check if indices still match after dropping NaNs\n",
    "common_index = X_test_dropped.index.intersection(y_test_dropped.index)\n",
    "X_test_dropped = X_test_dropped.loc[common_index]\n",
    "y_test_dropped = y_test_dropped.loc[common_index]\n",
    "# Initialize and train the model\n",
    "model = LinearRegression()\n",
    "model.fit(X_train_dropped, y_train_dropped)\n",
    "\n",
    "# Predict on test data\n",
    "y_pred = model.predict(X_test_dropped)\n",
    "#print(model.summary)\n",
    "# Evaluate the model\n",
    "mse = mean_squared_error(y_test_dropped, y_pred)\n",
    "rmse = np.sqrt(mse)\n",
    "r2 = r2_score(y_test_dropped, y_pred)\n",
    "mae = mean_absolute_error(y_test_dropped, y_pred)\n",
    "\n",
    "\n",
    "print(\"Linear Regression Model Summary\")\n",
    "print(f\"Intercept: {model.intercept_}\")\n",
    "print(f\"Coefficients: {model.coef_}\")\n",
    "print(f\"Mean Squared Error (MSE): {mse}\")\n",
    "print(f\"Mean Absolute Error (MAE): {mae}\")\n",
    "print(f\"Root Mean Squared Error (RMSE): {rmse}\")\n",
    "print(f\"R-squared (R2): {r2}\")"
   ]
  },
  {
   "cell_type": "code",
   "outputs": [],
   "source": [],
   "metadata": {
    "collapsed": false
   },
   "id": "e2f07a787ff3806b"
  },
  {
   "cell_type": "code",
   "outputs": [
    {
     "name": "stdout",
     "output_type": "stream",
     "text": [
      "                Actual   Predicted\n",
      "Date                              \n",
      "2022-07-21  160.669998  160.089559\n",
      "2022-07-22  160.229996  160.623221\n",
      "2022-07-25  160.039993  160.096381\n",
      "2022-07-26  161.669998  160.356337\n",
      "2022-07-27  163.639999  161.491052\n"
     ]
    }
   ],
   "source": [
    "comparison_df = pd.DataFrame({\n",
    "    'Actual': y_test_dropped,\n",
    "    'Predicted': y_pred\n",
    "})\n",
    "\n",
    "# Display the first few rows of the DataFrame\n",
    "print(comparison_df.head())"
   ],
   "metadata": {
    "collapsed": false,
    "ExecuteTime": {
     "end_time": "2024-09-06T11:05:36.890825Z",
     "start_time": "2024-09-06T11:05:36.883204Z"
    }
   },
   "id": "8db1ddeae511bd6a",
   "execution_count": 263
  },
  {
   "cell_type": "code",
   "execution_count": null,
   "id": "eccbbef0",
   "metadata": {},
   "outputs": [],
   "source": [
    "print(y_pred)"
   ]
  },
  {
   "cell_type": "code",
   "execution_count": null,
   "id": "65d534975bcd7e5d",
   "metadata": {
    "collapsed": false,
    "pycharm": {
     "name": "#%%\n"
    }
   },
   "outputs": [],
   "source": [
    "len(df_clean.columns)"
   ]
  },
  {
   "cell_type": "code",
   "execution_count": null,
   "id": "f640f9d211bb9ecb",
   "metadata": {
    "collapsed": false,
    "pycharm": {
     "name": "#%%\n"
    }
   },
   "outputs": [],
   "source": [
    "import numpy as np"
   ]
  },
  {
   "cell_type": "code",
   "execution_count": null,
   "id": "a8e71abd0f701c7",
   "metadata": {
    "collapsed": false,
    "pycharm": {
     "name": "#%%\n"
    }
   },
   "outputs": [],
   "source": [
    "np.array([model.feature_names_in_, model.coef_]).T"
   ]
  }
 ],
 "metadata": {
  "kernelspec": {
   "display_name": "Python 3",
   "language": "python",
   "name": "python3"
  },
  "language_info": {
   "codemirror_mode": {
    "name": "ipython",
    "version": 3
   },
   "file_extension": ".py",
   "mimetype": "text/x-python",
   "name": "python",
   "nbconvert_exporter": "python",
   "pygments_lexer": "ipython3",
   "version": "3.9.7"
  }
 },
 "nbformat": 4,
 "nbformat_minor": 5
}
